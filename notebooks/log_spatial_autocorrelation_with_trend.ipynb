{
 "cells": [
  {
   "cell_type": "code",
   "execution_count": null,
   "metadata": {
    "collapsed": true
   },
   "outputs": [],
   "source": [
    "# Load Biospytial modules and etc.\n",
    "%matplotlib inline\n",
    "import sys\n",
    "sys.path.append('/apps')\n",
    "import django\n",
    "django.setup()\n",
    "import pandas as pd\n",
    "import numpy as np\n",
    "import matplotlib.pyplot as plt\n",
    "## Use the ggplot style\n",
    "plt.style.use('ggplot')"
   ]
  },
  {
   "cell_type": "code",
   "execution_count": null,
   "metadata": {
    "collapsed": false
   },
   "outputs": [],
   "source": [
    "from external_plugins.spystats import tools"
   ]
  },
  {
   "cell_type": "code",
   "execution_count": null,
   "metadata": {
    "collapsed": false
   },
   "outputs": [],
   "source": [
    "# My mac\n",
    "#data = pd.read_csv(\"/RawDataCSV/plotsClimateData_11092017.csv\")\n",
    "# My Linux desktop\n",
    "data = pd.read_csv(\"/RawDataCSV/idiv_share/plotsClimateData_11092017.csv\")\n"
   ]
  },
  {
   "cell_type": "code",
   "execution_count": null,
   "metadata": {
    "collapsed": false
   },
   "outputs": [],
   "source": [
    "%time new_data = tools.toGeoDataFrame(pandas_dataframe=data,xcoord_name='LON',ycoord_name='LAT')"
   ]
  },
  {
   "cell_type": "raw",
   "metadata": {
    "collapsed": false
   },
   "source": [
    "from django.contrib.gis import geos\n",
    "import geopandas as gpd\n",
    "from shapely.geometry import Point\n",
    "\n",
    "%time data['geometry'] = data.apply(lambda z: Point(z.LON, z.LAT), axis=1)\n",
    "%time new_data = gpd.GeoDataFrame(data)"
   ]
  },
  {
   "cell_type": "markdown",
   "metadata": {},
   "source": [
    "## Let´s reproject to Alberts or something with distance"
   ]
  },
  {
   "cell_type": "markdown",
   "metadata": {},
   "source": [
    "### Uncomment to reproject\n",
    "proj string taken from: http://spatialreference.org/"
   ]
  },
  {
   "cell_type": "code",
   "execution_count": null,
   "metadata": {
    "collapsed": false
   },
   "outputs": [],
   "source": [
    "new_data =  new_data.to_crs(\"+proj=aea +lat_1=29.5 +lat_2=45.5 +lat_0=37.5 +lon_0=-96 +x_0=0 +y_0=0 +ellps=GRS80 +datum=NAD83 +units=m +no_defs \")"
   ]
  },
  {
   "cell_type": "markdown",
   "metadata": {},
   "source": [
    "## Add log of the Biomass"
   ]
  },
  {
   "cell_type": "code",
   "execution_count": null,
   "metadata": {
    "collapsed": false
   },
   "outputs": [],
   "source": [
    "new_data['logBiomass'] = new_data.apply(lambda x : np.log(x.plotBiomass),axis=1)"
   ]
  },
  {
   "cell_type": "code",
   "execution_count": null,
   "metadata": {
    "collapsed": false
   },
   "outputs": [],
   "source": [
    "new_data['newLon'] = new_data.apply(lambda c : c.geometry.x, axis=1)\n",
    "new_data['newLat'] = new_data.apply(lambda c : c.geometry.y, axis=1)"
   ]
  },
  {
   "cell_type": "code",
   "execution_count": null,
   "metadata": {
    "collapsed": false
   },
   "outputs": [],
   "source": [
    "new_data.plot(column='SppN')"
   ]
  },
  {
   "cell_type": "code",
   "execution_count": null,
   "metadata": {
    "collapsed": true
   },
   "outputs": [],
   "source": [
    "new_data['logBiomass'] = np.log(new_data.plotBiomass)"
   ]
  },
  {
   "cell_type": "code",
   "execution_count": null,
   "metadata": {
    "collapsed": false
   },
   "outputs": [],
   "source": [
    "new_data.logBiomass.plot.hist()"
   ]
  },
  {
   "cell_type": "markdown",
   "metadata": {},
   "source": [
    "## Linear Regression"
   ]
  },
  {
   "cell_type": "code",
   "execution_count": null,
   "metadata": {
    "collapsed": false
   },
   "outputs": [],
   "source": [
    "### Now with statsmodels.api\n",
    "\n",
    "#xx = X.SppN.values.reshape(-1,1)\n",
    "#xx = sm.add_constant(xx)\n",
    "#model = sm.OLS(Y.values.reshape(-1,1),xx)\n",
    "import statsmodels.formula.api as smf\n",
    "model = smf.ols(formula='logBiomass ~ SppN',data=new_data)\n",
    "results = model.fit()\n",
    "param_model = results.params\n",
    "results.summary()"
   ]
  },
  {
   "cell_type": "code",
   "execution_count": null,
   "metadata": {
    "collapsed": false
   },
   "outputs": [],
   "source": [
    "new_data['residuals1'] = results.resid"
   ]
  },
  {
   "cell_type": "markdown",
   "metadata": {},
   "source": [
    "# STOPPPP!!"
   ]
  },
  {
   "cell_type": "markdown",
   "metadata": {},
   "source": [
    "## The area is very big -> 35000 points. \n",
    "We need to make a subset of this\n"
   ]
  },
  {
   "cell_type": "code",
   "execution_count": null,
   "metadata": {
    "collapsed": false
   },
   "outputs": [],
   "source": [
    "# COnsider the the following subregion\n",
    "section = new_data[lambda x:  (x.LON > -90) & (x.LON < -85) & (x.LAT > 40) & (x.LAT < 45) ]\n",
    "section.plot(column='residuals1')\n",
    "section.plot(column='plotBiomass')"
   ]
  },
  {
   "cell_type": "code",
   "execution_count": null,
   "metadata": {
    "collapsed": false
   },
   "outputs": [],
   "source": [
    "vg = tools.Variogram(section,'residuals1')\n",
    "#vg.calculate_empirical(n_bins=50)\n",
    "%time vg.plot(num_iterations=40,n_bins=40)"
   ]
  },
  {
   "cell_type": "code",
   "execution_count": null,
   "metadata": {
    "collapsed": false
   },
   "outputs": [],
   "source": [
    "plt.scatter(section.newLon,section.residuals1)"
   ]
  },
  {
   "cell_type": "code",
   "execution_count": null,
   "metadata": {
    "collapsed": false
   },
   "outputs": [],
   "source": [
    "plt.scatter(section.newLat,section.residuals1)"
   ]
  },
  {
   "cell_type": "code",
   "execution_count": null,
   "metadata": {
    "collapsed": true
   },
   "outputs": [],
   "source": []
  },
  {
   "cell_type": "code",
   "execution_count": null,
   "metadata": {
    "collapsed": true
   },
   "outputs": [],
   "source": []
  },
  {
   "cell_type": "code",
   "execution_count": null,
   "metadata": {
    "collapsed": true
   },
   "outputs": [],
   "source": []
  },
  {
   "cell_type": "code",
   "execution_count": null,
   "metadata": {
    "collapsed": true
   },
   "outputs": [],
   "source": []
  },
  {
   "cell_type": "markdown",
   "metadata": {},
   "source": [
    "# Model Fitting Using a GLM \n",
    "\n",
    "The general model will have the form:\n",
    "$$ Biomass(x,y) = \\beta_1 AET + \\beta_2 Age + Z(x,y) + \\epsilon $$\n",
    "Where:\n",
    "$\\beta_1$ and $\\beta_2$ are model parameters, $Z(x,y)$ is the *Spatial Autocorrelation* process and $\\epsilon \\sim N(0,\\sigma^2)$"
   ]
  },
  {
   "cell_type": "code",
   "execution_count": null,
   "metadata": {
    "collapsed": false
   },
   "outputs": [],
   "source": [
    "len(data.lon)\n",
    "#X = data[['AET','StandAge','lon','lat']]\n",
    "#X = section[['SppN','lon','lat']]\n",
    "X = section[['SppN','newLon','newLat']]\n",
    "#X = data[['lon','lat']]\n",
    "Y = section['plotBiomass']\n",
    "logY = section['logBiomass']\n",
    "#Y = data[['SppN']]\n",
    "## First step in spatial autocorrelation\n",
    "#Y = pd.DataFrame(np.zeros(len(Y)))\n",
    "## Let´s take a small sample only for the spatial autocorrelation\n",
    "import numpy as np\n",
    "sample_size = 2000\n",
    "randindx = np.random.randint(0,X.shape[0],sample_size)\n",
    "nX = X.loc[randindx]\n",
    "nY = Y.loc[randindx]\n"
   ]
  },
  {
   "cell_type": "code",
   "execution_count": null,
   "metadata": {
    "collapsed": false
   },
   "outputs": [],
   "source": [
    "plt.scatter(X.SppN,logY)"
   ]
  },
  {
   "cell_type": "code",
   "execution_count": null,
   "metadata": {
    "collapsed": false
   },
   "outputs": [],
   "source": [
    "logY.plot.hist(title=\"log-Biomass hist\")"
   ]
  },
  {
   "cell_type": "code",
   "execution_count": null,
   "metadata": {
    "collapsed": false
   },
   "outputs": [],
   "source": [
    "# Import GPFlow\n",
    "import GPflow as gf\n",
    "k = gf.kernels.Matern12(2, active_dims = [0,1],lengthscales=300000 )\n",
    "k = gf.kernels.Matern12(2,lengthscales=700000) + gf.kernels.Constant?"
   ]
  },
  {
   "cell_type": "code",
   "execution_count": null,
   "metadata": {
    "collapsed": true
   },
   "outputs": [],
   "source": [
    "k = gf.kernels.RBF(2,variance=2.0,lengthscales=4000) + gf.kernels.RBF(2,variance=2.0,lengthscales=700000) + gf.kernels.Constant(2,variance=1.0,active_dims=[0,1])"
   ]
  },
  {
   "cell_type": "code",
   "execution_count": null,
   "metadata": {
    "collapsed": false
   },
   "outputs": [],
   "source": [
    "model = gf.gpr.GPR(section[['newLon','newLat']].as_matrix(),section.residuals1.values.reshape(-1,1),k)"
   ]
  },
  {
   "cell_type": "code",
   "execution_count": null,
   "metadata": {
    "collapsed": false
   },
   "outputs": [],
   "source": [
    "%time model.optimize()"
   ]
  },
  {
   "cell_type": "code",
   "execution_count": null,
   "metadata": {
    "collapsed": false
   },
   "outputs": [],
   "source": [
    "model.get_parameter_dict()"
   ]
  },
  {
   "cell_type": "markdown",
   "metadata": {},
   "source": [
    "# Hasta Aqui!, Lo dem'as son tonterias y retazos"
   ]
  },
  {
   "cell_type": "code",
   "execution_count": null,
   "metadata": {
    "collapsed": false
   },
   "outputs": [],
   "source": [
    "import numpy as np\n",
    "Nn = 300\n",
    "dsc = section\n",
    "predicted_x = np.linspace(min(dsc.newLon),max(dsc.newLon),Nn)\n",
    "predicted_y = np.linspace(min(dsc.newLat),max(dsc.newLat),Nn)\n",
    "Xx, Yy = np.meshgrid(predicted_x,predicted_y)\n",
    "## Fake richness\n",
    "fake_sp_rich = np.ones(len(Xx.ravel()))\n",
    "predicted_coordinates = np.vstack([ Xx.ravel(), Yy.ravel()]).transpose()\n",
    "#predicted_coordinates = np.vstack([section.SppN, section.newLon,section.newLat]).transpose()"
   ]
  },
  {
   "cell_type": "code",
   "execution_count": null,
   "metadata": {
    "collapsed": false
   },
   "outputs": [],
   "source": [
    "predicted_coordinates.shape"
   ]
  },
  {
   "cell_type": "code",
   "execution_count": null,
   "metadata": {
    "collapsed": false
   },
   "outputs": [],
   "source": [
    "means,variances = model.predict_y(predicted_coordinates)"
   ]
  },
  {
   "cell_type": "code",
   "execution_count": null,
   "metadata": {
    "collapsed": false
   },
   "outputs": [],
   "source": [
    "means = map(lambda x : np.exp(x),means)\n",
    "variances = map(lambda x : np.exp(x),variances)"
   ]
  },
  {
   "cell_type": "code",
   "execution_count": null,
   "metadata": {
    "collapsed": false
   },
   "outputs": [],
   "source": [
    "sum(means)"
   ]
  },
  {
   "cell_type": "code",
   "execution_count": null,
   "metadata": {
    "collapsed": false
   },
   "outputs": [],
   "source": [
    "fig = plt.figure(figsize=(16,10), dpi= 80, facecolor='w', edgecolor='w')\n",
    "#plt.pcolor(Xx,Yy,np.sqrt(variances.reshape(Nn,Nn))) #,cmap=plt.cm.Greens)\n",
    "plt.pcolormesh(Xx,Yy,np.sqrt(variances.reshape(Nn,Nn)))\n",
    "plt.colorbar()\n",
    "plt.scatter(dsc.newLon,dsc.newLat,c=dsc.SppN,edgecolors='')\n",
    "plt.title(\"VAriance Biomass\")\n",
    "plt.colorbar()"
   ]
  },
  {
   "cell_type": "code",
   "execution_count": null,
   "metadata": {
    "collapsed": false
   },
   "outputs": [],
   "source": [
    "import cartopy\n",
    "plt.figure(figsize=(17,11))\n",
    "\n",
    "proj = cartopy.crs.PlateCarree()\n",
    "ax = plt.subplot(111, projection=proj)\n",
    "\n",
    "\n",
    "ax = plt.axes(projection=proj)\n",
    "#algo = new_data.plot(column='SppN',ax=ax,cmap=colormap,edgecolors='')\n",
    "\n",
    "\n",
    "#ax.set_extent([-93, -70, 30, 50])\n",
    "#ax.set_extent([-100, -60, 20, 50])\n",
    "ax.set_extent([-95, -70, 25, 45])\n",
    "\n",
    "#ax.add_feature(cartopy.feature.LAND)\n",
    "ax.add_feature(cartopy.feature.OCEAN)\n",
    "ax.add_feature(cartopy.feature.COASTLINE)\n",
    "ax.add_feature(cartopy.feature.BORDERS, linestyle=':')\n",
    "ax.add_feature(cartopy.feature.LAKES, alpha=0.9)\n",
    "ax.stock_img()\n",
    "#ax.add_geometries(new_data.geometry,crs=cartopy.crs.PlateCarree())\n",
    "#ax.add_feature(cartopy.feature.RIVERS)\n",
    "mm = ax.pcolormesh(Xx,Yy,means.reshape(Nn,Nn),transform=proj )\n",
    "#cs = plt.contour(Xx,Yy,np.sqrt(variances).reshape(Nn,Nn),linewidths=2,cmap=plt.cm.Greys_r,linestyles='dotted')\n",
    "cs = plt.contour(Xx,Yy,means.reshape(Nn,Nn),linewidths=2,colors='k',linestyles='dotted',levels=[4.0,5.0,6.0,7.0,8.0])\n",
    "plt.clabel(cs, fontsize=16,inline=True,fmt='%1.1f')\n",
    "#ax.scatter(new_data.lon,new_data.lat,c=new_data.error,edgecolors='',transform=proj,cmap=plt.cm.Greys,alpha=0.2)\n",
    "plt.colorbar(mm)\n",
    "plt.title(\"Predicted Species Richness\")\n",
    "\n",
    "\n",
    "#(x.LON > -90) & (x.LON < -80) & (x.LAT > 40) & (x.LAT < 50)"
   ]
  },
  {
   "cell_type": "markdown",
   "metadata": {},
   "source": [
    "## Residuals of $ Biomass ~ SppRich + Z(x,y) + \\epsilon $\n",
    "Using all data\n",
    "\n"
   ]
  },
  {
   "cell_type": "markdown",
   "metadata": {},
   "source": []
  },
  {
   "cell_type": "markdown",
   "metadata": {},
   "source": [
    "## Model Analysis\n"
   ]
  },
  {
   "cell_type": "code",
   "execution_count": null,
   "metadata": {
    "collapsed": false
   },
   "outputs": [],
   "source": [
    "model.kern"
   ]
  },
  {
   "cell_type": "code",
   "execution_count": null,
   "metadata": {
    "collapsed": false
   },
   "outputs": [],
   "source": [
    "model.likelihood"
   ]
  },
  {
   "cell_type": "markdown",
   "metadata": {},
   "source": [
    "## Let's calculate the residuals"
   ]
  },
  {
   "cell_type": "code",
   "execution_count": null,
   "metadata": {
    "collapsed": false
   },
   "outputs": [],
   "source": [
    "X_ = section[['LON','LAT']]\n",
    "%time resid_hat, resid_hat_variance = model.predict_y(X_)"
   ]
  },
  {
   "cell_type": "code",
   "execution_count": null,
   "metadata": {
    "collapsed": false
   },
   "outputs": [],
   "source": [
    "resid_hat.shape"
   ]
  },
  {
   "cell_type": "code",
   "execution_count": null,
   "metadata": {
    "collapsed": false
   },
   "outputs": [],
   "source": [
    "qr_errors = qr_errors.values.reshape(len(qr_errors),1)"
   ]
  },
  {
   "cell_type": "code",
   "execution_count": null,
   "metadata": {
    "collapsed": false
   },
   "outputs": [],
   "source": [
    "#new_data= new_data.assign(error=lambda y : (y.SppN - y.pred_y)**2 )\n",
    "sqr_error_errors = pd.DataFrame((qr_errors - resid_hat)**2)"
   ]
  },
  {
   "cell_type": "code",
   "execution_count": null,
   "metadata": {
    "collapsed": false
   },
   "outputs": [],
   "source": [
    "print(sqr_error_errors[0].mean())\n",
    "print(sqr_error_errors[0].std())"
   ]
  },
  {
   "cell_type": "code",
   "execution_count": null,
   "metadata": {
    "collapsed": false
   },
   "outputs": [],
   "source": [
    "true_error"
   ]
  },
  {
   "cell_type": "code",
   "execution_count": null,
   "metadata": {
    "collapsed": false
   },
   "outputs": [],
   "source": [
    "sqr_error_errors.mean()"
   ]
  },
  {
   "cell_type": "code",
   "execution_count": null,
   "metadata": {
    "collapsed": false
   },
   "outputs": [],
   "source": [
    "k.ARD?"
   ]
  },
  {
   "cell_type": "code",
   "execution_count": null,
   "metadata": {
    "collapsed": true
   },
   "outputs": [],
   "source": []
  }
 ],
 "metadata": {
  "kernelspec": {
   "display_name": "Django Shell-Plus",
   "language": "python",
   "name": "django_extensions"
  },
  "language_info": {
   "codemirror_mode": {
    "name": "ipython",
    "version": 2
   },
   "file_extension": ".py",
   "mimetype": "text/x-python",
   "name": "python",
   "nbconvert_exporter": "python",
   "pygments_lexer": "ipython2",
   "version": "2.7.11"
  }
 },
 "nbformat": 4,
 "nbformat_minor": 0
}
