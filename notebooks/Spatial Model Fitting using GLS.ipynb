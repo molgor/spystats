{
 "cells": [
  {
   "cell_type": "markdown",
   "metadata": {},
   "source": [
    "# Spatial Model fitting in GLS\n",
    "In this exercise we will fit a linear model using a Spatial structure as covariance matrix. \n",
    "We will use GLS to get better estimators.\n",
    "\n",
    "As always we will need to load the necessary libraries."
   ]
  },
  {
   "cell_type": "code",
   "execution_count": 5,
   "metadata": {
    "collapsed": false
   },
   "outputs": [],
   "source": [
    "# Load Biospytial modules and etc.\n",
    "%matplotlib inline\n",
    "import sys\n",
    "sys.path.append('/apps')\n",
    "sys.path.append('..')\n",
    "sys.path.append('../spystats')\n",
    "import django\n",
    "django.setup()\n",
    "import pandas as pd\n",
    "import matplotlib.pyplot as plt\n",
    "import numpy as np\n",
    "## Use the ggplot style\n",
    "plt.style.use('ggplot')\n",
    "\n",
    "import tools"
   ]
  },
  {
   "cell_type": "markdown",
   "metadata": {
    "collapsed": false
   },
   "source": [
    "Use this to automate the process. Be carefull it can overwrite current results\n",
    "\n",
    "`run ../HEC_runs/fit_fia_logbiomass_logspp_GLS.py /RawDataCSV/idiv_share/plotsClimateData_11092017.csv /apps/external_plugins/spystats/HEC_runs/results/logbiomas_logsppn_res.csv -85 -80 30 35`"
   ]
  },
  {
   "cell_type": "markdown",
   "metadata": {},
   "source": [
    "## Importing data\n",
    "We will use the FIA dataset and for exemplary purposes we will take a subsample of this data. \n",
    "Also important.\n",
    "The empirical variogram has been calculated for the entire data set using the residuals of an OLS model. \n",
    "\n",
    "We will use some auxiliary functions defined in the `fit_fia_logbiomass_logspp_GLS`.\n",
    "You can inspect the functions using the ?? symbol."
   ]
  },
  {
   "cell_type": "code",
   "execution_count": null,
   "metadata": {
    "collapsed": true
   },
   "outputs": [],
   "source": []
  },
  {
   "cell_type": "code",
   "execution_count": 6,
   "metadata": {
    "collapsed": false
   },
   "outputs": [],
   "source": [
    "from HEC_runs.fit_fia_logbiomass_logspp_GLS import prepareDataFrame,loadVariogramFromData,buildSpatialStructure, calculateGLS, initAnalysis, fitGLSRobust"
   ]
  },
  {
   "cell_type": "code",
   "execution_count": 7,
   "metadata": {
    "collapsed": false
   },
   "outputs": [
    {
     "name": "stderr",
     "output_type": "stream",
     "text": [
      "INFO:HEC_runs.fit_fia_logbiomass_logspp_GLS:Reprojecting to Alberts equal area\n",
      "INFO:HEC_runs.fit_fia_logbiomass_logspp_GLS:Removing possible duplicates. \n",
      " This avoids problems of Non Positive semidefinite\n",
      "INFO:HEC_runs.fit_fia_logbiomass_logspp_GLS:Fitting OLS linear model: logBiomass ~ logSppN \n",
      "INFO:HEC_runs.fit_fia_logbiomass_logspp_GLS:Subselecting Region\n"
     ]
    }
   ],
   "source": [
    "section = initAnalysis(\"/RawDataCSV/idiv_share/FIA_Plots_Biomass_11092017.csv\",\n",
    "                        \"/apps/external_plugins/spystats/HEC_runs/results/variogram/data_envelope.csv\",\n",
    "                       -130,-60,30,40)"
   ]
  },
  {
   "cell_type": "code",
   "execution_count": null,
   "metadata": {
    "collapsed": false
   },
   "outputs": [],
   "source": [
    "#section = initAnalysis(\"/RawDataCSV/idiv_share/plotsClimateData_11092017.csv\",\n",
    "#                        \"/apps/external_plugins/spystats/HEC_runs/results/variogram/data_envelope.csv\",\n",
    "#                       -85,-80,30,35)\n",
    "\n",
    "# IN HEC\n",
    "#section = initAnalysis(\"/home/hpc/28/escamill/csv_data/idiv/FIA_Plots_Biomass_11092017.csv\",\"/home/hpc/28/escamill/spystats/HEC_runs/results/variogram/data_envelope.csv\",-85,-80,30,35)"
   ]
  },
  {
   "cell_type": "code",
   "execution_count": 8,
   "metadata": {
    "collapsed": false
   },
   "outputs": [
    {
     "data": {
      "text/plain": [
       "(18414, 22)"
      ]
     },
     "execution_count": 8,
     "metadata": {},
     "output_type": "execute_result"
    }
   ],
   "source": [
    "section.shape"
   ]
  },
  {
   "cell_type": "markdown",
   "metadata": {},
   "source": [
    "Now we will obtain the data from the calculated empirical variogram."
   ]
  },
  {
   "cell_type": "code",
   "execution_count": 9,
   "metadata": {
    "collapsed": false
   },
   "outputs": [
    {
     "name": "stderr",
     "output_type": "stream",
     "text": [
      "INFO:HEC_runs.fit_fia_logbiomass_logspp_GLS:Reading the empirical Variogram file\n",
      "INFO:HEC_runs.fit_fia_logbiomass_logspp_GLS:Instantiating a Variogram object with the values calculated before\n",
      "INFO:HEC_runs.fit_fia_logbiomass_logspp_GLS:Dropping possible Nans\n",
      "INFO:HEC_runs.fit_fia_logbiomass_logspp_GLS:Instantiating Model...\n",
      "INFO:HEC_runs.fit_fia_logbiomass_logspp_GLS:fitting whittle Model with the empirical variogram\n",
      "../spystats/tools.py:625: RuntimeWarning: divide by zero encountered in power\n",
      "  g_h = ((sill - nugget)*(1 - np.exp(-(h**alpha / range_a**alpha)))) + nugget*Ih\n",
      "INFO:HEC_runs.fit_fia_logbiomass_logspp_GLS:Model fitted\n"
     ]
    }
   ],
   "source": [
    "gvg,tt = loadVariogramFromData(\"/apps/external_plugins/spystats/HEC_runs/results/variogram/data_envelope.csv\",section)"
   ]
  },
  {
   "cell_type": "code",
   "execution_count": 10,
   "metadata": {
    "collapsed": false
   },
   "outputs": [
    {
     "data": {
      "image/png": "[encoded data removed]",
      "text/plain": [
       "<matplotlib.figure.Figure at 0x7f212e047c50>"
      ]
     },
     "metadata": {},
     "output_type": "display_data"
    }
   ],
   "source": [
    "gvg.plot(refresh=False,with_envelope=True)"
   ]
  },
  {
   "cell_type": "code",
   "execution_count": 11,
   "metadata": {
    "collapsed": false
   },
   "outputs": [
    {
     "name": "stderr",
     "output_type": "stream",
     "text": [
      "INFO:HEC_runs.fit_fia_logbiomass_logspp_GLS:Building Spatial Covariance Matrix\n",
      "INFO:HEC_runs.fit_fia_logbiomass_logspp_GLS:Calculating Distance Matrix\n",
      "INFO:HEC_runs.fit_fia_logbiomass_logspp_GLS:Calculating GLS estimators\n",
      "INFO:HEC_runs.fit_fia_logbiomass_logspp_GLS:Fitting linear model using GLS\n",
      "INFO:HEC_runs.fit_fia_logbiomass_logspp_GLS:RESULTS::: n_obs: 18414.0, r-squared: 0.898310288151, {{\"Intercept\":8.4466941208,\"logSppN\":0.3949644501},{\"Intercept\":0.0,\"logSppN\":0.0},{\"0\":{\"Intercept\":8.4204865441,\"logSppN\":0.380414251},\"1\":{\"Intercept\":8.4729016975,\"logSppN\":0.4095146491}}}\n",
      "INFO:HEC_runs.fit_fia_logbiomass_logspp_GLS:Recalculating variogram\n",
      "INFO:HEC_runs.fit_fia_logbiomass_logspp_GLS:Refiting Theoretical Variogram\n",
      "../spystats/tools.py:625: RuntimeWarning: invalid value encountered in double_scalars\n",
      "  g_h = ((sill - nugget)*(1 - np.exp(-(h**alpha / range_a**alpha)))) + nugget*Ih\n",
      "INFO:HEC_runs.fit_fia_logbiomass_logspp_GLS:Variogram parameters: range 114072.405376, sill 0.329197277814, nugget 0.313620600222\n",
      "INFO:HEC_runs.fit_fia_logbiomass_logspp_GLS:Building Spatial Covariance Matrix\n",
      "INFO:HEC_runs.fit_fia_logbiomass_logspp_GLS:Calculating Distance Matrix\n",
      "INFO:HEC_runs.fit_fia_logbiomass_logspp_GLS:Calculating GLS estimators\n",
      "INFO:HEC_runs.fit_fia_logbiomass_logspp_GLS:Fitting linear model using GLS\n",
      "INFO:HEC_runs.fit_fia_logbiomass_logspp_GLS:RESULTS::: n_obs: 18414.0, r-squared: 0.757184811666, {{\"Intercept\":8.4268688196,\"logSppN\":0.3933313397},{\"Intercept\":0.0,\"logSppN\":0.0},{\"0\":{\"Intercept\":8.3660482966,\"logSppN\":0.377323159},\"1\":{\"Intercept\":8.4876893426,\"logSppN\":0.4093395204}}}\n",
      "INFO:HEC_runs.fit_fia_logbiomass_logspp_GLS:Recalculating variogram\n",
      "INFO:HEC_runs.fit_fia_logbiomass_logspp_GLS:Refiting Theoretical Variogram\n",
      "INFO:HEC_runs.fit_fia_logbiomass_logspp_GLS:Variogram parameters: range 115372.521709, sill 0.329234784092, nugget 0.313589255985\n",
      "INFO:HEC_runs.fit_fia_logbiomass_logspp_GLS:Building Spatial Covariance Matrix\n",
      "INFO:HEC_runs.fit_fia_logbiomass_logspp_GLS:Calculating Distance Matrix\n",
      "INFO:HEC_runs.fit_fia_logbiomass_logspp_GLS:Calculating GLS estimators\n",
      "INFO:HEC_runs.fit_fia_logbiomass_logspp_GLS:Fitting linear model using GLS\n",
      "INFO:HEC_runs.fit_fia_logbiomass_logspp_GLS:RESULTS::: n_obs: 18414.0, r-squared: 0.753402535991, {{\"Intercept\":8.4270643468,\"logSppN\":0.3933083108},{\"Intercept\":0.0,\"logSppN\":0.0},{\"0\":{\"Intercept\":8.3654998811,\"logSppN\":0.3772973117},\"1\":{\"Intercept\":8.4886288125,\"logSppN\":0.4093193098}}}\n",
      "INFO:HEC_runs.fit_fia_logbiomass_logspp_GLS:Recalculating variogram\n",
      "INFO:HEC_runs.fit_fia_logbiomass_logspp_GLS:Refiting Theoretical Variogram\n",
      "INFO:HEC_runs.fit_fia_logbiomass_logspp_GLS:Variogram parameters: range 115394.979463, sill 0.329235474303, nugget 0.313588820165\n",
      "INFO:HEC_runs.fit_fia_logbiomass_logspp_GLS:Building Spatial Covariance Matrix\n",
      "INFO:HEC_runs.fit_fia_logbiomass_logspp_GLS:Calculating Distance Matrix\n",
      "INFO:HEC_runs.fit_fia_logbiomass_logspp_GLS:Calculating GLS estimators\n",
      "INFO:HEC_runs.fit_fia_logbiomass_logspp_GLS:Fitting linear model using GLS\n",
      "INFO:HEC_runs.fit_fia_logbiomass_logspp_GLS:RESULTS::: n_obs: 18414.0, r-squared: 0.753335552391, {{\"Intercept\":8.4270681443,\"logSppN\":0.3933079549},{\"Intercept\":0.0,\"logSppN\":0.0},{\"0\":{\"Intercept\":8.3654905015,\"logSppN\":0.3772969087},\"1\":{\"Intercept\":8.4886457871,\"logSppN\":0.409319001}}}\n",
      "INFO:HEC_runs.fit_fia_logbiomass_logspp_GLS:Recalculating variogram\n",
      "INFO:HEC_runs.fit_fia_logbiomass_logspp_GLS:Refiting Theoretical Variogram\n",
      "INFO:HEC_runs.fit_fia_logbiomass_logspp_GLS:Variogram parameters: range 115396.886797, sill 0.329235547172, nugget 0.313588811779\n",
      "INFO:HEC_runs.fit_fia_logbiomass_logspp_GLS:Building Spatial Covariance Matrix\n",
      "INFO:HEC_runs.fit_fia_logbiomass_logspp_GLS:Calculating Distance Matrix\n",
      "INFO:HEC_runs.fit_fia_logbiomass_logspp_GLS:Calculating GLS estimators\n",
      "INFO:HEC_runs.fit_fia_logbiomass_logspp_GLS:Fitting linear model using GLS\n",
      "INFO:HEC_runs.fit_fia_logbiomass_logspp_GLS:RESULTS::: n_obs: 18414.0, r-squared: 0.753328938987, {{\"Intercept\":8.427068631,\"logSppN\":0.3933079362},{\"Intercept\":0.0,\"logSppN\":0.0},{\"0\":{\"Intercept\":8.3654896937,\"logSppN\":0.3772968861},\"1\":{\"Intercept\":8.4886475684,\"logSppN\":0.4093189864}}}\n",
      "INFO:HEC_runs.fit_fia_logbiomass_logspp_GLS:Recalculating variogram\n",
      "INFO:HEC_runs.fit_fia_logbiomass_logspp_GLS:Refiting Theoretical Variogram\n",
      "INFO:HEC_runs.fit_fia_logbiomass_logspp_GLS:Variogram parameters: range 115397.517134, sill 0.329235570461, nugget 0.313588812584\n",
      "INFO:HEC_runs.fit_fia_logbiomass_logspp_GLS:Building Spatial Covariance Matrix\n",
      "INFO:HEC_runs.fit_fia_logbiomass_logspp_GLS:Calculating Distance Matrix\n",
      "INFO:HEC_runs.fit_fia_logbiomass_logspp_GLS:Calculating GLS estimators\n",
      "INFO:HEC_runs.fit_fia_logbiomass_logspp_GLS:Fitting linear model using GLS\n",
      "INFO:HEC_runs.fit_fia_logbiomass_logspp_GLS:RESULTS::: n_obs: 18414.0, r-squared: 0.753326861106, {{\"Intercept\":8.427068785,\"logSppN\":0.3933079309},{\"Intercept\":0.0,\"logSppN\":0.0},{\"0\":{\"Intercept\":8.3654894408,\"logSppN\":0.3772968794},\"1\":{\"Intercept\":8.4886481292,\"logSppN\":0.4093189823}}}\n",
      "INFO:HEC_runs.fit_fia_logbiomass_logspp_GLS:Recalculating variogram\n",
      "INFO:HEC_runs.fit_fia_logbiomass_logspp_GLS:Refiting Theoretical Variogram\n",
      "INFO:HEC_runs.fit_fia_logbiomass_logspp_GLS:Variogram parameters: range 115397.969008, sill 0.329235581842, nugget 0.313588819209\n",
      "INFO:HEC_runs.fit_fia_logbiomass_logspp_GLS:Building Spatial Covariance Matrix\n",
      "INFO:HEC_runs.fit_fia_logbiomass_logspp_GLS:Calculating Distance Matrix\n",
      "INFO:HEC_runs.fit_fia_logbiomass_logspp_GLS:Calculating GLS estimators\n",
      "INFO:HEC_runs.fit_fia_logbiomass_logspp_GLS:Fitting linear model using GLS\n",
      "INFO:HEC_runs.fit_fia_logbiomass_logspp_GLS:RESULTS::: n_obs: 18414.0, r-squared: 0.753325897057, {{\"Intercept\":8.4270688417,\"logSppN\":0.3933079273},{\"Intercept\":0.0,\"logSppN\":0.0},{\"0\":{\"Intercept\":8.3654893072,\"logSppN\":0.3772968752},\"1\":{\"Intercept\":8.4886483762,\"logSppN\":0.4093189794}}}\n",
      "INFO:HEC_runs.fit_fia_logbiomass_logspp_GLS:Recalculating variogram\n",
      "INFO:HEC_runs.fit_fia_logbiomass_logspp_GLS:Refiting Theoretical Variogram\n",
      "INFO:HEC_runs.fit_fia_logbiomass_logspp_GLS:Variogram parameters: range 115397.941371, sill 0.329235586045, nugget 0.313588813343\n",
      "INFO:HEC_runs.fit_fia_logbiomass_logspp_GLS:Building Spatial Covariance Matrix\n",
      "INFO:HEC_runs.fit_fia_logbiomass_logspp_GLS:Calculating Distance Matrix\n",
      "INFO:HEC_runs.fit_fia_logbiomass_logspp_GLS:Calculating GLS estimators\n",
      "INFO:HEC_runs.fit_fia_logbiomass_logspp_GLS:Fitting linear model using GLS\n",
      "INFO:HEC_runs.fit_fia_logbiomass_logspp_GLS:RESULTS::: n_obs: 18414.0, r-squared: 0.753325472221, {{\"Intercept\":8.4270688879,\"logSppN\":0.3933079273},{\"Intercept\":0.0,\"logSppN\":0.0},{\"0\":{\"Intercept\":8.3654892717,\"logSppN\":0.377296875},\"1\":{\"Intercept\":8.4886485041,\"logSppN\":0.4093189796}}}\n",
      "INFO:HEC_runs.fit_fia_logbiomass_logspp_GLS:Recalculating variogram\n",
      "INFO:HEC_runs.fit_fia_logbiomass_logspp_GLS:Refiting Theoretical Variogram\n",
      "INFO:HEC_runs.fit_fia_logbiomass_logspp_GLS:Variogram parameters: range 115397.941371, sill 0.329235586045, nugget 0.313588813343\n",
      "INFO:HEC_runs.fit_fia_logbiomass_logspp_GLS:Building Spatial Covariance Matrix\n",
      "INFO:HEC_runs.fit_fia_logbiomass_logspp_GLS:Calculating Distance Matrix\n",
      "INFO:HEC_runs.fit_fia_logbiomass_logspp_GLS:Calculating GLS estimators\n",
      "INFO:HEC_runs.fit_fia_logbiomass_logspp_GLS:Fitting linear model using GLS\n",
      "INFO:HEC_runs.fit_fia_logbiomass_logspp_GLS:RESULTS::: n_obs: 18414.0, r-squared: 0.753325472221, {{\"Intercept\":8.4270688879,\"logSppN\":0.3933079273},{\"Intercept\":0.0,\"logSppN\":0.0},{\"0\":{\"Intercept\":8.3654892717,\"logSppN\":0.377296875},\"1\":{\"Intercept\":8.4886485041,\"logSppN\":0.4093189796}}}\n",
      "INFO:HEC_runs.fit_fia_logbiomass_logspp_GLS:Recalculating variogram\n",
      "INFO:HEC_runs.fit_fia_logbiomass_logspp_GLS:Refiting Theoretical Variogram\n",
      "INFO:HEC_runs.fit_fia_logbiomass_logspp_GLS:Variogram parameters: range 115397.941371, sill 0.329235586045, nugget 0.313588813343\n",
      "INFO:HEC_runs.fit_fia_logbiomass_logspp_GLS:Building Spatial Covariance Matrix\n",
      "INFO:HEC_runs.fit_fia_logbiomass_logspp_GLS:Calculating Distance Matrix\n",
      "INFO:HEC_runs.fit_fia_logbiomass_logspp_GLS:Calculating GLS estimators\n",
      "INFO:HEC_runs.fit_fia_logbiomass_logspp_GLS:Fitting linear model using GLS\n",
      "INFO:HEC_runs.fit_fia_logbiomass_logspp_GLS:RESULTS::: n_obs: 18414.0, r-squared: 0.753325472221, {{\"Intercept\":8.4270688879,\"logSppN\":0.3933079273},{\"Intercept\":0.0,\"logSppN\":0.0},{\"0\":{\"Intercept\":8.3654892717,\"logSppN\":0.377296875},\"1\":{\"Intercept\":8.4886485041,\"logSppN\":0.4093189796}}}\n",
      "INFO:HEC_runs.fit_fia_logbiomass_logspp_GLS:Recalculating variogram\n",
      "INFO:HEC_runs.fit_fia_logbiomass_logspp_GLS:Refiting Theoretical Variogram\n",
      "INFO:HEC_runs.fit_fia_logbiomass_logspp_GLS:Variogram parameters: range 115397.941371, sill 0.329235586045, nugget 0.313588813343\n"
     ]
    }
   ],
   "source": [
    "resum,gvgn,resultspd,results = fitGLSRobust(section,gvg,num_iterations=10,distance_threshold=1000000)"
   ]
  },
  {
   "cell_type": "code",
   "execution_count": 46,
   "metadata": {
    "collapsed": false
   },
   "outputs": [
    {
     "data": {
      "text/plain": [
       "<bound method Summary.as_text of <class 'statsmodels.iolib.summary.Summary'>\n",
       "\"\"\"\n",
       "                            GLS Regression Results                            \n",
       "==============================================================================\n",
       "Dep. Variable:             logBiomass   R-squared:                       0.753\n",
       "Model:                            GLS   Adj. R-squared:                  0.753\n",
       "Method:                 Least Squares   F-statistic:                 5.623e+04\n",
       "Date:                Sat, 03 Mar 2018   Prob (F-statistic):               0.00\n",
       "Time:                        00:21:06   Log-Likelihood:                -16502.\n",
       "No. Observations:               18414   AIC:                         3.301e+04\n",
       "Df Residuals:                   18412   BIC:                         3.302e+04\n",
       "Df Model:                           1                                         \n",
       "Covariance Type:            nonrobust                                         \n",
       "==============================================================================\n",
       "                 coef    std err          t      P>|t|      [95.0% Conf. Int.]\n",
       "------------------------------------------------------------------------------\n",
       "Intercept      8.4271      0.031    268.235      0.000         8.365     8.489\n",
       "logSppN        0.3933      0.008     48.149      0.000         0.377     0.409\n",
       "==============================================================================\n",
       "Omnibus:                     1129.018   Durbin-Watson:                   1.973\n",
       "Prob(Omnibus):                  0.000   Jarque-Bera (JB):             1762.135\n",
       "Skew:                          -0.509   Prob(JB):                         0.00\n",
       "Kurtosis:                       4.122   Cond. No.                         4.10\n",
       "==============================================================================\n",
       "\n",
       "Warnings:\n",
       "[1] Standard Errors assume that the covariance matrix of the errors is correctly specified.\n",
       "\"\"\">"
      ]
     },
     "execution_count": 46,
     "metadata": {},
     "output_type": "execute_result"
    }
   ],
   "source": [
    "resum.as_text"
   ]
  },
  {
   "cell_type": "code",
   "execution_count": 25,
   "metadata": {
    "collapsed": false
   },
   "outputs": [
    {
     "data": {
      "text/plain": [
       "<matplotlib.text.Text at 0x7f212f0c9850>"
      ]
     },
     "execution_count": 25,
     "metadata": {},
     "output_type": "execute_result"
    },
    {
     "data": {
      "image/png": "[encoded data removed]",
      "text/plain": [
       "<matplotlib.figure.Figure at 0x7f212f5e4710>"
      ]
     },
     "metadata": {},
     "output_type": "display_data"
    }
   ],
   "source": [
    "plt.plot(resultspd.rsq)\n",
    "plt.title(\"GLS feedback algorithm\")\n",
    "plt.xlabel(\"Number of iterations\")\n",
    "plt.ylabel(\"R-sq fitness estimator\")"
   ]
  },
  {
   "cell_type": "code",
   "execution_count": 26,
   "metadata": {
    "collapsed": false
   },
   "outputs": [
    {
     "data": {
      "text/plain": [
       "Index([u'conf_int', u'params', u'pvals', u'rsq'], dtype='object')"
      ]
     },
     "execution_count": 26,
     "metadata": {},
     "output_type": "execute_result"
    }
   ],
   "source": [
    "resultspd.columns"
   ]
  },
  {
   "cell_type": "code",
   "execution_count": 34,
   "metadata": {
    "collapsed": false
   },
   "outputs": [],
   "source": [
    "a = map(lambda x : x.to_dict(), resultspd['params'])"
   ]
  },
  {
   "cell_type": "code",
   "execution_count": 36,
   "metadata": {
    "collapsed": false
   },
   "outputs": [],
   "source": [
    "paramsd = pd.DataFrame(a)"
   ]
  },
  {
   "cell_type": "code",
   "execution_count": 38,
   "metadata": {
    "collapsed": false
   },
   "outputs": [
    {
     "data": {
      "text/html": [
       "<div>\n",
       "<table border=\"1\" class=\"dataframe\">\n",
       "  <thead>\n",
       "    <tr style=\"text-align: right;\">\n",
       "      <th></th>\n",
       "      <th>Intercept</th>\n",
       "      <th>logSppN</th>\n",
       "    </tr>\n",
       "  </thead>\n",
       "  <tbody>\n",
       "    <tr>\n",
       "      <th>0</th>\n",
       "      <td>8.446694</td>\n",
       "      <td>0.394964</td>\n",
       "    </tr>\n",
       "    <tr>\n",
       "      <th>1</th>\n",
       "      <td>8.426869</td>\n",
       "      <td>0.393331</td>\n",
       "    </tr>\n",
       "    <tr>\n",
       "      <th>2</th>\n",
       "      <td>8.427064</td>\n",
       "      <td>0.393308</td>\n",
       "    </tr>\n",
       "    <tr>\n",
       "      <th>3</th>\n",
       "      <td>8.427068</td>\n",
       "      <td>0.393308</td>\n",
       "    </tr>\n",
       "    <tr>\n",
       "      <th>4</th>\n",
       "      <td>8.427069</td>\n",
       "      <td>0.393308</td>\n",
       "    </tr>\n",
       "    <tr>\n",
       "      <th>5</th>\n",
       "      <td>8.427069</td>\n",
       "      <td>0.393308</td>\n",
       "    </tr>\n",
       "    <tr>\n",
       "      <th>6</th>\n",
       "      <td>8.427069</td>\n",
       "      <td>0.393308</td>\n",
       "    </tr>\n",
       "    <tr>\n",
       "      <th>7</th>\n",
       "      <td>8.427069</td>\n",
       "      <td>0.393308</td>\n",
       "    </tr>\n",
       "    <tr>\n",
       "      <th>8</th>\n",
       "      <td>8.427069</td>\n",
       "      <td>0.393308</td>\n",
       "    </tr>\n",
       "    <tr>\n",
       "      <th>9</th>\n",
       "      <td>8.427069</td>\n",
       "      <td>0.393308</td>\n",
       "    </tr>\n",
       "  </tbody>\n",
       "</table>\n",
       "</div>"
      ],
      "text/plain": [
       "   Intercept   logSppN\n",
       "0   8.446694  0.394964\n",
       "1   8.426869  0.393331\n",
       "2   8.427064  0.393308\n",
       "3   8.427068  0.393308\n",
       "4   8.427069  0.393308\n",
       "5   8.427069  0.393308\n",
       "6   8.427069  0.393308\n",
       "7   8.427069  0.393308\n",
       "8   8.427069  0.393308\n",
       "9   8.427069  0.393308"
      ]
     },
     "execution_count": 38,
     "metadata": {},
     "output_type": "execute_result"
    }
   ],
   "source": [
    "paramsd"
   ]
  },
  {
   "cell_type": "code",
   "execution_count": 44,
   "metadata": {
    "collapsed": false
   },
   "outputs": [
    {
     "ename": "AttributeError",
     "evalue": "'module' object has no attribute 'get_yaxis'",
     "output_type": "error",
     "traceback": [
      "\u001b[0;31m\u001b[0m",
      "\u001b[0;31mAttributeError\u001b[0mTraceback (most recent call last)",
      "\u001b[0;32m<ipython-input-44-8a4331454875>\u001b[0m in \u001b[0;36m<module>\u001b[0;34m()\u001b[0m\n\u001b[1;32m      1\u001b[0m \u001b[0mplt\u001b[0m\u001b[0;34m.\u001b[0m\u001b[0mplot\u001b[0m\u001b[0;34m(\u001b[0m\u001b[0mparamsd\u001b[0m\u001b[0;34m.\u001b[0m\u001b[0mIntercept\u001b[0m\u001b[0;34m.\u001b[0m\u001b[0mloc\u001b[0m\u001b[0;34m[\u001b[0m\u001b[0;36m1\u001b[0m\u001b[0;34m:\u001b[0m\u001b[0;34m]\u001b[0m\u001b[0;34m)\u001b[0m\u001b[0;34m\u001b[0m\u001b[0m\n\u001b[0;32m----> 2\u001b[0;31m \u001b[0mplt\u001b[0m\u001b[0;34m.\u001b[0m\u001b[0mget_yaxis\u001b[0m\u001b[0;34m(\u001b[0m\u001b[0;34m)\u001b[0m\u001b[0;34m.\u001b[0m\u001b[0mget_major_formatter\u001b[0m\u001b[0;34m(\u001b[0m\u001b[0;34m)\u001b[0m\u001b[0;34m.\u001b[0m\u001b[0mset_useOffset\u001b[0m\u001b[0;34m(\u001b[0m\u001b[0mFalse\u001b[0m\u001b[0;34m)\u001b[0m\u001b[0;34m\u001b[0m\u001b[0m\n\u001b[0m",
      "\u001b[0;31mAttributeError\u001b[0m: 'module' object has no attribute 'get_yaxis'"
     ]
    },
    {
     "data": {
      "image/png": "[encoded data removed]",
      "text/plain": [
       "<matplotlib.figure.Figure at 0x7f212f25cfd0>"
      ]
     },
     "metadata": {},
     "output_type": "display_data"
    }
   ],
   "source": [
    "plt.plot(paramsd.Intercept.loc[1:])\n",
    "plt.get_yaxis().get_major_formatter().set_useOffset(False)"
   ]
  },
  {
   "cell_type": "code",
   "execution_count": 45,
   "metadata": {
    "collapsed": false
   },
   "outputs": [
    {
     "data": {
      "text/plain": [
       "[<matplotlib.lines.Line2D at 0x7f212eeec190>]"
      ]
     },
     "execution_count": 45,
     "metadata": {},
     "output_type": "execute_result"
    },
    {
     "data": {
      "image/png": "[encoded data removed]",
      "text/plain": [
       "<matplotlib.figure.Figure at 0x7f212ef35610>"
      ]
     },
     "metadata": {},
     "output_type": "display_data"
    }
   ],
   "source": [
    "fig = plt.figure(figsize=(10,10))\n",
    "plt.plot(paramsd.logSppN.iloc[1:])"
   ]
  },
  {
   "cell_type": "code",
   "execution_count": null,
   "metadata": {
    "collapsed": false
   },
   "outputs": [],
   "source": [
    "variogram_data_path = \"/apps/external_plugins/spystats/HEC_runs/results/variogram/data_envelope.csv\"\n",
    "thrs_dist = 100000\n",
    "emp_var_log_log = pd.read_csv(variogram_data_path)"
   ]
  },
  {
   "cell_type": "markdown",
   "metadata": {},
   "source": [
    "## Instantiating the variogram object"
   ]
  },
  {
   "cell_type": "code",
   "execution_count": null,
   "metadata": {
    "collapsed": false
   },
   "outputs": [],
   "source": [
    "gvg = tools.Variogram(section,'logBiomass',using_distance_threshold=thrs_dist)\n",
    "gvg.envelope = emp_var_log_log\n",
    "gvg.empirical = emp_var_log_log.variogram\n",
    "gvg.lags = emp_var_log_log.lags\n",
    "#emp_var_log_log = emp_var_log_log.dropna()\n",
    "#vdata = gvg.envelope.dropna()"
   ]
  },
  {
   "cell_type": "markdown",
   "metadata": {},
   "source": [
    "## Instantiating theoretical variogram model"
   ]
  },
  {
   "cell_type": "code",
   "execution_count": null,
   "metadata": {
    "collapsed": false
   },
   "outputs": [],
   "source": [
    "matern_model = tools.MaternVariogram(sill=0.34,range_a=100000,nugget=0.33,kappa=4)\n",
    "whittle_model = tools.WhittleVariogram(sill=0.34,range_a=100000,nugget=0.0,alpha=3)\n",
    "exp_model = tools.ExponentialVariogram(sill=0.34,range_a=100000,nugget=0.33)\n",
    "gaussian_model = tools.GaussianVariogram(sill=0.34,range_a=100000,nugget=0.33)\n",
    "spherical_model = tools.SphericalVariogram(sill=0.34,range_a=100000,nugget=0.33)"
   ]
  },
  {
   "cell_type": "code",
   "execution_count": null,
   "metadata": {
    "collapsed": false
   },
   "outputs": [],
   "source": [
    "gvg.model = whittle_model\n",
    "#gvg.model = matern_model\n",
    "#models = map(lambda model : gvg.fitVariogramModel(model),[matern_model,whittle_model,exp_model,gaussian_model,spherical_model])\n",
    "\n",
    "gvg.fitVariogramModel(whittle_model)"
   ]
  },
  {
   "cell_type": "code",
   "execution_count": null,
   "metadata": {
    "collapsed": false
   },
   "outputs": [],
   "source": [
    "import numpy as np\n",
    "xx = np.linspace(0,1000000,1000)\n",
    "\n",
    "gvg.plot(refresh=False,with_envelope=True)\n",
    "plt.plot(xx,whittle_model.f(xx),lw=2.0,c='k')\n",
    "plt.title(\"Empirical Variogram with fitted Whittle Model\")"
   ]
  },
  {
   "cell_type": "raw",
   "metadata": {},
   "source": [
    "FOr the sake of brevity I didn't include the steps for calculating the covariance matrix and include it in the GLS routine.\n",
    "These are the results after fitting.\n",
    "\n",
    "<class 'statsmodels.iolib.summary.Summary'>\n",
    "\"\"\"\n",
    "                            GLS Regression Results                            \n",
    "==============================================================================\n",
    "Dep. Variable:             logBiomass   R-squared:                       0.900\n",
    "Model:                            GLS   Adj. R-squared:                  0.900\n",
    "Method:                 Least Squares   F-statistic:                 3.304e+05\n",
    "Date:                Sun, 28 Jan 2018   Prob (F-statistic):               0.00\n",
    "Time:                        12:48:52   Log-Likelihood:                -34662.\n",
    "No. Observations:               36868   AIC:                         6.933e+04\n",
    "Df Residuals:                   36866   BIC:                         6.935e+04\n",
    "Df Model:                           1                                         \n",
    "Covariance Type:            nonrobust                                         \n",
    "==============================================================================\n",
    "                 coef    std err          t      P>|t|      [0.025      0.975]\n",
    "------------------------------------------------------------------------------\n",
    "Intercept      8.4705      0.010    840.884      0.000       8.451       8.490\n",
    "logSppN        0.3909      0.006     66.280      0.000       0.379       0.402\n",
    "==============================================================================\n",
    "Omnibus:                     1933.532   Durbin-Watson:                   1.906\n",
    "Prob(Omnibus):                  0.000   Jarque-Bera (JB):             2819.569\n",
    "Skew:                          -0.475   Prob(JB):                         0.00\n",
    "Kurtosis:                       3.966   Cond. No.                         3.75\n",
    "==============================================================================\n",
    "\n",
    "Warnings:\n",
    "[1] Standard Errors assume that the covariance matrix of the errors is correctly specified.\n",
    "\"\"\"\n"
   ]
  },
  {
   "cell_type": "code",
   "execution_count": null,
   "metadata": {
    "collapsed": true
   },
   "outputs": [],
   "source": [
    "def randomSelection(n,p):\n",
    "    idxs = np.random.choice(n,p,replace=False)\n",
    "    random_sample = new_data.iloc[idxs]\n",
    "    return random_sample\n",
    "#################\n",
    "n = len(new_data)\n",
    "p = 3000 # The amount of samples taken (let's do it without replacement)"
   ]
  },
  {
   "cell_type": "code",
   "execution_count": null,
   "metadata": {
    "collapsed": true
   },
   "outputs": [],
   "source": [
    "random_sample = randomSelection(n,100)"
   ]
  }
 ],
 "metadata": {
  "kernelspec": {
   "display_name": "Django Shell-Plus",
   "language": "python",
   "name": "django_extensions"
  },
  "language_info": {
   "codemirror_mode": {
    "name": "ipython",
    "version": 2
   },
   "file_extension": ".py",
   "mimetype": "text/x-python",
   "name": "python",
   "nbconvert_exporter": "python",
   "pygments_lexer": "ipython2",
   "version": "2.7.11"
  }
 },
 "nbformat": 4,
 "nbformat_minor": 0
}
