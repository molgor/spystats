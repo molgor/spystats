{
 "cells": [
  {
   "cell_type": "markdown",
   "metadata": {},
   "source": [
    "# Spatial Model fitting in GLS\n",
    "In this exercise we will fit a linear model using a Spatial structure as covariance matrix. \n",
    "We will use GLS to get better estimators.\n",
    "\n",
    "As always we will need to load the necessary libraries."
   ]
  },
  {
   "cell_type": "code",
   "execution_count": 11,
   "metadata": {
    "collapsed": true
   },
   "outputs": [],
   "source": [
    "# Load Biospytial modules and etc.\n",
    "%matplotlib inline\n",
    "import sys\n",
    "sys.path.append('/apps')\n",
    "sys.path.append('..')\n",
    "import django\n",
    "django.setup()\n",
    "import pandas as pd\n",
    "import matplotlib.pyplot as plt\n",
    "import numpy as np\n",
    "## Use the ggplot style\n",
    "plt.style.use('ggplot')\n",
    "import tools"
   ]
  },
  {
   "cell_type": "markdown",
   "metadata": {
    "collapsed": false
   },
   "source": [
    "Use this to automate the process. Be carefull it can overwrite current results\n",
    "\n",
    "`run ../HEC_runs/fit_fia_logbiomass_logspp_GLS.py /RawDataCSV/idiv_share/plotsClimateData_11092017.csv /apps/external_plugins/spystats/HEC_runs/results/logbiomas_logsppn_res.csv -85 -80 30 35`"
   ]
  },
  {
   "cell_type": "markdown",
   "metadata": {},
   "source": [
    "## Importing data\n",
    "We will use the FIA dataset and for exemplary purposes we will take a subsample of this data. \n",
    "Also important.\n",
    "The empirical variogram has been calculated for the entire data set using the residuals of an OLS model. \n",
    "\n",
    "We will use some auxiliary functions defined in the `fit_fia_logbiomass_logspp_GLS`.\n",
    "You can inspect the functions using the ?? symbol."
   ]
  },
  {
   "cell_type": "code",
   "execution_count": 2,
   "metadata": {
    "collapsed": false
   },
   "outputs": [],
   "source": [
    "from HEC_runs.fit_fia_logbiomass_logspp_GLS import prepareDataFrame,loadVariogramFromData,buildSpatialStructure, calculateGLS, initAnalysis"
   ]
  },
  {
   "cell_type": "code",
   "execution_count": 3,
   "metadata": {
    "collapsed": false
   },
   "outputs": [
    {
     "name": "stderr",
     "output_type": "stream",
     "text": [
      "/opt/conda/envs/biospytial/lib/python2.7/site-packages/IPython/core/interactiveshell.py:2881: DtypeWarning: Columns (24) have mixed types. Specify dtype option on import or set low_memory=False.\n",
      "  exec(code_obj, self.user_global_ns, self.user_ns)\n",
      "INFO:HEC_runs.fit_fia_logbiomass_logspp_GLS:Reprojecting to Alberts equal area\n",
      "INFO:HEC_runs.fit_fia_logbiomass_logspp_GLS:Removing possible duplicates. \n",
      " This avoids problems of Non Positive semidefinite\n",
      "INFO:HEC_runs.fit_fia_logbiomass_logspp_GLS:Fitting OLS linear model: logBiomass ~ logSppN \n",
      "INFO:HEC_runs.fit_fia_logbiomass_logspp_GLS:Subselecting Region\n"
     ]
    }
   ],
   "source": [
    "section = initAnalysis(\"/RawDataCSV/idiv_share/plotsClimateData_11092017.csv\",\n",
    "                        \"/apps/external_plugins/spystats/HEC_runs/results/variogram/data_envelope.csv\",\n",
    "                       -85,-80,30,35)\n",
    "\n",
    "# IN HEC\n",
    "#section = initAnalysis(\"/home/hpc/28/escamill/csv_data/idiv/FIA_Plots_Biomass_11092017.csv\",\"/home/hpc/28/escamill/spystats/HEC_runs/results/variogram/data_envelope.csv\",-85,-80,30,35)"
   ]
  },
  {
   "cell_type": "markdown",
   "metadata": {},
   "source": [
    "Now we will obtain the data from the calculated empirical variogram."
   ]
  },
  {
   "cell_type": "code",
   "execution_count": 4,
   "metadata": {
    "collapsed": false
   },
   "outputs": [
    {
     "name": "stderr",
     "output_type": "stream",
     "text": [
      "INFO:HEC_runs.fit_fia_logbiomass_logspp_GLS:Reading the empirical Variogram file\n",
      "INFO:HEC_runs.fit_fia_logbiomass_logspp_GLS:Instantiating a Variogram object with the values calculated before\n",
      "INFO:HEC_runs.fit_fia_logbiomass_logspp_GLS:Dropping possible Nans\n",
      "INFO:HEC_runs.fit_fia_logbiomass_logspp_GLS:Instantiating Model...\n",
      "INFO:HEC_runs.fit_fia_logbiomass_logspp_GLS:fitting whittle Model with the empirical variogram\n",
      "../tools.py:559: RuntimeWarning: divide by zero encountered in power\n",
      "  g_h = ((sill - nugget)*(1 - np.exp(-(h**alpha / range_a**alpha)))) + nugget*Ih\n",
      "INFO:HEC_runs.fit_fia_logbiomass_logspp_GLS:Model fitted\n"
     ]
    }
   ],
   "source": [
    "gvg,tt = loadVariogramFromData(\"/apps/external_plugins/spystats/HEC_runs/results/variogram/data_envelope.csv\",section)"
   ]
  },
  {
   "cell_type": "code",
   "execution_count": 5,
   "metadata": {
    "collapsed": false
   },
   "outputs": [
    {
     "data": {
      "image/png": "[encoded data removed]",
      "text/plain": [
       "<matplotlib.figure.Figure at 0x7f16005a2cd0>"
      ]
     },
     "metadata": {},
     "output_type": "display_data"
    }
   ],
   "source": [
    "gvg.plot(refresh=False,with_envelope=True)"
   ]
  },
  {
   "cell_type": "code",
   "execution_count": 6,
   "metadata": {
    "collapsed": false
   },
   "outputs": [
    {
     "data": {
      "text/html": [
       "<div>\n",
       "<table border=\"1\" class=\"dataframe\">\n",
       "  <thead>\n",
       "    <tr style=\"text-align: right;\">\n",
       "      <th></th>\n",
       "      <th>Unnamed: 0</th>\n",
       "      <th>envhigh</th>\n",
       "      <th>envlow</th>\n",
       "      <th>lags</th>\n",
       "      <th>variogram</th>\n",
       "    </tr>\n",
       "  </thead>\n",
       "  <tbody>\n",
       "    <tr>\n",
       "      <th>0</th>\n",
       "      <td>0</td>\n",
       "      <td>0.362546</td>\n",
       "      <td>0.360478</td>\n",
       "      <td>0.000000e+00</td>\n",
       "      <td>0.329770</td>\n",
       "    </tr>\n",
       "    <tr>\n",
       "      <th>1</th>\n",
       "      <td>1</td>\n",
       "      <td>0.362186</td>\n",
       "      <td>0.360610</td>\n",
       "      <td>2.244898e+04</td>\n",
       "      <td>0.334159</td>\n",
       "    </tr>\n",
       "    <tr>\n",
       "      <th>2</th>\n",
       "      <td>2</td>\n",
       "      <td>0.362111</td>\n",
       "      <td>0.360932</td>\n",
       "      <td>4.489796e+04</td>\n",
       "      <td>0.336944</td>\n",
       "    </tr>\n",
       "    <tr>\n",
       "      <th>3</th>\n",
       "      <td>3</td>\n",
       "      <td>0.362068</td>\n",
       "      <td>0.360925</td>\n",
       "      <td>6.734694e+04</td>\n",
       "      <td>0.338169</td>\n",
       "    </tr>\n",
       "    <tr>\n",
       "      <th>4</th>\n",
       "      <td>4</td>\n",
       "      <td>0.362067</td>\n",
       "      <td>0.361008</td>\n",
       "      <td>8.979592e+04</td>\n",
       "      <td>0.339184</td>\n",
       "    </tr>\n",
       "    <tr>\n",
       "      <th>5</th>\n",
       "      <td>5</td>\n",
       "      <td>0.362057</td>\n",
       "      <td>0.361057</td>\n",
       "      <td>1.122449e+05</td>\n",
       "      <td>0.339415</td>\n",
       "    </tr>\n",
       "    <tr>\n",
       "      <th>6</th>\n",
       "      <td>6</td>\n",
       "      <td>0.362062</td>\n",
       "      <td>0.361121</td>\n",
       "      <td>1.346939e+05</td>\n",
       "      <td>0.339953</td>\n",
       "    </tr>\n",
       "    <tr>\n",
       "      <th>7</th>\n",
       "      <td>7</td>\n",
       "      <td>0.362084</td>\n",
       "      <td>0.361150</td>\n",
       "      <td>1.571429e+05</td>\n",
       "      <td>0.340566</td>\n",
       "    </tr>\n",
       "    <tr>\n",
       "      <th>8</th>\n",
       "      <td>8</td>\n",
       "      <td>0.362064</td>\n",
       "      <td>0.361200</td>\n",
       "      <td>1.795918e+05</td>\n",
       "      <td>0.341252</td>\n",
       "    </tr>\n",
       "    <tr>\n",
       "      <th>9</th>\n",
       "      <td>9</td>\n",
       "      <td>0.362120</td>\n",
       "      <td>0.361169</td>\n",
       "      <td>2.020408e+05</td>\n",
       "      <td>0.341736</td>\n",
       "    </tr>\n",
       "    <tr>\n",
       "      <th>10</th>\n",
       "      <td>10</td>\n",
       "      <td>0.362128</td>\n",
       "      <td>0.361148</td>\n",
       "      <td>2.244898e+05</td>\n",
       "      <td>0.342341</td>\n",
       "    </tr>\n",
       "    <tr>\n",
       "      <th>11</th>\n",
       "      <td>11</td>\n",
       "      <td>0.362077</td>\n",
       "      <td>0.361137</td>\n",
       "      <td>2.469388e+05</td>\n",
       "      <td>0.342373</td>\n",
       "    </tr>\n",
       "    <tr>\n",
       "      <th>12</th>\n",
       "      <td>12</td>\n",
       "      <td>0.362037</td>\n",
       "      <td>0.361163</td>\n",
       "      <td>2.693878e+05</td>\n",
       "      <td>0.342892</td>\n",
       "    </tr>\n",
       "    <tr>\n",
       "      <th>13</th>\n",
       "      <td>13</td>\n",
       "      <td>0.362032</td>\n",
       "      <td>0.361243</td>\n",
       "      <td>2.918367e+05</td>\n",
       "      <td>0.342754</td>\n",
       "    </tr>\n",
       "    <tr>\n",
       "      <th>14</th>\n",
       "      <td>14</td>\n",
       "      <td>0.362021</td>\n",
       "      <td>0.361267</td>\n",
       "      <td>3.142857e+05</td>\n",
       "      <td>0.343099</td>\n",
       "    </tr>\n",
       "    <tr>\n",
       "      <th>15</th>\n",
       "      <td>15</td>\n",
       "      <td>0.362022</td>\n",
       "      <td>0.361182</td>\n",
       "      <td>3.367347e+05</td>\n",
       "      <td>0.342633</td>\n",
       "    </tr>\n",
       "    <tr>\n",
       "      <th>16</th>\n",
       "      <td>16</td>\n",
       "      <td>0.362045</td>\n",
       "      <td>0.361160</td>\n",
       "      <td>3.591837e+05</td>\n",
       "      <td>0.342666</td>\n",
       "    </tr>\n",
       "    <tr>\n",
       "      <th>17</th>\n",
       "      <td>17</td>\n",
       "      <td>0.362080</td>\n",
       "      <td>0.361155</td>\n",
       "      <td>3.816327e+05</td>\n",
       "      <td>0.342384</td>\n",
       "    </tr>\n",
       "    <tr>\n",
       "      <th>18</th>\n",
       "      <td>18</td>\n",
       "      <td>0.362050</td>\n",
       "      <td>0.361189</td>\n",
       "      <td>4.040816e+05</td>\n",
       "      <td>0.342765</td>\n",
       "    </tr>\n",
       "    <tr>\n",
       "      <th>19</th>\n",
       "      <td>19</td>\n",
       "      <td>0.362029</td>\n",
       "      <td>0.361190</td>\n",
       "      <td>4.265306e+05</td>\n",
       "      <td>0.342918</td>\n",
       "    </tr>\n",
       "    <tr>\n",
       "      <th>20</th>\n",
       "      <td>20</td>\n",
       "      <td>0.362065</td>\n",
       "      <td>0.361220</td>\n",
       "      <td>4.489796e+05</td>\n",
       "      <td>0.342205</td>\n",
       "    </tr>\n",
       "    <tr>\n",
       "      <th>21</th>\n",
       "      <td>21</td>\n",
       "      <td>0.362028</td>\n",
       "      <td>0.361226</td>\n",
       "      <td>4.714286e+05</td>\n",
       "      <td>0.342377</td>\n",
       "    </tr>\n",
       "    <tr>\n",
       "      <th>22</th>\n",
       "      <td>22</td>\n",
       "      <td>0.362091</td>\n",
       "      <td>0.361197</td>\n",
       "      <td>4.938776e+05</td>\n",
       "      <td>0.341831</td>\n",
       "    </tr>\n",
       "    <tr>\n",
       "      <th>23</th>\n",
       "      <td>23</td>\n",
       "      <td>0.362024</td>\n",
       "      <td>0.361104</td>\n",
       "      <td>5.163265e+05</td>\n",
       "      <td>0.341638</td>\n",
       "    </tr>\n",
       "    <tr>\n",
       "      <th>24</th>\n",
       "      <td>24</td>\n",
       "      <td>0.362003</td>\n",
       "      <td>0.361200</td>\n",
       "      <td>5.387755e+05</td>\n",
       "      <td>0.341021</td>\n",
       "    </tr>\n",
       "    <tr>\n",
       "      <th>25</th>\n",
       "      <td>25</td>\n",
       "      <td>0.362001</td>\n",
       "      <td>0.361211</td>\n",
       "      <td>5.612245e+05</td>\n",
       "      <td>0.340677</td>\n",
       "    </tr>\n",
       "    <tr>\n",
       "      <th>26</th>\n",
       "      <td>26</td>\n",
       "      <td>0.362066</td>\n",
       "      <td>0.361120</td>\n",
       "      <td>5.836735e+05</td>\n",
       "      <td>0.339764</td>\n",
       "    </tr>\n",
       "    <tr>\n",
       "      <th>27</th>\n",
       "      <td>27</td>\n",
       "      <td>0.362035</td>\n",
       "      <td>0.361186</td>\n",
       "      <td>6.061224e+05</td>\n",
       "      <td>0.339503</td>\n",
       "    </tr>\n",
       "    <tr>\n",
       "      <th>28</th>\n",
       "      <td>28</td>\n",
       "      <td>0.362053</td>\n",
       "      <td>0.361097</td>\n",
       "      <td>6.285714e+05</td>\n",
       "      <td>0.338997</td>\n",
       "    </tr>\n",
       "    <tr>\n",
       "      <th>29</th>\n",
       "      <td>29</td>\n",
       "      <td>0.362043</td>\n",
       "      <td>0.361100</td>\n",
       "      <td>6.510204e+05</td>\n",
       "      <td>0.338985</td>\n",
       "    </tr>\n",
       "    <tr>\n",
       "      <th>30</th>\n",
       "      <td>30</td>\n",
       "      <td>0.362083</td>\n",
       "      <td>0.361131</td>\n",
       "      <td>6.734694e+05</td>\n",
       "      <td>0.338745</td>\n",
       "    </tr>\n",
       "    <tr>\n",
       "      <th>31</th>\n",
       "      <td>31</td>\n",
       "      <td>0.362061</td>\n",
       "      <td>0.361042</td>\n",
       "      <td>6.959184e+05</td>\n",
       "      <td>0.338445</td>\n",
       "    </tr>\n",
       "    <tr>\n",
       "      <th>32</th>\n",
       "      <td>32</td>\n",
       "      <td>0.362057</td>\n",
       "      <td>0.361095</td>\n",
       "      <td>7.183673e+05</td>\n",
       "      <td>0.338153</td>\n",
       "    </tr>\n",
       "    <tr>\n",
       "      <th>33</th>\n",
       "      <td>33</td>\n",
       "      <td>0.362074</td>\n",
       "      <td>0.361049</td>\n",
       "      <td>7.408163e+05</td>\n",
       "      <td>0.337917</td>\n",
       "    </tr>\n",
       "    <tr>\n",
       "      <th>34</th>\n",
       "      <td>34</td>\n",
       "      <td>0.362010</td>\n",
       "      <td>0.361141</td>\n",
       "      <td>7.632653e+05</td>\n",
       "      <td>0.338309</td>\n",
       "    </tr>\n",
       "    <tr>\n",
       "      <th>35</th>\n",
       "      <td>35</td>\n",
       "      <td>0.362055</td>\n",
       "      <td>0.361129</td>\n",
       "      <td>7.857143e+05</td>\n",
       "      <td>0.338248</td>\n",
       "    </tr>\n",
       "    <tr>\n",
       "      <th>36</th>\n",
       "      <td>36</td>\n",
       "      <td>0.362020</td>\n",
       "      <td>0.361063</td>\n",
       "      <td>8.081633e+05</td>\n",
       "      <td>0.338380</td>\n",
       "    </tr>\n",
       "    <tr>\n",
       "      <th>37</th>\n",
       "      <td>37</td>\n",
       "      <td>0.362043</td>\n",
       "      <td>0.361169</td>\n",
       "      <td>8.306122e+05</td>\n",
       "      <td>0.338677</td>\n",
       "    </tr>\n",
       "    <tr>\n",
       "      <th>38</th>\n",
       "      <td>38</td>\n",
       "      <td>0.362037</td>\n",
       "      <td>0.361106</td>\n",
       "      <td>8.530612e+05</td>\n",
       "      <td>0.338469</td>\n",
       "    </tr>\n",
       "    <tr>\n",
       "      <th>39</th>\n",
       "      <td>39</td>\n",
       "      <td>0.362044</td>\n",
       "      <td>0.361110</td>\n",
       "      <td>8.755102e+05</td>\n",
       "      <td>0.338128</td>\n",
       "    </tr>\n",
       "    <tr>\n",
       "      <th>40</th>\n",
       "      <td>40</td>\n",
       "      <td>0.362012</td>\n",
       "      <td>0.361106</td>\n",
       "      <td>8.979592e+05</td>\n",
       "      <td>0.337844</td>\n",
       "    </tr>\n",
       "    <tr>\n",
       "      <th>41</th>\n",
       "      <td>41</td>\n",
       "      <td>0.362062</td>\n",
       "      <td>0.361156</td>\n",
       "      <td>9.204082e+05</td>\n",
       "      <td>0.337863</td>\n",
       "    </tr>\n",
       "    <tr>\n",
       "      <th>42</th>\n",
       "      <td>42</td>\n",
       "      <td>0.362030</td>\n",
       "      <td>0.360993</td>\n",
       "      <td>9.428571e+05</td>\n",
       "      <td>0.338021</td>\n",
       "    </tr>\n",
       "    <tr>\n",
       "      <th>43</th>\n",
       "      <td>43</td>\n",
       "      <td>0.362069</td>\n",
       "      <td>0.361015</td>\n",
       "      <td>9.653061e+05</td>\n",
       "      <td>0.338315</td>\n",
       "    </tr>\n",
       "    <tr>\n",
       "      <th>44</th>\n",
       "      <td>44</td>\n",
       "      <td>0.362077</td>\n",
       "      <td>0.360947</td>\n",
       "      <td>9.877551e+05</td>\n",
       "      <td>0.338615</td>\n",
       "    </tr>\n",
       "    <tr>\n",
       "      <th>45</th>\n",
       "      <td>45</td>\n",
       "      <td>NaN</td>\n",
       "      <td>NaN</td>\n",
       "      <td>1.010204e+06</td>\n",
       "      <td>NaN</td>\n",
       "    </tr>\n",
       "    <tr>\n",
       "      <th>46</th>\n",
       "      <td>46</td>\n",
       "      <td>NaN</td>\n",
       "      <td>NaN</td>\n",
       "      <td>1.032653e+06</td>\n",
       "      <td>NaN</td>\n",
       "    </tr>\n",
       "    <tr>\n",
       "      <th>47</th>\n",
       "      <td>47</td>\n",
       "      <td>NaN</td>\n",
       "      <td>NaN</td>\n",
       "      <td>1.055102e+06</td>\n",
       "      <td>NaN</td>\n",
       "    </tr>\n",
       "    <tr>\n",
       "      <th>48</th>\n",
       "      <td>48</td>\n",
       "      <td>NaN</td>\n",
       "      <td>NaN</td>\n",
       "      <td>1.077551e+06</td>\n",
       "      <td>NaN</td>\n",
       "    </tr>\n",
       "  </tbody>\n",
       "</table>\n",
       "</div>"
      ],
      "text/plain": [
       "    Unnamed: 0   envhigh    envlow          lags  variogram\n",
       "0            0  0.362546  0.360478  0.000000e+00   0.329770\n",
       "1            1  0.362186  0.360610  2.244898e+04   0.334159\n",
       "2            2  0.362111  0.360932  4.489796e+04   0.336944\n",
       "3            3  0.362068  0.360925  6.734694e+04   0.338169\n",
       "4            4  0.362067  0.361008  8.979592e+04   0.339184\n",
       "5            5  0.362057  0.361057  1.122449e+05   0.339415\n",
       "6            6  0.362062  0.361121  1.346939e+05   0.339953\n",
       "7            7  0.362084  0.361150  1.571429e+05   0.340566\n",
       "8            8  0.362064  0.361200  1.795918e+05   0.341252\n",
       "9            9  0.362120  0.361169  2.020408e+05   0.341736\n",
       "10          10  0.362128  0.361148  2.244898e+05   0.342341\n",
       "11          11  0.362077  0.361137  2.469388e+05   0.342373\n",
       "12          12  0.362037  0.361163  2.693878e+05   0.342892\n",
       "13          13  0.362032  0.361243  2.918367e+05   0.342754\n",
       "14          14  0.362021  0.361267  3.142857e+05   0.343099\n",
       "15          15  0.362022  0.361182  3.367347e+05   0.342633\n",
       "16          16  0.362045  0.361160  3.591837e+05   0.342666\n",
       "17          17  0.362080  0.361155  3.816327e+05   0.342384\n",
       "18          18  0.362050  0.361189  4.040816e+05   0.342765\n",
       "19          19  0.362029  0.361190  4.265306e+05   0.342918\n",
       "20          20  0.362065  0.361220  4.489796e+05   0.342205\n",
       "21          21  0.362028  0.361226  4.714286e+05   0.342377\n",
       "22          22  0.362091  0.361197  4.938776e+05   0.341831\n",
       "23          23  0.362024  0.361104  5.163265e+05   0.341638\n",
       "24          24  0.362003  0.361200  5.387755e+05   0.341021\n",
       "25          25  0.362001  0.361211  5.612245e+05   0.340677\n",
       "26          26  0.362066  0.361120  5.836735e+05   0.339764\n",
       "27          27  0.362035  0.361186  6.061224e+05   0.339503\n",
       "28          28  0.362053  0.361097  6.285714e+05   0.338997\n",
       "29          29  0.362043  0.361100  6.510204e+05   0.338985\n",
       "30          30  0.362083  0.361131  6.734694e+05   0.338745\n",
       "31          31  0.362061  0.361042  6.959184e+05   0.338445\n",
       "32          32  0.362057  0.361095  7.183673e+05   0.338153\n",
       "33          33  0.362074  0.361049  7.408163e+05   0.337917\n",
       "34          34  0.362010  0.361141  7.632653e+05   0.338309\n",
       "35          35  0.362055  0.361129  7.857143e+05   0.338248\n",
       "36          36  0.362020  0.361063  8.081633e+05   0.338380\n",
       "37          37  0.362043  0.361169  8.306122e+05   0.338677\n",
       "38          38  0.362037  0.361106  8.530612e+05   0.338469\n",
       "39          39  0.362044  0.361110  8.755102e+05   0.338128\n",
       "40          40  0.362012  0.361106  8.979592e+05   0.337844\n",
       "41          41  0.362062  0.361156  9.204082e+05   0.337863\n",
       "42          42  0.362030  0.360993  9.428571e+05   0.338021\n",
       "43          43  0.362069  0.361015  9.653061e+05   0.338315\n",
       "44          44  0.362077  0.360947  9.877551e+05   0.338615\n",
       "45          45       NaN       NaN  1.010204e+06        NaN\n",
       "46          46       NaN       NaN  1.032653e+06        NaN\n",
       "47          47       NaN       NaN  1.055102e+06        NaN\n",
       "48          48       NaN       NaN  1.077551e+06        NaN"
      ]
     },
     "execution_count": 6,
     "metadata": {},
     "output_type": "execute_result"
    }
   ],
   "source": [
    "gvg.envelope"
   ]
  },
  {
   "cell_type": "code",
   "execution_count": 7,
   "metadata": {
    "collapsed": false
   },
   "outputs": [
    {
     "name": "stdout",
     "output_type": "stream",
     "text": [
      "CPU times: user 5.47 s, sys: 1.56 s, total: 7.03 s\n",
      "Wall time: 7.05 s\n"
     ]
    },
    {
     "data": {
      "image/png": "[encoded data removed]",
      "text/plain": [
       "<matplotlib.figure.Figure at 0x7f1601d66250>"
      ]
     },
     "metadata": {},
     "output_type": "display_data"
    }
   ],
   "source": [
    "## Vario\n",
    "%time gvg.plot()"
   ]
  },
  {
   "cell_type": "code",
   "execution_count": null,
   "metadata": {
    "collapsed": false
   },
   "outputs": [],
   "source": [
    "gvg.envelope"
   ]
  },
  {
   "cell_type": "code",
   "execution_count": null,
   "metadata": {
    "collapsed": false
   },
   "outputs": [],
   "source": [
    "variogram_data_path = \"/apps/external_plugins/spystats/HEC_runs/results/variogram/data_envelope.csv\"\n",
    "thrs_dist = 100000\n",
    "emp_var_log_log = pd.read_csv(variogram_data_path)"
   ]
  },
  {
   "cell_type": "markdown",
   "metadata": {},
   "source": [
    "## Instantiating the variogram object"
   ]
  },
  {
   "cell_type": "code",
   "execution_count": null,
   "metadata": {
    "collapsed": false
   },
   "outputs": [],
   "source": [
    "gvg = tools.Variogram(section,'logBiomass',using_distance_threshold=thrs_dist)\n",
    "gvg.envelope = emp_var_log_log\n",
    "gvg.empirical = emp_var_log_log.variogram\n",
    "gvg.lags = emp_var_log_log.lags\n",
    "#emp_var_log_log = emp_var_log_log.dropna()\n",
    "#vdata = gvg.envelope.dropna()"
   ]
  },
  {
   "cell_type": "markdown",
   "metadata": {},
   "source": [
    "## Instantiating theoretical variogram model"
   ]
  },
  {
   "cell_type": "code",
   "execution_count": 8,
   "metadata": {
    "collapsed": false
   },
   "outputs": [],
   "source": [
    "matern_model = tools.MaternVariogram(sill=0.34,range_a=100000,nugget=0.33,kappa=4)\n",
    "whittle_model = tools.WhittleVariogram(sill=0.34,range_a=100000,nugget=0.0,alpha=3)\n",
    "exp_model = tools.ExponentialVariogram(sill=0.34,range_a=100000,nugget=0.33)\n",
    "gaussian_model = tools.GaussianVariogram(sill=0.34,range_a=100000,nugget=0.33)\n",
    "spherical_model = tools.SphericalVariogram(sill=0.34,range_a=100000,nugget=0.33)"
   ]
  },
  {
   "cell_type": "code",
   "execution_count": 9,
   "metadata": {
    "collapsed": false
   },
   "outputs": [
    {
     "ename": "RuntimeError",
     "evalue": "Optimal parameters not found: Number of calls to function has reached maxfev = 1000.",
     "output_type": "error",
     "traceback": [
      "\u001b[0;31m\u001b[0m",
      "\u001b[0;31mRuntimeError\u001b[0mTraceback (most recent call last)",
      "\u001b[0;32m<ipython-input-9-87e0e6596df7>\u001b[0m in \u001b[0;36m<module>\u001b[0;34m()\u001b[0m\n\u001b[1;32m      3\u001b[0m \u001b[0;31m#models = map(lambda model : gvg.fitVariogramModel(model),[matern_model,whittle_model,exp_model,gaussian_model,spherical_model])\u001b[0m\u001b[0;34m\u001b[0m\u001b[0;34m\u001b[0m\u001b[0m\n\u001b[1;32m      4\u001b[0m \u001b[0;34m\u001b[0m\u001b[0m\n\u001b[0;32m----> 5\u001b[0;31m \u001b[0mgvg\u001b[0m\u001b[0;34m.\u001b[0m\u001b[0mfitVariogramModel\u001b[0m\u001b[0;34m(\u001b[0m\u001b[0mwhittle_model\u001b[0m\u001b[0;34m)\u001b[0m\u001b[0;34m\u001b[0m\u001b[0m\n\u001b[0m",
      "\u001b[0;32m/apps/external_plugins/spystats/tools.py\u001b[0m in \u001b[0;36mfitVariogramModel\u001b[0;34m(self, model_instance, parameter_set)\u001b[0m\n\u001b[1;32m    348\u001b[0m             \u001b[0mparameter_dict\u001b[0m \u001b[0;34m=\u001b[0m \u001b[0mmodel_instance\u001b[0m\u001b[0;34m.\u001b[0m\u001b[0mfit\u001b[0m\u001b[0;34m(\u001b[0m\u001b[0mself\u001b[0m\u001b[0;34m,\u001b[0m\u001b[0mparameter_set\u001b[0m\u001b[0;34m)\u001b[0m\u001b[0;34m\u001b[0m\u001b[0m\n\u001b[1;32m    349\u001b[0m         \u001b[0;32melse\u001b[0m\u001b[0;34m:\u001b[0m\u001b[0;34m\u001b[0m\u001b[0m\n\u001b[0;32m--> 350\u001b[0;31m             \u001b[0mparameter_dict\u001b[0m \u001b[0;34m=\u001b[0m \u001b[0mmodel_instance\u001b[0m\u001b[0;34m.\u001b[0m\u001b[0mfit\u001b[0m\u001b[0;34m(\u001b[0m\u001b[0mself\u001b[0m\u001b[0;34m)\u001b[0m\u001b[0;34m\u001b[0m\u001b[0m\n\u001b[0m\u001b[1;32m    351\u001b[0m \u001b[0;34m\u001b[0m\u001b[0m\n\u001b[1;32m    352\u001b[0m \u001b[0;34m\u001b[0m\u001b[0m\n",
      "\u001b[0;32m/apps/external_plugins/spystats/tools.py\u001b[0m in \u001b[0;36mfit\u001b[0;34m(self, emp_variogram, init_params)\u001b[0m\n\u001b[1;32m    661\u001b[0m \u001b[0;34m\u001b[0m\u001b[0m\n\u001b[1;32m    662\u001b[0m         \u001b[0;32mtry\u001b[0m\u001b[0;34m:\u001b[0m\u001b[0;34m\u001b[0m\u001b[0m\n\u001b[0;32m--> 663\u001b[0;31m             \u001b[0mbest_params\u001b[0m\u001b[0;34m,\u001b[0m \u001b[0mcovar_model\u001b[0m \u001b[0;34m=\u001b[0m \u001b[0mcurve_fit\u001b[0m\u001b[0;34m(\u001b[0m\u001b[0mself\u001b[0m\u001b[0;34m.\u001b[0m\u001b[0mmodel\u001b[0m\u001b[0;34m,\u001b[0m \u001b[0mxdata\u001b[0m\u001b[0;34m=\u001b[0m\u001b[0mlags\u001b[0m\u001b[0;34m,\u001b[0m \u001b[0mydata\u001b[0m\u001b[0;34m=\u001b[0m\u001b[0mvariogram\u001b[0m\u001b[0;34m,\u001b[0m \u001b[0mp0\u001b[0m\u001b[0;34m=\u001b[0m\u001b[0minit_params\u001b[0m\u001b[0;34m)\u001b[0m\u001b[0;34m\u001b[0m\u001b[0m\n\u001b[0m\u001b[1;32m    664\u001b[0m         \u001b[0;32mexcept\u001b[0m \u001b[0mTypeError\u001b[0m\u001b[0;34m:\u001b[0m\u001b[0;34m\u001b[0m\u001b[0m\n\u001b[1;32m    665\u001b[0m             \u001b[0mlogger\u001b[0m\u001b[0;34m.\u001b[0m\u001b[0merror\u001b[0m\u001b[0;34m(\u001b[0m\u001b[0;34m\"This model  does not support more than 3 parameters\"\u001b[0m\u001b[0;34m)\u001b[0m\u001b[0;34m\u001b[0m\u001b[0m\n",
      "\u001b[0;32m/opt/conda/envs/biospytial/lib/python2.7/site-packages/scipy/optimize/minpack.pyc\u001b[0m in \u001b[0;36mcurve_fit\u001b[0;34m(f, xdata, ydata, p0, sigma, absolute_sigma, check_finite, bounds, method, **kwargs)\u001b[0m\n\u001b[1;32m    653\u001b[0m         \u001b[0mcost\u001b[0m \u001b[0;34m=\u001b[0m \u001b[0mnp\u001b[0m\u001b[0;34m.\u001b[0m\u001b[0msum\u001b[0m\u001b[0;34m(\u001b[0m\u001b[0minfodict\u001b[0m\u001b[0;34m[\u001b[0m\u001b[0;34m'fvec'\u001b[0m\u001b[0;34m]\u001b[0m \u001b[0;34m**\u001b[0m \u001b[0;36m2\u001b[0m\u001b[0;34m)\u001b[0m\u001b[0;34m\u001b[0m\u001b[0m\n\u001b[1;32m    654\u001b[0m         \u001b[0;32mif\u001b[0m \u001b[0mier\u001b[0m \u001b[0;32mnot\u001b[0m \u001b[0;32min\u001b[0m \u001b[0;34m[\u001b[0m\u001b[0;36m1\u001b[0m\u001b[0;34m,\u001b[0m \u001b[0;36m2\u001b[0m\u001b[0;34m,\u001b[0m \u001b[0;36m3\u001b[0m\u001b[0;34m,\u001b[0m \u001b[0;36m4\u001b[0m\u001b[0;34m]\u001b[0m\u001b[0;34m:\u001b[0m\u001b[0;34m\u001b[0m\u001b[0m\n\u001b[0;32m--> 655\u001b[0;31m             \u001b[0;32mraise\u001b[0m \u001b[0mRuntimeError\u001b[0m\u001b[0;34m(\u001b[0m\u001b[0;34m\"Optimal parameters not found: \"\u001b[0m \u001b[0;34m+\u001b[0m \u001b[0merrmsg\u001b[0m\u001b[0;34m)\u001b[0m\u001b[0;34m\u001b[0m\u001b[0m\n\u001b[0m\u001b[1;32m    656\u001b[0m     \u001b[0;32melse\u001b[0m\u001b[0;34m:\u001b[0m\u001b[0;34m\u001b[0m\u001b[0m\n\u001b[1;32m    657\u001b[0m         res = least_squares(func, p0, args=args, bounds=bounds, method=method,\n",
      "\u001b[0;31mRuntimeError\u001b[0m: Optimal parameters not found: Number of calls to function has reached maxfev = 1000."
     ]
    }
   ],
   "source": [
    "gvg.model = whittle_model\n",
    "#gvg.model = matern_model\n",
    "#models = map(lambda model : gvg.fitVariogramModel(model),[matern_model,whittle_model,exp_model,gaussian_model,spherical_model])\n",
    "\n",
    "gvg.fitVariogramModel(whittle_model)"
   ]
  },
  {
   "cell_type": "code",
   "execution_count": null,
   "metadata": {
    "collapsed": false
   },
   "outputs": [],
   "source": [
    "## Modelm\n",
    "#models\n",
    "gvg.envelope"
   ]
  },
  {
   "cell_type": "code",
   "execution_count": 10,
   "metadata": {
    "collapsed": false
   },
   "outputs": [
    {
     "ename": "RuntimeError",
     "evalue": "Optimal parameters not found: Number of calls to function has reached maxfev = 1000.",
     "output_type": "error",
     "traceback": [
      "\u001b[0;31m\u001b[0m",
      "\u001b[0;31mRuntimeError\u001b[0mTraceback (most recent call last)",
      "\u001b[0;32m<ipython-input-10-cf85876dcbb0>\u001b[0m in \u001b[0;36m<module>\u001b[0;34m()\u001b[0m\n\u001b[0;32m----> 1\u001b[0;31m \u001b[0mgvg\u001b[0m\u001b[0;34m.\u001b[0m\u001b[0mfitVariogramModel\u001b[0m\u001b[0;34m(\u001b[0m\u001b[0mwhittle_model\u001b[0m\u001b[0;34m)\u001b[0m\u001b[0;34m\u001b[0m\u001b[0m\n\u001b[0m",
      "\u001b[0;32m/apps/external_plugins/spystats/tools.py\u001b[0m in \u001b[0;36mfitVariogramModel\u001b[0;34m(self, model_instance, parameter_set)\u001b[0m\n\u001b[1;32m    348\u001b[0m             \u001b[0mparameter_dict\u001b[0m \u001b[0;34m=\u001b[0m \u001b[0mmodel_instance\u001b[0m\u001b[0;34m.\u001b[0m\u001b[0mfit\u001b[0m\u001b[0;34m(\u001b[0m\u001b[0mself\u001b[0m\u001b[0;34m,\u001b[0m\u001b[0mparameter_set\u001b[0m\u001b[0;34m)\u001b[0m\u001b[0;34m\u001b[0m\u001b[0m\n\u001b[1;32m    349\u001b[0m         \u001b[0;32melse\u001b[0m\u001b[0;34m:\u001b[0m\u001b[0;34m\u001b[0m\u001b[0m\n\u001b[0;32m--> 350\u001b[0;31m             \u001b[0mparameter_dict\u001b[0m \u001b[0;34m=\u001b[0m \u001b[0mmodel_instance\u001b[0m\u001b[0;34m.\u001b[0m\u001b[0mfit\u001b[0m\u001b[0;34m(\u001b[0m\u001b[0mself\u001b[0m\u001b[0;34m)\u001b[0m\u001b[0;34m\u001b[0m\u001b[0m\n\u001b[0m\u001b[1;32m    351\u001b[0m \u001b[0;34m\u001b[0m\u001b[0m\n\u001b[1;32m    352\u001b[0m \u001b[0;34m\u001b[0m\u001b[0m\n",
      "\u001b[0;32m/apps/external_plugins/spystats/tools.py\u001b[0m in \u001b[0;36mfit\u001b[0;34m(self, emp_variogram, init_params)\u001b[0m\n\u001b[1;32m    661\u001b[0m \u001b[0;34m\u001b[0m\u001b[0m\n\u001b[1;32m    662\u001b[0m         \u001b[0;32mtry\u001b[0m\u001b[0;34m:\u001b[0m\u001b[0;34m\u001b[0m\u001b[0m\n\u001b[0;32m--> 663\u001b[0;31m             \u001b[0mbest_params\u001b[0m\u001b[0;34m,\u001b[0m \u001b[0mcovar_model\u001b[0m \u001b[0;34m=\u001b[0m \u001b[0mcurve_fit\u001b[0m\u001b[0;34m(\u001b[0m\u001b[0mself\u001b[0m\u001b[0;34m.\u001b[0m\u001b[0mmodel\u001b[0m\u001b[0;34m,\u001b[0m \u001b[0mxdata\u001b[0m\u001b[0;34m=\u001b[0m\u001b[0mlags\u001b[0m\u001b[0;34m,\u001b[0m \u001b[0mydata\u001b[0m\u001b[0;34m=\u001b[0m\u001b[0mvariogram\u001b[0m\u001b[0;34m,\u001b[0m \u001b[0mp0\u001b[0m\u001b[0;34m=\u001b[0m\u001b[0minit_params\u001b[0m\u001b[0;34m)\u001b[0m\u001b[0;34m\u001b[0m\u001b[0m\n\u001b[0m\u001b[1;32m    664\u001b[0m         \u001b[0;32mexcept\u001b[0m \u001b[0mTypeError\u001b[0m\u001b[0;34m:\u001b[0m\u001b[0;34m\u001b[0m\u001b[0m\n\u001b[1;32m    665\u001b[0m             \u001b[0mlogger\u001b[0m\u001b[0;34m.\u001b[0m\u001b[0merror\u001b[0m\u001b[0;34m(\u001b[0m\u001b[0;34m\"This model  does not support more than 3 parameters\"\u001b[0m\u001b[0;34m)\u001b[0m\u001b[0;34m\u001b[0m\u001b[0m\n",
      "\u001b[0;32m/opt/conda/envs/biospytial/lib/python2.7/site-packages/scipy/optimize/minpack.pyc\u001b[0m in \u001b[0;36mcurve_fit\u001b[0;34m(f, xdata, ydata, p0, sigma, absolute_sigma, check_finite, bounds, method, **kwargs)\u001b[0m\n\u001b[1;32m    653\u001b[0m         \u001b[0mcost\u001b[0m \u001b[0;34m=\u001b[0m \u001b[0mnp\u001b[0m\u001b[0;34m.\u001b[0m\u001b[0msum\u001b[0m\u001b[0;34m(\u001b[0m\u001b[0minfodict\u001b[0m\u001b[0;34m[\u001b[0m\u001b[0;34m'fvec'\u001b[0m\u001b[0;34m]\u001b[0m \u001b[0;34m**\u001b[0m \u001b[0;36m2\u001b[0m\u001b[0;34m)\u001b[0m\u001b[0;34m\u001b[0m\u001b[0m\n\u001b[1;32m    654\u001b[0m         \u001b[0;32mif\u001b[0m \u001b[0mier\u001b[0m \u001b[0;32mnot\u001b[0m \u001b[0;32min\u001b[0m \u001b[0;34m[\u001b[0m\u001b[0;36m1\u001b[0m\u001b[0;34m,\u001b[0m \u001b[0;36m2\u001b[0m\u001b[0;34m,\u001b[0m \u001b[0;36m3\u001b[0m\u001b[0;34m,\u001b[0m \u001b[0;36m4\u001b[0m\u001b[0;34m]\u001b[0m\u001b[0;34m:\u001b[0m\u001b[0;34m\u001b[0m\u001b[0m\n\u001b[0;32m--> 655\u001b[0;31m             \u001b[0;32mraise\u001b[0m \u001b[0mRuntimeError\u001b[0m\u001b[0;34m(\u001b[0m\u001b[0;34m\"Optimal parameters not found: \"\u001b[0m \u001b[0;34m+\u001b[0m \u001b[0merrmsg\u001b[0m\u001b[0;34m)\u001b[0m\u001b[0;34m\u001b[0m\u001b[0m\n\u001b[0m\u001b[1;32m    656\u001b[0m     \u001b[0;32melse\u001b[0m\u001b[0;34m:\u001b[0m\u001b[0;34m\u001b[0m\u001b[0m\n\u001b[1;32m    657\u001b[0m         res = least_squares(func, p0, args=args, bounds=bounds, method=method,\n",
      "\u001b[0;31mRuntimeError\u001b[0m: Optimal parameters not found: Number of calls to function has reached maxfev = 1000."
     ]
    }
   ],
   "source": [
    "gvg.fitVariogramModel(whittle_model)"
   ]
  },
  {
   "cell_type": "code",
   "execution_count": null,
   "metadata": {
    "collapsed": false
   },
   "outputs": [],
   "source": [
    "import numpy as np\n",
    "xx = np.linspace(0,1000000,1000)\n",
    "\n",
    "gvg.plot(refresh=False)\n",
    "plt.plot(xx,whittle_model.f(xx),lw=2.0,c='k')\n",
    "plt.title(\"Empirical Variogram with fitted Whittle Model\")"
   ]
  },
  {
   "cell_type": "code",
   "execution_count": null,
   "metadata": {
    "collapsed": true
   },
   "outputs": [],
   "source": []
  },
  {
   "cell_type": "code",
   "execution_count": null,
   "metadata": {
    "collapsed": false
   },
   "outputs": [],
   "source": [
    "import numpy as np\n",
    "xx = np.linspace(0,1000000,1000)\n",
    "plt.plot(xx,gvg.model.f(xx))"
   ]
  },
  {
   "cell_type": "code",
   "execution_count": null,
   "metadata": {
    "collapsed": false
   },
   "outputs": [],
   "source": [
    "gvg.plot(refresh=False)\n",
    "plt.plot(xx,gvg.model.f(xx))"
   ]
  },
  {
   "cell_type": "code",
   "execution_count": null,
   "metadata": {
    "collapsed": false
   },
   "outputs": [],
   "source": [
    "type(gvg.model)"
   ]
  },
  {
   "cell_type": "code",
   "execution_count": null,
   "metadata": {
    "collapsed": false
   },
   "outputs": [],
   "source": [
    "matern_model = tools.MaternVariogram(sill=0.34,range_a=100000,nugget=0.0,kappa=0.5)\n",
    "whittle_model = tools.WhittleVariogram(sill=0.34,range_a=100000,nugget=0.0,alpha=3)"
   ]
  },
  {
   "cell_type": "code",
   "execution_count": null,
   "metadata": {
    "collapsed": false
   },
   "outputs": [],
   "source": [
    "plt.plot(xx,whittle_model.f(xx))"
   ]
  },
  {
   "cell_type": "code",
   "execution_count": null,
   "metadata": {
    "collapsed": false
   },
   "outputs": [],
   "source": [
    "gvg.model = whittle_model\n"
   ]
  },
  {
   "cell_type": "code",
   "execution_count": null,
   "metadata": {
    "collapsed": false
   },
   "outputs": [],
   "source": [
    "gvg.fitVariogramModel(whittle_model)"
   ]
  },
  {
   "cell_type": "code",
   "execution_count": null,
   "metadata": {
    "collapsed": false
   },
   "outputs": [],
   "source": [
    "gvg.plot(refresh=False)\n",
    "plt.plot(xx,gvg.model.f(xx))"
   ]
  },
  {
   "cell_type": "code",
   "execution_count": null,
   "metadata": {
    "collapsed": false
   },
   "outputs": [],
   "source": [
    "plt.plot(xx,gvg.model.corr_f(xx))"
   ]
  },
  {
   "cell_type": "code",
   "execution_count": null,
   "metadata": {
    "collapsed": true
   },
   "outputs": [],
   "source": [
    "expm = tools.ExponentialVariogram(sill=0.34,range_a=100000,nugget=0.2)"
   ]
  },
  {
   "cell_type": "code",
   "execution_count": null,
   "metadata": {
    "collapsed": false
   },
   "outputs": [],
   "source": [
    "plt.plot(xx,expm.f(xx))\n",
    "y = expm.f(xx)"
   ]
  },
  {
   "cell_type": "code",
   "execution_count": null,
   "metadata": {
    "collapsed": false
   },
   "outputs": [],
   "source": [
    "plt.plot(xx,(expm.corr_f(xx)))"
   ]
  },
  {
   "cell_type": "code",
   "execution_count": null,
   "metadata": {
    "collapsed": true
   },
   "outputs": [],
   "source": [
    "def randomSelection(n,p):\n",
    "    idxs = np.random.choice(n,p,replace=False)\n",
    "    random_sample = new_data.iloc[idxs]\n",
    "    return random_sample\n",
    "#################\n",
    "n = len(new_data)\n",
    "p = 3000 # The amount of samples taken (let's do it without replacement)"
   ]
  },
  {
   "cell_type": "code",
   "execution_count": null,
   "metadata": {
    "collapsed": true
   },
   "outputs": [],
   "source": [
    "random_sample = randomSelection(n,100)"
   ]
  },
  {
   "cell_type": "code",
   "execution_count": null,
   "metadata": {
    "collapsed": false
   },
   "outputs": [],
   "source": [
    "random_sample.shape"
   ]
  },
  {
   "cell_type": "code",
   "execution_count": null,
   "metadata": {
    "collapsed": true
   },
   "outputs": [],
   "source": [
    "secvg = tools.Variogram(random_sample,'logBiomass',model=whittle_model)"
   ]
  },
  {
   "cell_type": "code",
   "execution_count": null,
   "metadata": {
    "collapsed": false
   },
   "outputs": [],
   "source": [
    "Mdist = secvg.distance_coordinates"
   ]
  },
  {
   "cell_type": "code",
   "execution_count": null,
   "metadata": {
    "collapsed": false
   },
   "outputs": [],
   "source": [
    "Mdist.shape"
   ]
  },
  {
   "cell_type": "code",
   "execution_count": null,
   "metadata": {
    "collapsed": false
   },
   "outputs": [],
   "source": [
    "cc = gvg.model.calculateCovarianceMatrixWith(Mdist)"
   ]
  },
  {
   "cell_type": "code",
   "execution_count": null,
   "metadata": {
    "collapsed": false
   },
   "outputs": [],
   "source": [
    "cc.shape"
   ]
  },
  {
   "cell_type": "code",
   "execution_count": null,
   "metadata": {
    "collapsed": false
   },
   "outputs": [],
   "source": [
    "np.linalg.cholesky(cc)"
   ]
  },
  {
   "cell_type": "code",
   "execution_count": null,
   "metadata": {
    "collapsed": false
   },
   "outputs": [],
   "source": [
    "cc.diagonal()"
   ]
  },
  {
   "cell_type": "code",
   "execution_count": null,
   "metadata": {
    "collapsed": false
   },
   "outputs": [],
   "source": [
    "calculateGLS(random_sample,cc)"
   ]
  },
  {
   "cell_type": "code",
   "execution_count": null,
   "metadata": {
    "collapsed": true
   },
   "outputs": [],
   "source": []
  }
 ],
 "metadata": {
  "kernelspec": {
   "display_name": "Django Shell-Plus",
   "language": "python",
   "name": "django_extensions"
  },
  "language_info": {
   "codemirror_mode": {
    "name": "ipython",
    "version": 2
   },
   "file_extension": ".py",
   "mimetype": "text/x-python",
   "name": "python",
   "nbconvert_exporter": "python",
   "pygments_lexer": "ipython2",
   "version": "2.7.11"
  }
 },
 "nbformat": 4,
 "nbformat_minor": 0
}
