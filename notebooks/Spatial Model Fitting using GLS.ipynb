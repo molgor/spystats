{
 "cells": [
  {
   "cell_type": "markdown",
   "metadata": {},
   "source": [
    "# Spatial Model fitting in GLS\n",
    "In this exercise we will fit a linear model using a Spatial structure as covariance matrix. \n",
    "We will use GLS to get better estimators.\n",
    "\n",
    "As always we will need to load the necessary libraries."
   ]
  },
  {
   "cell_type": "code",
   "execution_count": 1,
   "metadata": {
    "collapsed": true
   },
   "outputs": [],
   "source": [
    "# Load Biospytial modules and etc.\n",
    "%matplotlib inline\n",
    "import sys\n",
    "sys.path.append('/apps')\n",
    "sys.path.append('..')\n",
    "import django\n",
    "django.setup()\n",
    "import pandas as pd\n",
    "import matplotlib.pyplot as plt\n",
    "import numpy as np\n",
    "## Use the ggplot style\n",
    "plt.style.use('ggplot')\n",
    "import tools"
   ]
  },
  {
   "cell_type": "code",
   "execution_count": 2,
   "metadata": {
    "collapsed": true
   },
   "outputs": [],
   "source": [
    "## Sectionate by coordinates\n",
    "##minx = -85\n",
    "##maxx = -80\n",
    "##miny = 30\n",
    "##maxy = 35\n",
    "\n",
    "\n",
    "### PATH information for running in the Biospytial container\n",
    "#plotdata_path = \"/RawDataCSV/idiv_share/plotsClimateData_11092017.csv\"\n",
    "#empirical_data_path = \"/apps/external_plugins/spystats/HEC_runs/results/logbiomas_logsppn_res.csv\"\n"
   ]
  },
  {
   "cell_type": "markdown",
   "metadata": {
    "collapsed": false
   },
   "source": [
    "Use this to automate the process. Be carefull it can overwrite current results\n",
    "\n",
    "`run ../HEC_runs/fit_fia_logbiomass_logspp_GLS.py /RawDataCSV/idiv_share/plotsClimateData_11092017.csv /apps/external_plugins/spystats/HEC_runs/results/logbiomas_logsppn_res.csv -85 -80 30 35`"
   ]
  },
  {
   "cell_type": "markdown",
   "metadata": {},
   "source": [
    "## Importing data\n",
    "We will use the FIA dataset and for exemplary purposes we will take a subsample of this data. \n",
    "Also important.\n",
    "The empirical variogram has been calculated for the entire data set using the residuals of an OLS model. \n",
    "\n",
    "We will use some auxiliary functions defined in the `fit_fia_logbiomass_logspp_GLS`.\n",
    "You can inspect the functions using the ?? symbol."
   ]
  },
  {
   "cell_type": "code",
   "execution_count": 3,
   "metadata": {
    "collapsed": false
   },
   "outputs": [],
   "source": [
    "from HEC_runs.fit_fia_logbiomass_logspp_GLS import prepareDataFrame, createVariogram, buildSpatialStructure, calculateGLS"
   ]
  },
  {
   "cell_type": "code",
   "execution_count": 4,
   "metadata": {
    "collapsed": false
   },
   "outputs": [
    {
     "name": "stderr",
     "output_type": "stream",
     "text": [
      "INFO:HEC_runs.fit_fia_logbiomass_logspp_GLS:Reprojecting to Alberts equal area\n",
      "INFO:HEC_runs.fit_fia_logbiomass_logspp_GLS:Removing possible duplicates. \n",
      " This avoids problems of Non Positive semidefinite\n"
     ]
    }
   ],
   "source": [
    "#new_data = prepareDataFrame(\"/RawDataCSV/idiv_share/plotsClimateData_11092017.csv\")\n",
    "## New \"official\" dataset\n",
    "new_data = prepareDataFrame(\"/RawDataCSV/idiv_share/FIA_Plots_Biomass_11092017.csv\")"
   ]
  },
  {
   "cell_type": "markdown",
   "metadata": {},
   "source": [
    "Now we will obtain the data from the calculated empirical variogram."
   ]
  },
  {
   "cell_type": "code",
   "execution_count": 5,
   "metadata": {
    "collapsed": false
   },
   "outputs": [],
   "source": [
    "variogram_data_path = \"/apps/external_plugins/spystats/HEC_runs/results/variogram/data_envelope.csv\"\n",
    "thrs_dist = 100000\n",
    "emp_var_log_log = pd.read_csv(variogram_data_path)"
   ]
  },
  {
   "cell_type": "markdown",
   "metadata": {},
   "source": [
    "## Instantiating the variogram object"
   ]
  },
  {
   "cell_type": "code",
   "execution_count": 6,
   "metadata": {
    "collapsed": false
   },
   "outputs": [],
   "source": [
    "gvg = tools.Variogram(new_data,'logBiomass',using_distance_threshold=thrs_dist)\n",
    "gvg.envelope = emp_var_log_log\n",
    "gvg.empirical = emp_var_log_log.variogram\n",
    "gvg.lags = emp_var_log_log.lags\n",
    "#emp_var_log_log = emp_var_log_log.dropna()\n",
    "#vdata = gvg.envelope.dropna()"
   ]
  },
  {
   "cell_type": "markdown",
   "metadata": {},
   "source": [
    "## Instantiating theoretical variogram model"
   ]
  },
  {
   "cell_type": "code",
   "execution_count": 26,
   "metadata": {
    "collapsed": false
   },
   "outputs": [],
   "source": [
    "matern_model = tools.MaternVariogram(sill=0.34,range_a=100000,nugget=0.33,kappa=4)\n",
    "whittle_model = tools.WhittleVariogram(sill=0.34,range_a=100000,nugget=0.0,alpha=3)\n",
    "exp_model = tools.ExponentialVariogram(sill=0.34,range_a=100000,nugget=0.33)\n",
    "gaussian_model = tools.GaussianVariogram(sill=0.34,range_a=100000,nugget=0.33)\n",
    "spherical_model = tools.SphericalVariogram(sill=0.34,range_a=100000,nugget=0.33)"
   ]
  },
  {
   "cell_type": "code",
   "execution_count": 30,
   "metadata": {
    "collapsed": false
   },
   "outputs": [],
   "source": [
    "#gvg.model = whittle_model\n",
    "#gvg.model = matern_model\n",
    "models = map(lambda model : gvg.fitVariogramModel(model),[matern_model,whittle_model,exp_model,gaussian_model,spherical_model])\n"
   ]
  },
  {
   "cell_type": "code",
   "execution_count": 31,
   "metadata": {
    "collapsed": false
   },
   "outputs": [
    {
     "data": {
      "text/plain": [
       "[< Matern Variogram : sill 0.340125401705, range 5577.83789733, nugget 0.33, kappa 4 >,\n",
       " < Whittle Variogram : sill 0.340288288241, range 40963.3203528, nugget 0.329830410223, alpha1.12279978135 >,\n",
       " < Exponential Variogram : sill 0.340294258738, range 38507.8253768, nugget 0.329629457808 >,\n",
       " < Gaussian Variogram : sill 0.340237044718, range 44828.0323827, nugget 0.330734960804 >,\n",
       " < Spherical Variogram : sill 266491706445.0, range 3.85462485193e+19, nugget 0.337832317845 >]"
      ]
     },
     "execution_count": 31,
     "metadata": {},
     "output_type": "execute_result"
    }
   ],
   "source": [
    "## Modelm\n",
    "models"
   ]
  },
  {
   "cell_type": "code",
   "execution_count": 28,
   "metadata": {
    "collapsed": false
   },
   "outputs": [
    {
     "name": "stdout",
     "output_type": "stream",
     "text": [
      "< Spherical Variogram : sill 0.34, range 100000, nugget 0.33 >\n",
      "< Gaussian Variogram : sill 0.340237060967, range 44831.3955259, nugget 0.33073521072 >\n"
     ]
    }
   ],
   "source": [
    "print(spherical_model)\n",
    "print(gaussian_model)"
   ]
  },
  {
   "cell_type": "code",
   "execution_count": 22,
   "metadata": {
    "collapsed": false
   },
   "outputs": [
    {
     "data": {
      "text/plain": [
       "<matplotlib.text.Text at 0x7f54464b0ed0>"
      ]
     },
     "execution_count": 22,
     "metadata": {},
     "output_type": "execute_result"
    },
    {
     "data": {
      "image/png": "[encoded data removed]",
      "text/plain": [
       "<matplotlib.figure.Figure at 0x7f54464df3d0>"
      ]
     },
     "metadata": {},
     "output_type": "display_data"
    }
   ],
   "source": [
    "import numpy as np\n",
    "xx = np.linspace(0,1000000,1000)\n",
    "\n",
    "gvg.plot(refresh=False)\n",
    "plt.plot(xx,gvg.model.f(xx),lw=2.0,c='k')\n",
    "plt.title(\"Empirical Variogram with fitted Whittle Model\")"
   ]
  },
  {
   "cell_type": "code",
   "execution_count": null,
   "metadata": {
    "collapsed": true
   },
   "outputs": [],
   "source": []
  },
  {
   "cell_type": "code",
   "execution_count": null,
   "metadata": {
    "collapsed": false
   },
   "outputs": [],
   "source": [
    "import numpy as np\n",
    "xx = np.linspace(0,1000000,1000)\n",
    "plt.plot(xx,gvg.model.f(xx))"
   ]
  },
  {
   "cell_type": "code",
   "execution_count": null,
   "metadata": {
    "collapsed": false
   },
   "outputs": [],
   "source": [
    "gvg.plot(refresh=False)\n",
    "plt.plot(xx,gvg.model.f(xx))"
   ]
  },
  {
   "cell_type": "code",
   "execution_count": null,
   "metadata": {
    "collapsed": false
   },
   "outputs": [],
   "source": [
    "type(gvg.model)"
   ]
  },
  {
   "cell_type": "code",
   "execution_count": null,
   "metadata": {
    "collapsed": false
   },
   "outputs": [],
   "source": [
    "matern_model = tools.MaternVariogram(sill=0.34,range_a=100000,nugget=0.0,kappa=0.5)\n",
    "whittle_model = tools.WhittleVariogram(sill=0.34,range_a=100000,nugget=0.0,alpha=3)"
   ]
  },
  {
   "cell_type": "code",
   "execution_count": null,
   "metadata": {
    "collapsed": false
   },
   "outputs": [],
   "source": [
    "plt.plot(xx,whittle_model.f(xx))"
   ]
  },
  {
   "cell_type": "code",
   "execution_count": null,
   "metadata": {
    "collapsed": false
   },
   "outputs": [],
   "source": [
    "gvg.model = whittle_model\n"
   ]
  },
  {
   "cell_type": "code",
   "execution_count": null,
   "metadata": {
    "collapsed": false
   },
   "outputs": [],
   "source": [
    "gvg.fitVariogramModel(whittle_model)"
   ]
  },
  {
   "cell_type": "code",
   "execution_count": null,
   "metadata": {
    "collapsed": false
   },
   "outputs": [],
   "source": [
    "gvg.plot(refresh=False)\n",
    "plt.plot(xx,gvg.model.f(xx))"
   ]
  },
  {
   "cell_type": "code",
   "execution_count": null,
   "metadata": {
    "collapsed": false
   },
   "outputs": [],
   "source": [
    "plt.plot(xx,gvg.model.corr_f(xx))"
   ]
  },
  {
   "cell_type": "code",
   "execution_count": null,
   "metadata": {
    "collapsed": true
   },
   "outputs": [],
   "source": [
    "expm = tools.ExponentialVariogram(sill=0.34,range_a=100000,nugget=0.2)"
   ]
  },
  {
   "cell_type": "code",
   "execution_count": null,
   "metadata": {
    "collapsed": false
   },
   "outputs": [],
   "source": [
    "plt.plot(xx,expm.f(xx))\n",
    "y = expm.f(xx)"
   ]
  },
  {
   "cell_type": "code",
   "execution_count": null,
   "metadata": {
    "collapsed": false
   },
   "outputs": [],
   "source": [
    "plt.plot(xx,(expm.corr_f(xx)))"
   ]
  },
  {
   "cell_type": "code",
   "execution_count": null,
   "metadata": {
    "collapsed": true
   },
   "outputs": [],
   "source": [
    "def randomSelection(n,p):\n",
    "    idxs = np.random.choice(n,p,replace=False)\n",
    "    random_sample = new_data.iloc[idxs]\n",
    "    return random_sample\n",
    "#################\n",
    "n = len(new_data)\n",
    "p = 3000 # The amount of samples taken (let's do it without replacement)"
   ]
  },
  {
   "cell_type": "code",
   "execution_count": null,
   "metadata": {
    "collapsed": true
   },
   "outputs": [],
   "source": [
    "random_sample = randomSelection(n,100)"
   ]
  },
  {
   "cell_type": "code",
   "execution_count": null,
   "metadata": {
    "collapsed": false
   },
   "outputs": [],
   "source": [
    "random_sample.shape"
   ]
  },
  {
   "cell_type": "code",
   "execution_count": null,
   "metadata": {
    "collapsed": true
   },
   "outputs": [],
   "source": [
    "secvg = tools.Variogram(random_sample,'logBiomass',model=whittle_model)"
   ]
  },
  {
   "cell_type": "code",
   "execution_count": null,
   "metadata": {
    "collapsed": false
   },
   "outputs": [],
   "source": [
    "Mdist = secvg.distance_coordinates"
   ]
  },
  {
   "cell_type": "code",
   "execution_count": null,
   "metadata": {
    "collapsed": false
   },
   "outputs": [],
   "source": [
    "Mdist.shape"
   ]
  },
  {
   "cell_type": "code",
   "execution_count": null,
   "metadata": {
    "collapsed": false
   },
   "outputs": [],
   "source": [
    "cc = gvg.model.calculateCovarianceMatrixWith(Mdist)"
   ]
  },
  {
   "cell_type": "code",
   "execution_count": null,
   "metadata": {
    "collapsed": false
   },
   "outputs": [],
   "source": [
    "cc.shape"
   ]
  },
  {
   "cell_type": "code",
   "execution_count": null,
   "metadata": {
    "collapsed": false
   },
   "outputs": [],
   "source": [
    "np.linalg.cholesky(cc)"
   ]
  },
  {
   "cell_type": "code",
   "execution_count": null,
   "metadata": {
    "collapsed": false
   },
   "outputs": [],
   "source": [
    "cc.diagonal()"
   ]
  },
  {
   "cell_type": "code",
   "execution_count": null,
   "metadata": {
    "collapsed": false
   },
   "outputs": [],
   "source": [
    "calculateGLS(random_sample,cc)"
   ]
  },
  {
   "cell_type": "code",
   "execution_count": null,
   "metadata": {
    "collapsed": true
   },
   "outputs": [],
   "source": []
  }
 ],
 "metadata": {
  "kernelspec": {
   "display_name": "Django Shell-Plus",
   "language": "python",
   "name": "django_extensions"
  },
  "language_info": {
   "codemirror_mode": {
    "name": "ipython",
    "version": 2
   },
   "file_extension": ".py",
   "mimetype": "text/x-python",
   "name": "python",
   "nbconvert_exporter": "python",
   "pygments_lexer": "ipython2",
   "version": "2.7.11"
  }
 },
 "nbformat": 4,
 "nbformat_minor": 0
}
