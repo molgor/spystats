{
 "cells": [
  {
   "cell_type": "code",
   "execution_count": 1,
   "metadata": {
    "collapsed": true
   },
   "outputs": [],
   "source": [
    "%matplotlib inline\n",
    "import sys\n",
    "sys.path.append('/apps')\n",
    "import django\n",
    "django.setup()\n",
    "from drivers.graph_models import TreeNode, Order, Family, graph, pickNode\n",
    "from traversals.strategies import sumTrees, UniformRandomSampleForest"
   ]
  },
  {
   "cell_type": "markdown",
   "metadata": {},
   "source": [
    "In this notebook I´ll create functions for easing the development of geostatistical models using the GPFlow (James H, et.al )the library for modelling gaussian processes in Tensor Flow (Google) (Great Library, btw)."
   ]
  },
  {
   "cell_type": "markdown",
   "metadata": {},
   "source": [
    "## Requirements\n",
    "\n",
    "### Inputs\n",
    "* Design Matrix X composed of coovariates and spatio-temporal coordinates.\n",
    "* A desired hypespace $A \\subseteq \\mathbb{R}^{n}$ (e.g. Borelian, Closed, Discrete,Partition)\n",
    "* An aditional set of hyperparameters and initializations.\n",
    "\n",
    "### Processing\n",
    "* A wrapper with GPflow regressor (This will be experimental)\n",
    "\n",
    "### Outputs\n",
    "* The fitted GPR model.\n",
    "* A tensor composed of the coordinates of two dimensions and the predicted field given a initial condition (tensor of rank two.\n",
    "\n"
   ]
  },
  {
   "cell_type": "markdown",
   "metadata": {},
   "source": [
    "# Get some sample data\n"
   ]
  },
  {
   "cell_type": "code",
   "execution_count": 4,
   "metadata": {
    "collapsed": false
   },
   "outputs": [
    {
     "name": "stderr",
     "output_type": "stream",
     "text": [
      "DEBUG Changed MESH TABLE SPACE\n",
      "INFO Getting information. DEveloper! You can make this faster if you use Batchmode for py2neo.\n",
      "INFO Retrieving the Tree Structures. \n",
      " Get a coffee this will take time.\n",
      "INFO Merging Trees\n",
      "INFO Merging Trees\n",
      "INFO Merging Trees\n",
      "INFO Merging Trees\n",
      "INFO Merging Trees\n",
      "INFO Merging Trees\n",
      "INFO Merging Trees\n",
      "INFO Merging Trees\n",
      "INFO Merging Trees\n",
      "INFO Merging Trees\n",
      "INFO Merging Trees\n",
      "INFO Merging Trees\n",
      "INFO Merging Trees\n",
      "INFO Merging Trees\n",
      "INFO Merging Trees\n",
      "DEBUG Changed MESH TABLE SPACE\n"
     ]
    }
   ],
   "source": [
    "run ../../../../traversals/tests.py"
   ]
  },
  {
   "cell_type": "markdown",
   "metadata": {},
   "source": [
    "# GPFlow first approximation"
   ]
  },
  {
   "cell_type": "code",
   "execution_count": 12,
   "metadata": {
    "collapsed": false
   },
   "outputs": [],
   "source": [
    "import tensorflow as tf\n",
    "import GPflow as gf\n",
    "import pandas as pd\n",
    "k = gf.kernels.Matern12(2, lengthscales=1, active_dims = [3,4])\n",
    "X = pd.concat((rd[['MeanTemperature_mean','Precipitation_mean','WindSpeed_mean']],s[['Longitude','Latitude']]),axis=1)\n",
    "k = gf.kernels.Matern12(2, lengthscales=1, active_dims = [0,1])\n",
    "X = s[['Longitude','Latitude']]\n",
    "Y = rd['Elevation_mean']\n",
    "\n"
   ]
  },
  {
   "cell_type": "code",
   "execution_count": 41,
   "metadata": {
    "collapsed": false
   },
   "outputs": [
    {
     "name": "stdout",
     "output_type": "stream",
     "text": [
      "name.kern.\u001b[1mlengthscales\u001b[0m transform:+ve prior:None\n",
      "[ 0.03719554]\n",
      "name.kern.\u001b[1mvariance\u001b[0m transform:+ve prior:None\n",
      "[ 10830.59025205]\n",
      "name.likelihood.\u001b[1mvariance\u001b[0m transform:+ve prior:None\n",
      "[ 10.]\n",
      "name.mean_function.\u001b[1mA\u001b[0m transform:(none) prior:None\n",
      "[[-22.33709169]\n",
      " [  5.16483343]]\n",
      "name.mean_function.\u001b[1mb\u001b[0m transform:(none) prior:None\n",
      "[ 1.25283016]\n"
     ]
    }
   ],
   "source": [
    "mx = X.as_matrix()\n",
    "my = Y.as_matrix().reshape(16,1)\n",
    "mx.shape\n",
    "meanf = gf.mean_functions.Linear(np.ones((2,1)), np.ones(1))\n",
    "m = gf.gpr.GPR(mx,my,k,mean_function=meanf)\n",
    "m.optimize()\n",
    "m.likelihood.variance = 10\n",
    "print(m)"
   ]
  },
  {
   "cell_type": "markdown",
   "metadata": {},
   "source": [
    "## Buidling a grid for the interpolation (prediction)\n",
    "The first step is to inspect the range of the geographical space.\n"
   ]
  },
  {
   "cell_type": "code",
   "execution_count": 42,
   "metadata": {
    "collapsed": false
   },
   "outputs": [
    {
     "data": {
      "text/plain": [
       "<matplotlib.axes._subplots.AxesSubplot at 0x7fe2152f4c10>"
      ]
     },
     "execution_count": 42,
     "metadata": {},
     "output_type": "execute_result"
    },
    {
     "data": {
      "image/png": "[encoded data removed]",
      "text/plain": [
       "<matplotlib.figure.Figure at 0x7fe2251691d0>"
      ]
     },
     "metadata": {},
     "output_type": "display_data"
    }
   ],
   "source": [
    "X.plot.scatter('Longitude','Latitude')"
   ]
  },
  {
   "cell_type": "markdown",
   "metadata": {},
   "source": [
    "### Lets build a mesh grid and then a pcolor using that meshgrid."
   ]
  },
  {
   "cell_type": "code",
   "execution_count": 95,
   "metadata": {
    "collapsed": false
   },
   "outputs": [],
   "source": [
    "Nn = 300\n",
    "predicted_x = np.linspace(min(X.Longitude),max(X.Longitude),Nn)\n",
    "predicted_y = np.linspace(min(X.Latitude),max(X.Latitude),Nn)\n",
    "Xx, Yy = np.meshgrid(predicted_x,predicted_y)\n",
    "predicted_coordinates = np.vstack([Xx.ravel(), Yy.ravel()]).transpose()"
   ]
  },
  {
   "cell_type": "code",
   "execution_count": 96,
   "metadata": {
    "collapsed": false
   },
   "outputs": [
    {
     "data": {
      "text/plain": [
       "(90000, 2)"
      ]
     },
     "execution_count": 96,
     "metadata": {},
     "output_type": "execute_result"
    }
   ],
   "source": [
    "predicted_coordinates.shape"
   ]
  },
  {
   "cell_type": "code",
   "execution_count": 97,
   "metadata": {
    "collapsed": false
   },
   "outputs": [],
   "source": [
    "means,variances = m.predict_y(predicted_coordinates)"
   ]
  },
  {
   "cell_type": "code",
   "execution_count": 107,
   "metadata": {
    "collapsed": true
   },
   "outputs": [],
   "source": [
    "plt.style.use('ggplot')"
   ]
  },
  {
   "cell_type": "code",
   "execution_count": 117,
   "metadata": {
    "collapsed": false
   },
   "outputs": [
    {
     "data": {
      "text/plain": [
       "<matplotlib.collections.PathCollection at 0x7fe1eec03f50>"
      ]
     },
     "execution_count": 117,
     "metadata": {},
     "output_type": "execute_result"
    },
    {
     "data": {
      "image/png": "[encoded data removed]",
      "text/plain": [
       "<matplotlib.figure.Figure at 0x7fe1f1922890>"
      ]
     },
     "metadata": {},
     "output_type": "display_data"
    }
   ],
   "source": [
    "### Let´s plot\n",
    "#X.plot.scatter('Longitude','Latitude')\n",
    "plt.pcolor(Xx,Yy,means.reshape(Nn,Nn))\n",
    "plt.scatter(X.Longitude,X.Latitude,s=Y*0.05,c=Y,cmap=plt.cm.binary)\n",
    "\n",
    "\n"
   ]
  },
  {
   "cell_type": "markdown",
   "metadata": {},
   "source": [
    "## We can get the direct Elevation data with:"
   ]
  },
  {
   "cell_type": "code",
   "execution_count": 118,
   "metadata": {
    "collapsed": true
   },
   "outputs": [],
   "source": [
    "elev = big_t.associatedData.getAssociatedRasterAreaData('Elevation')"
   ]
  },
  {
   "cell_type": "code",
   "execution_count": 119,
   "metadata": {
    "collapsed": false
   },
   "outputs": [
    {
     "data": {
      "image/png": "[encoded data removed]",
      "text/plain": [
       "<matplotlib.figure.Figure at 0x7fe1f4611e50>"
      ]
     },
     "metadata": {},
     "output_type": "display_data"
    }
   ],
   "source": [
    "elev.display_field()"
   ]
  },
  {
   "cell_type": "code",
   "execution_count": 120,
   "metadata": {
    "collapsed": true
   },
   "outputs": [],
   "source": [
    "## But we can extract directly the info from this raster.\n",
    "from django.contrib.gis.geos import Point\n",
    "true_elevs = map(lambda p : elev.getValue(Point(*p)),predicted_coordinates)"
   ]
  },
  {
   "cell_type": "code",
   "execution_count": 121,
   "metadata": {
    "collapsed": true
   },
   "outputs": [],
   "source": [
    "# so the errors are: \n",
    "errors= means - true_elevs"
   ]
  },
  {
   "cell_type": "code",
   "execution_count": 148,
   "metadata": {
    "collapsed": false
   },
   "outputs": [
    {
     "data": {
      "text/plain": [
       "(array([   15.,    31.,    49.,    72.,   125.,   180.,   225.,   250.,\n",
       "          277.,   285.,   255.,   233.,   225.,   227.,   289.,   354.,\n",
       "          576.,   979.,  1315.,  1789.,  2233.,  2832.,  3576.,  3865.,\n",
       "         3653.,  4631.,  4582.,  4734.,  6050.,  5691.,  5667.,  5166.,\n",
       "         4997.,  4363.,  2609.,  1750.,  1839.,  2083.,  1821.,  1238.,\n",
       "         1316.,  1114.,   906.,  1311.,  1622.,   506.,   773.,   957.,\n",
       "          338.,    26.]),\n",
       " array([-339.51473116, -328.92879389, -318.34285661, -307.75691934,\n",
       "        -297.17098206, -286.58504479, -275.99910752, -265.41317024,\n",
       "        -254.82723297, -244.24129569, -233.65535842, -223.06942114,\n",
       "        -212.48348387, -201.89754659, -191.31160932, -180.72567204,\n",
       "        -170.13973477, -159.55379749, -148.96786022, -138.38192294,\n",
       "        -127.79598567, -117.21004839, -106.62411112,  -96.03817384,\n",
       "         -85.45223657,  -74.86629929,  -64.28036202,  -53.69442474,\n",
       "         -43.10848747,  -32.52255019,  -21.93661292,  -11.35067564,\n",
       "          -0.76473837,    9.82119891,   20.40713618,   30.99307345,\n",
       "          41.57901073,   52.164948  ,   62.75088528,   73.33682255,\n",
       "          83.92275983,   94.5086971 ,  105.09463438,  115.68057165,\n",
       "         126.26650893,  136.8524462 ,  147.43838348,  158.02432075,\n",
       "         168.61025803,  179.1961953 ,  189.78213258]),\n",
       " <a list of 50 Patch objects>)"
      ]
     },
     "execution_count": 148,
     "metadata": {},
     "output_type": "execute_result"
    },
    {
     "data": {
      "image/png": "[encoded data removed]",
      "text/plain": [
       "<matplotlib.figure.Figure at 0x7fe1ecb9ee50>"
      ]
     },
     "metadata": {},
     "output_type": "display_data"
    }
   ],
   "source": [
    "plt.hist(errors,bins=50)"
   ]
  },
  {
   "cell_type": "code",
   "execution_count": null,
   "metadata": {
    "collapsed": true
   },
   "outputs": [],
   "source": [
    "# Covariates as mean function"
   ]
  },
  {
   "cell_type": "code",
   "execution_count": 133,
   "metadata": {
    "collapsed": false
   },
   "outputs": [],
   "source": [
    "k = gf.kernels.Matern12(2, lengthscales=1, active_dims = [6,7])\n",
    "X = pd.concat((rd[['MaxTemperature_mean', u'MeanTemperature_mean',\n",
    "       u'MinTemperature_mean', u'Precipitation_mean', u'SolarRadiation_mean',\n",
    "       u'Vapor_mean']],s[['Longitude','Latitude']]),axis=1)\n",
    "mx = X.as_matrix()\n",
    "my = Y.as_matrix().reshape(16,1)\n",
    "meanf = gf.mean_functions.Linear(np.ones((8,1)), np.ones(1))\n",
    "m = gf.gpr.GPR(mx,my,k,mean_function=meanf)\n",
    "m.likelihood.variance = 10\n",
    "m.optimize()\n",
    "print(m)\n"
   ]
  },
  {
   "cell_type": "code",
   "execution_count": 134,
   "metadata": {
    "collapsed": false
   },
   "outputs": [
    {
     "data": {
      "text/plain": [
       "Index([u'MaxTemperature_mean', u'MeanTemperature_mean', u'MinTemperature_mean',\n",
       "       u'Precipitation_mean', u'SolarRadiation_mean', u'Vapor_mean',\n",
       "       u'Longitude', u'Latitude'],\n",
       "      dtype='object')"
      ]
     },
     "execution_count": 134,
     "metadata": {},
     "output_type": "execute_result"
    }
   ],
   "source": [
    "X.columns"
   ]
  },
  {
   "cell_type": "code",
   "execution_count": 137,
   "metadata": {
    "collapsed": false
   },
   "outputs": [
    {
     "name": "stdout",
     "output_type": "stream",
     "text": [
      "name.kern.\u001b[1mlengthscales\u001b[0m transform:+ve prior:None\n",
      "[  1.00000000e-06]\n",
      "name.kern.\u001b[1mvariance\u001b[0m transform:+ve prior:None\n",
      "[ 267.33309527]\n",
      "name.likelihood.\u001b[1mvariance\u001b[0m transform:+ve prior:None\n",
      "[ 29.46782876]\n",
      "name.mean_function.\u001b[1mA\u001b[0m transform:(none) prior:None\n",
      "[[-54.35239548]\n",
      " [-55.9060937 ]\n",
      " [-54.67952473]\n",
      " [ -9.09155351]\n",
      " [  0.27752281]\n",
      " [ -6.00440268]\n",
      " [-14.89900903]\n",
      " [  4.73777599]]\n",
      "name.mean_function.\u001b[1mb\u001b[0m transform:(none) prior:None\n",
      "[ 1.15924765]\n"
     ]
    }
   ],
   "source": [
    "mx = X.as_matrix()\n",
    "my = Y.as_matrix().reshape(16,1)\n",
    "mx.shape\n",
    "meanf = gf.mean_functions.Linear(np.ones((8,1)), np.ones(1))\n",
    "m = gf.gpr.GPR(mx,my,k,mean_function=meanf)\n",
    "m.likelihood.variance = 10\n",
    "m.optimize()\n",
    "print(m)"
   ]
  },
  {
   "cell_type": "code",
   "execution_count": 85,
   "metadata": {
    "collapsed": false
   },
   "outputs": [
    {
     "data": {
      "text/plain": [
       "-92.114563415999996"
      ]
     },
     "execution_count": 85,
     "metadata": {},
     "output_type": "execute_result"
    }
   ],
   "source": [
    "# Now Let´s do a Logistic Regression"
   ]
  },
  {
   "cell_type": "code",
   "execution_count": 138,
   "metadata": {
    "collapsed": false
   },
   "outputs": [
    {
     "data": {
      "text/html": [
       "<div>\n",
       "<table border=\"1\" class=\"dataframe\">\n",
       "  <thead>\n",
       "    <tr style=\"text-align: right;\">\n",
       "      <th></th>\n",
       "      <th>Falconidae</th>\n",
       "      <th>Longitude</th>\n",
       "      <th>Latitude</th>\n",
       "    </tr>\n",
       "  </thead>\n",
       "  <tbody>\n",
       "    <tr>\n",
       "      <th>0</th>\n",
       "      <td>0.0</td>\n",
       "      <td>-92.261563</td>\n",
       "      <td>16.51839</td>\n",
       "    </tr>\n",
       "    <tr>\n",
       "      <th>1</th>\n",
       "      <td>0.0</td>\n",
       "      <td>-92.212563</td>\n",
       "      <td>16.51839</td>\n",
       "    </tr>\n",
       "    <tr>\n",
       "      <th>2</th>\n",
       "      <td>0.0</td>\n",
       "      <td>-92.163563</td>\n",
       "      <td>16.51839</td>\n",
       "    </tr>\n",
       "    <tr>\n",
       "      <th>3</th>\n",
       "      <td>0.0</td>\n",
       "      <td>-92.114563</td>\n",
       "      <td>16.51839</td>\n",
       "    </tr>\n",
       "    <tr>\n",
       "      <th>4</th>\n",
       "      <td>0.0</td>\n",
       "      <td>-92.261563</td>\n",
       "      <td>16.46939</td>\n",
       "    </tr>\n",
       "    <tr>\n",
       "      <th>5</th>\n",
       "      <td>1.0</td>\n",
       "      <td>-92.212563</td>\n",
       "      <td>16.46939</td>\n",
       "    </tr>\n",
       "    <tr>\n",
       "      <th>6</th>\n",
       "      <td>0.0</td>\n",
       "      <td>-92.163563</td>\n",
       "      <td>16.46939</td>\n",
       "    </tr>\n",
       "    <tr>\n",
       "      <th>7</th>\n",
       "      <td>1.0</td>\n",
       "      <td>-92.114563</td>\n",
       "      <td>16.46939</td>\n",
       "    </tr>\n",
       "    <tr>\n",
       "      <th>8</th>\n",
       "      <td>1.0</td>\n",
       "      <td>-92.261563</td>\n",
       "      <td>16.42039</td>\n",
       "    </tr>\n",
       "    <tr>\n",
       "      <th>9</th>\n",
       "      <td>0.0</td>\n",
       "      <td>-92.212563</td>\n",
       "      <td>16.42039</td>\n",
       "    </tr>\n",
       "    <tr>\n",
       "      <th>10</th>\n",
       "      <td>0.0</td>\n",
       "      <td>-92.163563</td>\n",
       "      <td>16.42039</td>\n",
       "    </tr>\n",
       "    <tr>\n",
       "      <th>11</th>\n",
       "      <td>0.0</td>\n",
       "      <td>-92.114563</td>\n",
       "      <td>16.42039</td>\n",
       "    </tr>\n",
       "    <tr>\n",
       "      <th>12</th>\n",
       "      <td>1.0</td>\n",
       "      <td>-92.261563</td>\n",
       "      <td>16.37139</td>\n",
       "    </tr>\n",
       "    <tr>\n",
       "      <th>13</th>\n",
       "      <td>0.0</td>\n",
       "      <td>-92.212563</td>\n",
       "      <td>16.37139</td>\n",
       "    </tr>\n",
       "    <tr>\n",
       "      <th>14</th>\n",
       "      <td>1.0</td>\n",
       "      <td>-92.163563</td>\n",
       "      <td>16.37139</td>\n",
       "    </tr>\n",
       "    <tr>\n",
       "      <th>15</th>\n",
       "      <td>0.0</td>\n",
       "      <td>-92.114563</td>\n",
       "      <td>16.37139</td>\n",
       "    </tr>\n",
       "  </tbody>\n",
       "</table>\n",
       "</div>"
      ],
      "text/plain": [
       "    Falconidae  Longitude  Latitude\n",
       "0          0.0 -92.261563  16.51839\n",
       "1          0.0 -92.212563  16.51839\n",
       "2          0.0 -92.163563  16.51839\n",
       "3          0.0 -92.114563  16.51839\n",
       "4          0.0 -92.261563  16.46939\n",
       "5          1.0 -92.212563  16.46939\n",
       "6          0.0 -92.163563  16.46939\n",
       "7          1.0 -92.114563  16.46939\n",
       "8          1.0 -92.261563  16.42039\n",
       "9          0.0 -92.212563  16.42039\n",
       "10         0.0 -92.163563  16.42039\n",
       "11         0.0 -92.114563  16.42039\n",
       "12         1.0 -92.261563  16.37139\n",
       "13         0.0 -92.212563  16.37139\n",
       "14         1.0 -92.163563  16.37139\n",
       "15         0.0 -92.114563  16.37139"
      ]
     },
     "execution_count": 138,
     "metadata": {},
     "output_type": "execute_result"
    }
   ],
   "source": [
    "s"
   ]
  },
  {
   "cell_type": "code",
   "execution_count": 144,
   "metadata": {
    "collapsed": false
   },
   "outputs": [
    {
     "ename": "TypeError",
     "evalue": "__init__() takes at least 5 arguments (5 given)",
     "output_type": "error",
     "traceback": [
      "\u001b[0;31m\u001b[0m",
      "\u001b[0;31mTypeError\u001b[0mTraceback (most recent call last)",
      "\u001b[0;32m<ipython-input-144-48ae3e41de44>\u001b[0m in \u001b[0;36m<module>\u001b[0;34m()\u001b[0m\n\u001b[1;32m      5\u001b[0m \u001b[0mmy\u001b[0m \u001b[0;34m=\u001b[0m \u001b[0mY\u001b[0m\u001b[0;34m.\u001b[0m\u001b[0mas_matrix\u001b[0m\u001b[0;34m(\u001b[0m\u001b[0;34m)\u001b[0m\u001b[0;34m.\u001b[0m\u001b[0mreshape\u001b[0m\u001b[0;34m(\u001b[0m\u001b[0;36m16\u001b[0m\u001b[0;34m,\u001b[0m\u001b[0;36m1\u001b[0m\u001b[0;34m)\u001b[0m\u001b[0;34m\u001b[0m\u001b[0m\n\u001b[1;32m      6\u001b[0m \u001b[0mmeanf\u001b[0m \u001b[0;34m=\u001b[0m \u001b[0mgf\u001b[0m\u001b[0;34m.\u001b[0m\u001b[0mmean_functions\u001b[0m\u001b[0;34m.\u001b[0m\u001b[0mLinear\u001b[0m\u001b[0;34m(\u001b[0m\u001b[0mnp\u001b[0m\u001b[0;34m.\u001b[0m\u001b[0mones\u001b[0m\u001b[0;34m(\u001b[0m\u001b[0;34m(\u001b[0m\u001b[0;36m2\u001b[0m\u001b[0;34m,\u001b[0m\u001b[0;36m1\u001b[0m\u001b[0;34m)\u001b[0m\u001b[0;34m)\u001b[0m\u001b[0;34m,\u001b[0m \u001b[0mnp\u001b[0m\u001b[0;34m.\u001b[0m\u001b[0mones\u001b[0m\u001b[0;34m(\u001b[0m\u001b[0;36m1\u001b[0m\u001b[0;34m)\u001b[0m\u001b[0;34m)\u001b[0m\u001b[0;34m\u001b[0m\u001b[0m\n\u001b[0;32m----> 7\u001b[0;31m \u001b[0mm\u001b[0m \u001b[0;34m=\u001b[0m \u001b[0mgf\u001b[0m\u001b[0;34m.\u001b[0m\u001b[0mgpmc\u001b[0m\u001b[0;34m.\u001b[0m\u001b[0mGPMC\u001b[0m\u001b[0;34m(\u001b[0m\u001b[0mmx\u001b[0m\u001b[0;34m,\u001b[0m\u001b[0mmy\u001b[0m\u001b[0;34m,\u001b[0m\u001b[0mk\u001b[0m\u001b[0;34m,\u001b[0m\u001b[0mmean_function\u001b[0m\u001b[0;34m=\u001b[0m\u001b[0mmeanf\u001b[0m\u001b[0;34m)\u001b[0m\u001b[0;34m\u001b[0m\u001b[0m\n\u001b[0m\u001b[1;32m      8\u001b[0m \u001b[0;31m#m.likelihood.variance = 10\u001b[0m\u001b[0;34m\u001b[0m\u001b[0;34m\u001b[0m\u001b[0m\n\u001b[1;32m      9\u001b[0m \u001b[0mm\u001b[0m\u001b[0;34m.\u001b[0m\u001b[0moptimize\u001b[0m\u001b[0;34m(\u001b[0m\u001b[0;34m)\u001b[0m\u001b[0;34m\u001b[0m\u001b[0m\n",
      "\u001b[0;31mTypeError\u001b[0m: __init__() takes at least 5 arguments (5 given)"
     ]
    }
   ],
   "source": [
    "k = gf.kernels.Matern12(2, lengthscales=1, active_dims = [0,1])\n",
    "X = s[['Longitude','Latitude']]\n",
    "Y = s[['Falconidae']]\n",
    "mx = X.as_matrix()\n",
    "my = Y.as_matrix().reshape(16,1)\n",
    "meanf = gf.mean_functions.Linear(np.ones((2,1)), np.ones(1))\n",
    "## I need a likelihood function !\n",
    "m = gf.gpmc.GPMC(mx,my,k,mean_function=meanf)\n",
    "#m.likelihood.variance = 10\n",
    "m.optimize()\n",
    "#print(m)"
   ]
  }
 ],
 "metadata": {
  "kernelspec": {
   "display_name": "Django Shell-Plus",
   "language": "python",
   "name": "django_extensions"
  },
  "language_info": {
   "codemirror_mode": {
    "name": "ipython",
    "version": 2
   },
   "file_extension": ".py",
   "mimetype": "text/x-python",
   "name": "python",
   "nbconvert_exporter": "python",
   "pygments_lexer": "ipython2",
   "version": "2.7.11"
  }
 },
 "nbformat": 4,
 "nbformat_minor": 0
}
