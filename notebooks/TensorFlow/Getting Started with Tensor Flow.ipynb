{
 "cells": [
  {
   "cell_type": "code",
   "execution_count": 1,
   "metadata": {
    "collapsed": true
   },
   "outputs": [],
   "source": [
    "%matplotlib inline\n",
    "import sys\n",
    "sys.path.append('/apps')\n",
    "import django\n",
    "django.setup()\n",
    "from drivers.graph_models import TreeNode, Order, Family, graph, pickNode\n",
    "from traversals.strategies import sumTrees, UniformRandomSampleForest"
   ]
  },
  {
   "cell_type": "markdown",
   "metadata": {},
   "source": [
    "# Getting Started with Tensor Flow\n",
    "Here I´m taking the tutorials from: https://www.tensorflow.org/get_started/get_started"
   ]
  },
  {
   "cell_type": "code",
   "execution_count": 2,
   "metadata": {
    "collapsed": true
   },
   "outputs": [],
   "source": [
    "## importation\n",
    "import tensorflow as tf"
   ]
  },
  {
   "cell_type": "markdown",
   "metadata": {},
   "source": [
    "## Create two nodes (computing nodes)\n",
    "Each node receives a set of tensors and returns another set of tensors. In the case of constant nodes it receives the empty set as input.\n",
    "\n"
   ]
  },
  {
   "cell_type": "code",
   "execution_count": 3,
   "metadata": {
    "collapsed": false
   },
   "outputs": [
    {
     "name": "stdout",
     "output_type": "stream",
     "text": [
      "(<tf.Tensor 'Const:0' shape=() dtype=float32>, <tf.Tensor 'Const_1:0' shape=() dtype=float32>)\n"
     ]
    }
   ],
   "source": [
    "node1 = tf.constant(3.0, dtype=tf.float32)\n",
    "node2 = tf.constant(4.0) # also tf.float32 implicitly\n",
    "print(node1, node2)"
   ]
  },
  {
   "cell_type": "markdown",
   "metadata": {},
   "source": [
    "The nodes are defined abstractically. For evaluating them we need to create (initialize) as *session*.\n",
    "\n",
    "The following code creates a Session object and then invokes its run method to run enough of the computational graph to evaluate node1 and node2. By running the computational graph in a session as follows:\n",
    "\n"
   ]
  },
  {
   "cell_type": "code",
   "execution_count": 4,
   "metadata": {
    "collapsed": false
   },
   "outputs": [
    {
     "name": "stdout",
     "output_type": "stream",
     "text": [
      "[3.0, 4.0]\n"
     ]
    }
   ],
   "source": [
    "session = tf.Session()\n",
    "print(session.run([node1,node2]))"
   ]
  },
  {
   "cell_type": "markdown",
   "metadata": {},
   "source": [
    "We can perform algebraic computations. For example, sum node1 and node2"
   ]
  },
  {
   "cell_type": "code",
   "execution_count": 5,
   "metadata": {
    "collapsed": false
   },
   "outputs": [
    {
     "name": "stdout",
     "output_type": "stream",
     "text": [
      "('node 3 is:', <tf.Tensor 'Add:0' shape=() dtype=float32>)\n",
      "('session.run(node3):', 7.0)\n"
     ]
    }
   ],
   "source": [
    "node3 = tf.add(node1,node2)\n",
    "print(\"node 3 is:\",node3)\n",
    "print(\"session.run(node3):\",session.run(node3))"
   ]
  },
  {
   "cell_type": "code",
   "execution_count": 10,
   "metadata": {
    "collapsed": false
   },
   "outputs": [
    {
     "name": "stdout",
     "output_type": "stream",
     "text": [
      "node1 <class 'tensorflow.python.framework.ops.Tensor'> , node3 <class 'tensorflow.python.framework.ops.Tensor'>\n"
     ]
    }
   ],
   "source": [
    "type(node1)\n",
    "print(\"node1 %s , node3 %s\"%(type(node1),type(node3)))"
   ]
  },
  {
   "cell_type": "markdown",
   "metadata": {},
   "source": [
    "### Placeholder\n",
    "Placeholder is a type of variable that doesn´t have a defined value. it is a promise to provide a value later."
   ]
  },
  {
   "cell_type": "code",
   "execution_count": 11,
   "metadata": {
    "collapsed": true
   },
   "outputs": [],
   "source": [
    "a = tf.placeholder(tf.float32)\n",
    "b = tf.placeholder(tf.float32)\n",
    "adder_node = a + b # Shortcut for tf.add"
   ]
  },
  {
   "cell_type": "code",
   "execution_count": 12,
   "metadata": {
    "collapsed": false
   },
   "outputs": [
    {
     "data": {
      "text/plain": [
       "tensorflow.python.framework.ops.Tensor"
      ]
     },
     "execution_count": 12,
     "metadata": {},
     "output_type": "execute_result"
    }
   ],
   "source": [
    "type(a)"
   ]
  },
  {
   "cell_type": "markdown",
   "metadata": {},
   "source": [
    "*The preceding three lines are a bit like a function or a lambda in which we define two input parameters (a and b) and then an operation on them. We can evaluate this graph with multiple inputs by using the feed_dict argument to the run method to feed concrete values to the placeholders:*"
   ]
  },
  {
   "cell_type": "code",
   "execution_count": 10,
   "metadata": {
    "collapsed": false
   },
   "outputs": [
    {
     "data": {
      "text/plain": [
       "7.5"
      ]
     },
     "execution_count": 10,
     "metadata": {},
     "output_type": "execute_result"
    }
   ],
   "source": [
    "session.run(adder_node,{a:3,b:4.5})"
   ]
  },
  {
   "cell_type": "code",
   "execution_count": 14,
   "metadata": {
    "collapsed": false
   },
   "outputs": [
    {
     "data": {
      "text/plain": [
       "array([ 2.,  3.,  4.,  5.], dtype=float32)"
      ]
     },
     "execution_count": 14,
     "metadata": {},
     "output_type": "execute_result"
    }
   ],
   "source": [
    "session.run(adder_node, {a:[1,2,3,4] , b : [1,1,1,1]})"
   ]
  },
  {
   "cell_type": "markdown",
   "metadata": {},
   "source": [
    "Eventhough the adder_node is made of *placeholders* we can still add it a any node"
   ]
  },
  {
   "cell_type": "code",
   "execution_count": 16,
   "metadata": {
    "collapsed": false
   },
   "outputs": [
    {
     "name": "stdout",
     "output_type": "stream",
     "text": [
      "22.5\n"
     ]
    }
   ],
   "source": [
    "add_and_triple = adder_node * 3.\n",
    "print(session.run(add_and_triple, {a: 3, b: 4.5}))"
   ]
  },
  {
   "cell_type": "code",
   "execution_count": 14,
   "metadata": {
    "collapsed": false
   },
   "outputs": [],
   "source": [
    "## Variables\n",
    "W = tf.Variable([.3],dtype=tf.float32)\n",
    "b = tf.Variable([-.3],dtype=tf.float32)\n",
    "x = tf.placeholder(tf.float32)\n",
    "linear_model = W*x + b"
   ]
  },
  {
   "cell_type": "markdown",
   "metadata": {},
   "source": [
    "$y = x^t W + b $ "
   ]
  },
  {
   "cell_type": "code",
   "execution_count": 15,
   "metadata": {
    "collapsed": false
   },
   "outputs": [
    {
     "data": {
      "text/plain": [
       "tensorflow.python.ops.variables.Variable"
      ]
     },
     "execution_count": 15,
     "metadata": {},
     "output_type": "execute_result"
    }
   ],
   "source": [
    "type(W)"
   ]
  },
  {
   "cell_type": "code",
   "execution_count": 17,
   "metadata": {
    "collapsed": false
   },
   "outputs": [
    {
     "data": {
      "text/plain": [
       "<bound method Graph.device of <tensorflow.python.framework.ops.Graph object at 0x7fcd1689ea10>>"
      ]
     },
     "execution_count": 17,
     "metadata": {},
     "output_type": "execute_result"
    }
   ],
   "source": []
  },
  {
   "cell_type": "markdown",
   "metadata": {},
   "source": [
    "For initializing all the variables in tensorflow we need to use the function init"
   ]
  },
  {
   "cell_type": "code",
   "execution_count": 18,
   "metadata": {
    "collapsed": true
   },
   "outputs": [],
   "source": [
    "initializer = tf.global_variables_initializer()\n",
    "session.run(initializer)"
   ]
  },
  {
   "cell_type": "code",
   "execution_count": 19,
   "metadata": {
    "collapsed": false
   },
   "outputs": [
    {
     "data": {
      "text/plain": [
       "array([ -0.21000001,   5.69999981,  10.63362026,   0.99900001], dtype=float32)"
      ]
     },
     "execution_count": 19,
     "metadata": {},
     "output_type": "execute_result"
    }
   ],
   "source": [
    "session.run(linear_model, {x: [0.3, 20, 36.4454, 4.33\n",
    "                            ]})"
   ]
  },
  {
   "cell_type": "markdown",
   "metadata": {},
   "source": [
    "## Training\n",
    "A loss function measures how far apart the current model is from the provided data. We'll use a standard loss model for linear regression, which sums the squares of the deltas between the current model and the provided data. linear_model - y creates a vector where each element is the corresponding example's error delta. We call tf.square to square that error. Then, we sum all the squared errors to create a single scalar that abstracts the error of all examples using tf.reduce_sum"
   ]
  },
  {
   "cell_type": "code",
   "execution_count": 20,
   "metadata": {
    "collapsed": false
   },
   "outputs": [
    {
     "name": "stdout",
     "output_type": "stream",
     "text": [
      "23.66\n"
     ]
    }
   ],
   "source": [
    "y = tf.placeholder(tf.float32)\n",
    "squared_deltas = tf.square(linear_model - y)\n",
    "loss = tf.reduce_sum(squared_deltas)\n",
    "print(session.run(loss, {x: [1, 2, 3, 4], y: [0, -1, -2, -3]}))"
   ]
  },
  {
   "cell_type": "code",
   "execution_count": 26,
   "metadata": {
    "collapsed": false
   },
   "outputs": [
    {
     "data": {
      "text/plain": [
       "tensorflow.python.framework.ops.Tensor"
      ]
     },
     "execution_count": 26,
     "metadata": {},
     "output_type": "execute_result"
    }
   ],
   "source": [
    "type(linear_model)"
   ]
  },
  {
   "cell_type": "code",
   "execution_count": 27,
   "metadata": {
    "collapsed": true
   },
   "outputs": [],
   "source": [
    "tf.reduce_sum?"
   ]
  },
  {
   "cell_type": "markdown",
   "metadata": {},
   "source": [
    "## gradient descend\n",
    "We´ll use the symbolic computation in TensorFlow to calculate the derivative (gradient) of the linear model."
   ]
  },
  {
   "cell_type": "code",
   "execution_count": 32,
   "metadata": {
    "collapsed": false
   },
   "outputs": [
    {
     "data": {
      "text/plain": [
       "tensorflow.python.framework.ops.Operation"
      ]
     },
     "execution_count": 32,
     "metadata": {},
     "output_type": "execute_result"
    }
   ],
   "source": [
    "optimizer = tf.train.GradientDescentOptimizer(0.01)\n",
    "train = optimizer.minimize(loss)\n",
    "type(train)"
   ]
  },
  {
   "cell_type": "code",
   "execution_count": 22,
   "metadata": {
    "collapsed": true
   },
   "outputs": [],
   "source": [
    "# Reset values\n",
    "session.run(initializer)"
   ]
  },
  {
   "cell_type": "code",
   "execution_count": 34,
   "metadata": {
    "collapsed": false
   },
   "outputs": [
    {
     "name": "stdout",
     "output_type": "stream",
     "text": [
      "[array([-0.80000001], dtype=float32), array([ 0.08], dtype=float32)]\n",
      "[array([-0.736], dtype=float32), array([ 0.1136], dtype=float32)]\n",
      "[array([-0.71711999], dtype=float32), array([ 0.131712], dtype=float32)]\n",
      "[array([-0.71319038], dtype=float32), array([ 0.14459905], dtype=float32)]\n",
      "[array([-0.71419597], dtype=float32), array([ 0.1556692], dtype=float32)]\n",
      "[array([-0.71681225], dtype=float32), array([ 0.16605486], dtype=float32)]\n",
      "[array([-0.71993589], dtype=float32), array([ 0.17613292], dtype=float32)]\n",
      "[array([-0.72320092], dtype=float32), array([ 0.18602946], dtype=float32)]\n",
      "[array([-0.72648627], dtype=float32), array([ 0.1957873], dtype=float32)]\n",
      "[array([-0.72975194], dtype=float32), array([ 0.20542157], dtype=float32)]\n",
      "[array([-0.73298508], dtype=float32), array([ 0.21493822], dtype=float32)]\n",
      "[array([-0.73618168], dtype=float32), array([ 0.22434019], dtype=float32)]\n",
      "[array([-0.73934072], dtype=float32), array([ 0.2336293], dtype=float32)]\n",
      "[array([-0.74246216], dtype=float32), array([ 0.24280711], dtype=float32)]\n",
      "[array([-0.74554628], dtype=float32), array([ 0.25187495], dtype=float32)]\n",
      "[array([-0.74859351], dtype=float32), array([ 0.26083422], dtype=float32)]\n",
      "[array([-0.75160426], dtype=float32), array([ 0.26968619], dtype=float32)]\n",
      "[array([-0.75457895], dtype=float32), array([ 0.27843213], dtype=float32)]\n",
      "[array([-0.75751799], dtype=float32), array([ 0.28707334], dtype=float32)]\n",
      "[array([-0.76042187], dtype=float32), array([ 0.29561108], dtype=float32)]\n",
      "[array([-0.76329094], dtype=float32), array([ 0.30404657], dtype=float32)]\n",
      "[array([-0.76612568], dtype=float32), array([ 0.31238103], dtype=float32)]\n",
      "[array([-0.7689265], dtype=float32), array([ 0.32061568], dtype=float32)]\n",
      "[array([-0.77169377], dtype=float32), array([ 0.32875171], dtype=float32)]\n",
      "[array([-0.77442783], dtype=float32), array([ 0.33679032], dtype=float32)]\n",
      "[array([-0.77712917], dtype=float32), array([ 0.34473267], dtype=float32)]\n",
      "[array([-0.77979821], dtype=float32), array([ 0.35257989], dtype=float32)]\n",
      "[array([-0.78243524], dtype=float32), array([ 0.36033314], dtype=float32)]\n",
      "[array([-0.78504074], dtype=float32), array([ 0.36799353], dtype=float32)]\n",
      "[array([-0.787615], dtype=float32), array([ 0.37556219], dtype=float32)]\n",
      "[array([-0.79015845], dtype=float32), array([ 0.38304022], dtype=float32)]\n",
      "[array([-0.79267144], dtype=float32), array([ 0.39042869], dtype=float32)]\n",
      "[array([-0.79515433], dtype=float32), array([ 0.39772868], dtype=float32)]\n",
      "[array([-0.79760748], dtype=float32), array([ 0.40494126], dtype=float32)]\n",
      "[array([-0.80003124], dtype=float32), array([ 0.41206744], dtype=float32)]\n",
      "[array([-0.80242598], dtype=float32), array([ 0.4191083], dtype=float32)]\n",
      "[array([-0.80479205], dtype=float32), array([ 0.42606485], dtype=float32)]\n",
      "[array([-0.8071298], dtype=float32), array([ 0.43293807], dtype=float32)]\n",
      "[array([-0.80943954], dtype=float32), array([ 0.43972898], dtype=float32)]\n",
      "[array([-0.81172162], dtype=float32), array([ 0.44643855], dtype=float32)]\n",
      "[array([-0.81397635], dtype=float32), array([ 0.45306778], dtype=float32)]\n",
      "[array([-0.81620407], dtype=float32), array([ 0.45961761], dtype=float32)]\n",
      "[array([-0.81840515], dtype=float32), array([ 0.46608901], dtype=float32)]\n",
      "[array([-0.82057989], dtype=float32), array([ 0.47248292], dtype=float32)]\n",
      "[array([-0.82272857], dtype=float32), array([ 0.47880027], dtype=float32)]\n",
      "[array([-0.82485151], dtype=float32), array([ 0.48504195], dtype=float32)]\n",
      "[array([-0.826949], dtype=float32), array([ 0.49120888], dtype=float32)]\n",
      "[array([-0.82902139], dtype=float32), array([ 0.49730197], dtype=float32)]\n",
      "[array([-0.83106893], dtype=float32), array([ 0.50332206], dtype=float32)]\n",
      "[array([-0.83309197], dtype=float32), array([ 0.50927007], dtype=float32)]\n",
      "[array([-0.83509082], dtype=float32), array([ 0.51514685], dtype=float32)]\n",
      "[array([-0.8370657], dtype=float32), array([ 0.52095324], dtype=float32)]\n",
      "[array([-0.83901691], dtype=float32), array([ 0.52669013], dtype=float32)]\n",
      "[array([-0.84094477], dtype=float32), array([ 0.53235829], dtype=float32)]\n",
      "[array([-0.84284955], dtype=float32), array([ 0.53795856], dtype=float32)]\n",
      "[array([-0.84473151], dtype=float32), array([ 0.54349178], dtype=float32)]\n",
      "[array([-0.846591], dtype=float32), array([ 0.54895872], dtype=float32)]\n",
      "[array([-0.84842813], dtype=float32), array([ 0.55436021], dtype=float32)]\n",
      "[array([-0.85024327], dtype=float32), array([ 0.55969703], dtype=float32)]\n",
      "[array([-0.85203671], dtype=float32), array([ 0.5649699], dtype=float32)]\n",
      "[array([-0.8538087], dtype=float32), array([ 0.57017964], dtype=float32)]\n",
      "[array([-0.85555941], dtype=float32), array([ 0.57532704], dtype=float32)]\n",
      "[array([-0.8572892], dtype=float32), array([ 0.58041275], dtype=float32)]\n",
      "[array([-0.85899824], dtype=float32), array([ 0.58543754], dtype=float32)]\n",
      "[array([-0.86068678], dtype=float32), array([ 0.59040219], dtype=float32)]\n",
      "[array([-0.86235511], dtype=float32), array([ 0.59530735], dtype=float32)]\n",
      "[array([-0.86400354], dtype=float32), array([ 0.6001538], dtype=float32)]\n",
      "[array([-0.86563218], dtype=float32), array([ 0.6049422], dtype=float32)]\n",
      "[array([-0.86724132], dtype=float32), array([ 0.60967326], dtype=float32)]\n",
      "[array([-0.86883116], dtype=float32), array([ 0.61434764], dtype=float32)]\n",
      "[array([-0.87040198], dtype=float32), array([ 0.61896604], dtype=float32)]\n",
      "[array([-0.87195402], dtype=float32), array([ 0.62352914], dtype=float32)]\n",
      "[array([-0.87348741], dtype=float32), array([ 0.62803763], dtype=float32)]\n",
      "[array([-0.8750025], dtype=float32), array([ 0.63249213], dtype=float32)]\n",
      "[array([-0.87649941], dtype=float32), array([ 0.63689327], dtype=float32)]\n",
      "[array([-0.87797844], dtype=float32), array([ 0.64124167], dtype=float32)]\n",
      "[array([-0.87943971], dtype=float32), array([ 0.64553803], dtype=float32)]\n",
      "[array([-0.88088351], dtype=float32), array([ 0.6497829], dtype=float32)]\n",
      "[array([-0.88230997], dtype=float32), array([ 0.65397698], dtype=float32)]\n",
      "[array([-0.88371938], dtype=float32), array([ 0.65812081], dtype=float32)]\n",
      "[array([-0.88511193], dtype=float32), array([ 0.66221499], dtype=float32)]\n",
      "[array([-0.88648778], dtype=float32), array([ 0.66626018], dtype=float32)]\n",
      "[array([-0.88784713], dtype=float32), array([ 0.67025691], dtype=float32)]\n",
      "[array([-0.88919026], dtype=float32), array([ 0.67420578], dtype=float32)]\n",
      "[array([-0.89051723], dtype=float32), array([ 0.67810738], dtype=float32)]\n",
      "[array([-0.89182836], dtype=float32), array([ 0.68196225], dtype=float32)]\n",
      "[array([-0.89312381], dtype=float32), array([ 0.68577093], dtype=float32)]\n",
      "[array([-0.8944037], dtype=float32), array([ 0.68953401], dtype=float32)]\n",
      "[array([-0.89566827], dtype=float32), array([ 0.69325203], dtype=float32)]\n",
      "[array([-0.8969177], dtype=float32), array([ 0.69692552], dtype=float32)]\n",
      "[array([-0.89815217], dtype=float32), array([ 0.70055503], dtype=float32)]\n",
      "[array([-0.89937186], dtype=float32), array([ 0.70414108], dtype=float32)]\n",
      "[array([-0.90057695], dtype=float32), array([ 0.70768416], dtype=float32)]\n",
      "[array([-0.90176761], dtype=float32), array([ 0.7111848], dtype=float32)]\n",
      "[array([-0.90294403], dtype=float32), array([ 0.71464354], dtype=float32)]\n",
      "[array([-0.90410632], dtype=float32), array([ 0.71806085], dtype=float32)]\n",
      "[array([-0.90525472], dtype=float32), array([ 0.72143728], dtype=float32)]\n",
      "[array([-0.90638936], dtype=float32), array([ 0.72477323], dtype=float32)]\n",
      "[array([-0.9075104], dtype=float32), array([ 0.72806925], dtype=float32)]\n",
      "[array([-0.90861803], dtype=float32), array([ 0.73132581], dtype=float32)]\n"
     ]
    }
   ],
   "source": [
    "K = tf.assign(W,[-1])\n",
    "G = tf.assign(b,[0])\n",
    "session.run([K,G])\n",
    "for i in range(100):\n",
    "    session.run(train, {x: [1, 2, 3, 4], y: [0, -1, -2, -3]})\n",
    "    print(session.run([W,b]))\n"
   ]
  },
  {
   "cell_type": "markdown",
   "metadata": {},
   "source": [
    "### Let´s see the results!\n"
   ]
  },
  {
   "cell_type": "code",
   "execution_count": 41,
   "metadata": {
    "collapsed": false
   },
   "outputs": [
    {
     "data": {
      "text/plain": [
       "[0.048223704]"
      ]
     },
     "execution_count": 41,
     "metadata": {},
     "output_type": "execute_result"
    }
   ],
   "source": [
    "session.run([W,b])\n",
    "session.run([loss],{ x: [1, 2, 3, 4], y: [0, -1, -2, -3]})"
   ]
  },
  {
   "cell_type": "code",
   "execution_count": 38,
   "metadata": {
    "collapsed": false
   },
   "outputs": [
    {
     "name": "stdout",
     "output_type": "stream",
     "text": [
      "W: [-0.9999969] b: [ 0.99999082] loss: 5.69997e-11\n"
     ]
    }
   ],
   "source": [
    "## The full script\n",
    "import tensorflow as tf\n",
    "\n",
    "# Model parameters\n",
    "W = tf.Variable([.3], dtype=tf.float32)\n",
    "b = tf.Variable([-.3], dtype=tf.float32)\n",
    "# Model input and output\n",
    "x = tf.placeholder(tf.float32)\n",
    "linear_model = W * x + b\n",
    "y = tf.placeholder(tf.float32)\n",
    "\n",
    "# loss\n",
    "loss = tf.reduce_sum(tf.square(linear_model - y)) # sum of the squares\n",
    "# optimizer\n",
    "optimizer = tf.train.GradientDescentOptimizer(0.01)\n",
    "train = optimizer.minimize(loss)\n",
    "\n",
    "# training data\n",
    "x_train = [1, 2, 3, 4]\n",
    "y_train = [0, -1, -2, -3]\n",
    "# training loop\n",
    "init = tf.global_variables_initializer()\n",
    "sess = tf.Session()\n",
    "sess.run(init) # reset values to wrong\n",
    "for i in range(1000):\n",
    "  sess.run(train, {x: x_train, y: y_train})\n",
    "\n",
    "# evaluate training accuracy\n",
    "curr_W, curr_b, curr_loss = sess.run([W, b, loss], {x: x_train, y: y_train})\n",
    "print(\"W: %s b: %s loss: %s\"%(curr_W, curr_b, curr_loss))"
   ]
  },
  {
   "cell_type": "code",
   "execution_count": null,
   "metadata": {
    "collapsed": true
   },
   "outputs": [],
   "source": []
  }
 ],
 "metadata": {
  "kernelspec": {
   "display_name": "Django Shell-Plus",
   "language": "python",
   "name": "django_extensions"
  },
  "language_info": {
   "codemirror_mode": {
    "name": "ipython",
    "version": 2
   },
   "file_extension": ".py",
   "mimetype": "text/x-python",
   "name": "python",
   "nbconvert_exporter": "python",
   "pygments_lexer": "ipython2",
   "version": "2.7.11"
  }
 },
 "nbformat": 4,
 "nbformat_minor": 0
}
