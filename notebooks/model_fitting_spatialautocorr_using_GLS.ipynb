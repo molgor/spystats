{
 "cells": [
  {
   "cell_type": "markdown",
   "metadata": {},
   "source": [
    "\n",
    "# Here I'm process by chunks the entire region."
   ]
  },
  {
   "cell_type": "markdown",
   "metadata": {},
   "source": [
    "Linear Spatial Autocorrelation Model\n",
    "\n",
    "The two methodologies under study (i.e. Meta-analysis and  distributed networks) share the assumption that the observations are independent between each other. In other words, if two plots (say p1 and p2 ) are from different studies, the covariance between p1 and p2 is zero. The assumption is reasonable because of the character of both methodologies. Data derived from meta-analysis and distributed networks is composed of experiments measured in different environmental conditions and geographical locations; using an assortment of experimental techniques and sample designs. It is therefore reasonable to expect that the residuals derived from a linear statistical model will be explained by a non structured error (e.g. $epsilon \\sim N(0,\\sigma^2)).\n",
    "\n",
    "Data Used and computational challenges\n",
    "\n",
    "The dataset used as reference was the FIA dataset. It comprises more than 36k plot records. Each with a different spatial coordinate. Analysing the data for spatial effects require to manage a 36k x 36k matrix and the parameter optimization through GLS requires to calculate  the inverse as well. \n",
    "\n",
    "\n",
    "Model specification\n",
    "The spatial model proposed follows a classical geostatistical approach. In other words, an empirical variogram was used to estimate a {\\em valid} analytical model (Webster and Oliver, 2001). In accordance with the model simulations, the spatial model  is as follows:\n",
    "\n",
    "$$log Biomass = log(Spp Richness) + S_x + \\epsilon$$\n",
    "\n",
    "Where: $$E(log(biomass)) = \\beta_0 log(Spp Richness)$  and $Var(y) = [\\tau^2 \\rho(|x,x’|) + \\sigma^2] $$ \n",
    "\n",
    "\n",
    "$\\tau$ is a variance  parameter of the gaussian isotropic and stationary process S_x with spatial autocorrelation distance function $\\rho$ given by:\n",
    "\n",
    "$$\\rho (h)=(s-n)\\left(1-\\exp \\left(-{\\frac  {h^{2}}{r^{2}}}\\right)\\right)+n1_{{(0,\\infty )}}(h)$$\n",
    "\n",
    "Where $h$ is the distance $|x,x’|$ ,  $s$, $n$ and $r$ are the parameters for sill, nugget and range.\n",
    "\n",
    "\n",
    "\n",
    "\n",
    "Exploratory analysis\n",
    "\n",
    "To begin with, a linear model using OLS was fitted using a log-log transformation of Biomass and Species Richness as response variable and covariate (respectively). I.e.\n",
    "\n",
    "$ (log(Biomass) | S) = \\beta log(Spp Richness) + \\epsilon $\n",
    "\n",
    "A histogram of the residuals shows a symmetric distribution (see figure below). \n",
    "\n",
    "\n",
    "The residuals show no significant spatial trend across latitude or longitude (see figures 2bis and 3bis). We decided to follow the principle of model parsimony by not including the spatial coordinates as covariates (fixed effect).\n",
    "\n",
    "\n",
    "\n",
    "\n",
    "Empirical Variogram and model fit\n",
    "The residuals however, show  variance dependent on the distance (autocorrelation). An empirical variogram was calculated to account for this effect (see figure below). The variogram was calculated using 50 lag distances of 13.5 km each (derived from dividing the data’s distance matrix range by 50). A Monte Carlo envelope method (blue region) at 0.25 and 0.975 quantiles was calculated to designate the region under the null hypothesis, i.e. with no spatial autocorrelation (Diggle and Ribeiro, 2003).\n",
    "\n",
    "The resulting variogram (orange dots) show a typical spatial autocorrelation pattern, distinct from complete randomness and with an increasing variance as a function of distance. Using this pattern we fitted a gaussian model using non-linear least squares method implemented in Scipy.optimize.curve_fit (Jones et.al., 2017). The results obtained were: Sill 0.341, Range 50318.763, Nugget 0.33 . The resulting function is overlapped in green.\n",
    "\n",
    "\n",
    " \n",
    "\n",
    "Conclusion\n",
    "\n",
    "The model: $log(Biomass) = \\beta log(Spp_richness) + \\epsilon$ presents non-explicative random effects with spatial autocorrelation. The variogram of its residuals shows a typical pattern for distance dependent heteroscedasticity.  In other words, the correlation of distinct data points depends on the distance i.e. ($Cov(p_1,p_2) = \\sigma^2 \\rho(|p_1 - p_2|^2)$) where $\\rho$ is a spatial auto-correlation function (derived from the empirical variogram under a gaussian model assumption). \n",
    "\n",
    "The observations reject the assumptions of the linear model estimator obtained by OLS, those on independence and identically distributed errors. The Generalised Least Square (GLS) estimator would be a better approach for obtaining the linear parameters but more importantly a more reliable variance and consequently  more reliable confidence interval.\n",
    "\n",
    "Recommendations and future work\n",
    "The whole dataset unveiled a spatial structure that needs to be accounted for in both studies; distributed plots and independent studies. The GLS estimator is a more robust method for optimising the linear models. The covariance matrix (used in meta-analysis) can be extended to include a spatial effect and derive better estimators and their confidence interval. \n",
    " \n"
   ]
  },
  {
   "cell_type": "code",
   "execution_count": 1,
   "metadata": {
    "collapsed": true
   },
   "outputs": [],
   "source": [
    "# Load Biospytial modules and etc.\n",
    "%matplotlib inline\n",
    "import sys\n",
    "sys.path.append('/apps')\n",
    "import django\n",
    "django.setup()\n",
    "import pandas as pd\n",
    "import numpy as np\n",
    "import matplotlib.pylab as plt\n",
    "## Use the ggplot style\n",
    "plt.style.use('ggplot')"
   ]
  },
  {
   "cell_type": "code",
   "execution_count": 2,
   "metadata": {
    "collapsed": false
   },
   "outputs": [
    {
     "name": "stderr",
     "output_type": "stream",
     "text": [
      "/opt/conda/envs/biospytial/lib/python2.7/site-packages/IPython/core/pylabtools.py:168: DtypeWarning: Columns (24) have mixed types. Specify dtype option on import or set low_memory=False.\n",
      "  safe_execfile(fname,*where,**kw)\n"
     ]
    }
   ],
   "source": [
    "from external_plugins.spystats import tools\n",
    "%run ../testvariogram.py"
   ]
  },
  {
   "cell_type": "code",
   "execution_count": 3,
   "metadata": {
    "collapsed": false
   },
   "outputs": [
    {
     "name": "stdout",
     "output_type": "stream",
     "text": [
      "(36845, 48)\n",
      "(36844, 48)\n"
     ]
    }
   ],
   "source": [
    "## Remove duplications\n",
    "withoutrep = new_data.drop_duplicates(subset=['newLon','newLat'])\n",
    "print(new_data).shape\n",
    "print(withoutrep).shape\n",
    "new_data = withoutrep\n"
   ]
  },
  {
   "cell_type": "markdown",
   "metadata": {},
   "source": [
    "new_data.residuals2.hist()\n",
    "plt.title('Residuals of $log(Biomass) \\sim log(Spp_{rich})$')\n",
    "##------------------\n",
    "\n",
    "plt.scatter(new_data.newLon,new_data.residuals2)\n",
    "plt.xlabel('Longitude (meters)')\n",
    "plt.ylabel('Residuals: $log(Biomass) - \\hat{Y}$')\n",
    "\n",
    "##-------------------\n",
    "plt.scatter(new_data.newLat,new_data.residuals2)\n",
    "plt.xlabel('Latitude (meters)')\n",
    "plt.ylabel('$Residuals: log(Biomass) - \\hat{Y}$')\n"
   ]
  },
  {
   "cell_type": "code",
   "execution_count": 4,
   "metadata": {
    "collapsed": true
   },
   "outputs": [],
   "source": [
    "def gaussianVariogram(h,sill=0,range_a=0,nugget=0):\n",
    "    if isinstance(h,np.ndarray):\n",
    "        Ih = np.array([1.0 if hx >= 0.0 else 0.0 for hx in h])\n",
    "    else:\n",
    "        Ih = 1.0 if h >= 0 else 0.0\n",
    "    #Ih = 1.0 if h >= 0 else 0.0    \n",
    "    g_h = ((sill - nugget)*(1 - np.exp(-(h**2 / range_a**2)))) + nugget*Ih\n",
    "    return g_h\n",
    "## Fitting model.\n",
    "### Optimizing the empirical values\n",
    "def theoreticalVariogram(model_function,sill,range_a,nugget):\n",
    "    return lambda x : model_function(x,sill,range_a,nugget)"
   ]
  },
  {
   "cell_type": "markdown",
   "metadata": {},
   "source": [
    "## The best fitted values were:\n",
    "(Processed by chunks see: http://localhost:8888/notebooks/external_plugins/spystats/notebooks/variogram_envelope_by_chunks.ipynb )\n",
    "\n",
    "* Sill 0.34122564947\n",
    "* Range 50318.763452\n",
    "* Nugget 0.329687351696\n"
   ]
  },
  {
   "cell_type": "code",
   "execution_count": 5,
   "metadata": {
    "collapsed": true
   },
   "outputs": [],
   "source": [
    "sill = 0.34122564947\n",
    "range_a = 50318.763452\n",
    "nugget = 0.329687351696"
   ]
  },
  {
   "cell_type": "code",
   "execution_count": 129,
   "metadata": {
    "collapsed": false
   },
   "outputs": [
    {
     "data": {
      "image/png": "[encoded data removed]",
      "text/plain": [
       "<matplotlib.figure.Figure at 0x7f36a7ce3f90>"
      ]
     },
     "metadata": {},
     "output_type": "display_data"
    }
   ],
   "source": [
    "### Read the data first\n",
    "#hx = np.linspace(0,400000,100)\n",
    "#spmodel = theoreticalVariogram(gaussianVariogram,sill,range_a,nugget)\n",
    "#nt = 30 # num iterations\n",
    "thrs_dist = 100000\n",
    "empirical_semivariance_log_log = \"data/logbiomas_logsppn_residuals_variogram.csv\"\n",
    "filename = \"../HEC_runs/results/low_q/data_envelope.csv\"\n",
    "envelope_data = pd.read_csv(filename)\n",
    "emp_var_log_log = pd.read_csv(empirical_semivariance_log_log)\n",
    "gvg = tools.Variogram(new_data,'logBiomass',using_distance_threshold=thrs_dist)\n",
    "gvg.envelope = envelope_data\n",
    "gvg.empirical = emp_var_log_log.semivariance\n",
    "gvg.lags = emp_var_log_log.lags\n",
    "emp_var_log_log = emp_var_log_log.dropna()\n",
    "vdata = gvg.envelope.dropna()\n",
    "gvg.plot(refresh=False,legend=False,percentage_trunked=20)\n"
   ]
  },
  {
   "cell_type": "code",
   "execution_count": 8,
   "metadata": {
    "collapsed": false
   },
   "outputs": [],
   "source": [
    "import matplotlib.pylab as plt\n",
    "hx = np.linspace(0,600000,100)\n",
    "from scipy.optimize import curve_fit\n",
    "s = 0.345\n",
    "r = 50000.0\n",
    "nugget = 0.33\n",
    "init_vals = [s,r,nugget]     # for [amp, cen, wid]\n",
    "bg, covar_gaussian = curve_fit(gaussianVariogram, xdata=emp_var_log_log.lags.values, ydata=emp_var_log_log.semivariance.values, p0=init_vals)\n",
    "#vdata = gvg.envelope.dropna()\n",
    "## The best parameters asre:\n",
    "gau_var = tools.gaussianVariogram(hx,bg[0],bg[1],bg[2])\n",
    "\n",
    "sill = bg[0]\n",
    "range_a = bg[1]\n",
    "nugget = bg[2]\n",
    "spmodel = theoreticalVariogram(gaussianVariogram,sill,range_a,nugget)\n"
   ]
  },
  {
   "cell_type": "code",
   "execution_count": 9,
   "metadata": {
    "collapsed": false
   },
   "outputs": [
    {
     "data": {
      "text/plain": [
       "[<matplotlib.lines.Line2D at 0x7f36b9dd89d0>]"
      ]
     },
     "execution_count": 9,
     "metadata": {},
     "output_type": "execute_result"
    },
    {
     "data": {
      "image/png": "[encoded data removed]",
      "text/plain": [
       "<matplotlib.figure.Figure at 0x7f36b9e03590>"
      ]
     },
     "metadata": {},
     "output_type": "display_data"
    }
   ],
   "source": [
    "#n_points = pd.DataFrame(map(lambda v : v.n_points,variograms2))\n",
    "#points = n_points.transpose()\n",
    "#ejem2 = pd.DataFrame(variogram2.values * points.values)\n",
    "# Chunks (variograms) columns\n",
    "# lag rows\n",
    "#vempchunk2 = ejem2.sum(axis=1) / points.sum(axis=1)\n",
    "#plt.plot(lags,vempchunk2,'--',color='blue',lw=2.0)\n",
    "plt.figure(num=None, figsize=(8, 6), dpi=80, facecolor='w', edgecolor='k')\n",
    "thrs_dist = 1000000\n",
    "\n",
    "\n",
    "gvg.plot(refresh=False,legend=False,percentage_trunked=20)\n",
    "plt.title(\"Empirical variogram for the residuals: $log(Biomass) \\sim log(Spp_{rich}) $ \")\n",
    "plt.plot(hx,spmodel(hx),color='green',lw=2.3)"
   ]
  },
  {
   "cell_type": "code",
   "execution_count": 128,
   "metadata": {
    "collapsed": false
   },
   "outputs": [
    {
     "data": {
      "text/plain": [
       "[<matplotlib.lines.Line2D at 0x7f36a7aea090>]"
      ]
     },
     "execution_count": 128,
     "metadata": {},
     "output_type": "execute_result"
    },
    {
     "data": {
      "image/png": "[encoded data removed]",
      "text/plain": [
       "<matplotlib.figure.Figure at 0x7f36a7bc37d0>"
      ]
     },
     "metadata": {},
     "output_type": "display_data"
    }
   ],
   "source": [
    "## check the matern\n",
    "import scipy.special as special\n",
    "def MaternVariogram(h,range_a,nugget=40,sill=100,kappa=0.5):\n",
    "    \"\"\"\n",
    "    The Matern Variogram of order $\\kappa$.\n",
    "   \n",
    "   $$\\gamma(h) = \\sigma^2 \\Big(1 - \\frac{2^{1-\\kappa}}{\\Gamma(\\kappa)}\\Big) \\Big(\\frac{h}{r}\\Big)^{\\kappa}K_\\kappa \\Big(\\frac{h}{r}\\Big)$$\n",
    "    Let:\n",
    "         a = $$ \n",
    "        b = $$\n",
    "        K_v = Modified Bessel function of the second kind of real order v\n",
    "    \"\"\"\n",
    "    \n",
    "    a = np.power(2, 1 - kappa) / special.gamma(kappa)\n",
    "    #b = (np.sqrt(2 * kappa) / range_a) * h\n",
    "    b = (h / float(range_a))\n",
    "    K_v = special.kv(kappa,b)\n",
    "    \n",
    "    #kh = sigma * a * np.power(b,kappa) * K_v\n",
    "    kh = (sill - nugget) * ( 1 - (a * np.power(b,kappa) * K_v))\n",
    "    return kh\n",
    "    \n",
    "\n",
    "cc = MaternVariogram(hx,100000)\n",
    "plt.plot(cc,'.')"
   ]
  },
  {
   "cell_type": "code",
   "execution_count": null,
   "metadata": {
    "collapsed": true
   },
   "outputs": [],
   "source": []
  },
  {
   "cell_type": "code",
   "execution_count": 108,
   "metadata": {
    "collapsed": false
   },
   "outputs": [],
   "source": [
    "X = np.linspace(0,10,5000)\n",
    "Y = map(lambda x : MaternVariogram(x,1,sigma=1000000),X)"
   ]
  },
  {
   "cell_type": "code",
   "execution_count": 109,
   "metadata": {
    "collapsed": false
   },
   "outputs": [
    {
     "data": {
      "text/plain": [
       "[<matplotlib.lines.Line2D at 0x7f36b468dd90>]"
      ]
     },
     "execution_count": 109,
     "metadata": {},
     "output_type": "execute_result"
    },
    {
     "data": {
      "image/png": "[encoded data removed]",
      "text/plain": [
       "<matplotlib.figure.Figure at 0x7f36b4898f90>"
      ]
     },
     "metadata": {},
     "output_type": "display_data"
    }
   ],
   "source": [
    "plt.plot(X,Y)"
   ]
  },
  {
   "cell_type": "code",
   "execution_count": 103,
   "metadata": {
    "collapsed": false
   },
   "outputs": [
    {
     "data": {
      "text/plain": [
       "[<matplotlib.lines.Line2D at 0x7f36b492a790>]"
      ]
     },
     "execution_count": 103,
     "metadata": {},
     "output_type": "execute_result"
    },
    {
     "data": {
      "image/png": "[encoded data removed]",
      "text/plain": [
       "<matplotlib.figure.Figure at 0x7f36b4b23f10>"
      ]
     },
     "metadata": {},
     "output_type": "display_data"
    }
   ],
   "source": [
    "plt.plot(np.linspace(0,7,1000),special.kv(0.5,np.linspace(0,7,1000)))"
   ]
  },
  {
   "cell_type": "code",
   "execution_count": null,
   "metadata": {
    "collapsed": true
   },
   "outputs": [],
   "source": [
    "plt.plot(special.kv"
   ]
  },
  {
   "cell_type": "code",
   "execution_count": null,
   "metadata": {
    "collapsed": true
   },
   "outputs": [],
   "source": [
    "plt.plot(special.kv"
   ]
  },
  {
   "cell_type": "markdown",
   "metadata": {
    "collapsed": true
   },
   "source": [
    "\n",
    "## GLS estimation.\n",
    "It's not possible to do it all in the server or this computer because it requires massive computational capacity.\n",
    "\n",
    "I'll do it with a geographical section or sample.\n",
    "Taken from:\n",
    "http://localhost:8888/notebooks/external_plugins/spystats/notebooks/Analysis_spatial_autocorrelation_with_empirical_variogram_using_GLS.ipynb\n",
    "\n",
    "Re fit the $\\beta$ \n",
    "\n",
    "Oke, first calculate the distances\n"
   ]
  },
  {
   "cell_type": "code",
   "execution_count": null,
   "metadata": {
    "collapsed": true
   },
   "outputs": [],
   "source": [
    "def randomSelection(data,k):\n",
    "    n = len(data)\n",
    "    idxs = np.random.choice(n,k,replace=True)\n",
    "    random_sample = data.iloc[idxs]\n",
    "    return random_sample\n",
    "#################\n",
    "#n = len(new_data)\n",
    "#p = 3000 # The amount of samples taken (let's do it without replacement)\n",
    "\n",
    "def systSelection(data,k):\n",
    "    n = len(data)\n",
    "    idxs = range(0,n,k)\n",
    "    systematic_sample = data.iloc[idxs]\n",
    "    return systematic_sample\n",
    "##################\n",
    "n = len(new_data)\n",
    "k = 10 # The k-th element to take as a sample\n",
    "\n",
    "def subselectDataFrameByCoordinates(dataframe,namecolumnx,namecolumny,minx,maxx,miny,maxy):\n",
    "    \"\"\"\n",
    "    Returns a subselection by coordinates using the dataframe/\n",
    "    \"\"\"\n",
    "    minx = float(minx)\n",
    "    maxx = float(maxx)\n",
    "    miny = float(miny)\n",
    "    maxy = float(maxy)\n",
    "    section = dataframe[lambda x:  (x[namecolumnx] > minx) & (x[namecolumnx] < maxx) & (x[namecolumny] > miny) & (x[namecolumny] < maxy) ]\n",
    "    return section\n"
   ]
  },
  {
   "cell_type": "code",
   "execution_count": null,
   "metadata": {
    "collapsed": true
   },
   "outputs": [],
   "source": [
    "sample = systSelection(new_data,10)\n",
    "sample = randomSelection(new_data,10)\n",
    "minx = -85\n",
    "maxx = -83\n",
    "miny = 30\n",
    "maxy = 33\n",
    "\n",
    "section = subselectDataFrameByCoordinates(new_data,'LON','LAT',minx,maxx,miny,maxy)"
   ]
  },
  {
   "cell_type": "code",
   "execution_count": null,
   "metadata": {
    "collapsed": false
   },
   "outputs": [],
   "source": [
    "vsamp = tools.Variogram(section,'logBiomass')\n",
    "import statsmodels.regression.linear_model as lm\n",
    "Mdist = vsamp.distance_coordinates.flatten()\n",
    "vsamp.plot(num_iterations=1)\n"
   ]
  },
  {
   "cell_type": "code",
   "execution_count": null,
   "metadata": {
    "collapsed": false
   },
   "outputs": [],
   "source": [
    "print(section.shape)\n",
    "ss = section.drop_duplicates(subset=['newLon','newLat'])\n",
    "ss.shape"
   ]
  },
  {
   "cell_type": "code",
   "execution_count": null,
   "metadata": {
    "collapsed": false
   },
   "outputs": [],
   "source": [
    "%time vars = np.array(spmodel(Mdist))\n",
    "MMdist = Mdist.reshape(len(section),len(section))\n",
    "CovMat = vars.reshape(len(section),len(section))\n",
    "X = section.logSppN.values\n",
    "Y = section.logBiomass.values"
   ]
  },
  {
   "cell_type": "code",
   "execution_count": null,
   "metadata": {
    "collapsed": false
   },
   "outputs": [],
   "source": [
    "section.plot()"
   ]
  },
  {
   "cell_type": "code",
   "execution_count": null,
   "metadata": {
    "collapsed": false
   },
   "outputs": [],
   "source": [
    "tt = section.geometry[:200]\n",
    "tt.plot()"
   ]
  },
  {
   "cell_type": "code",
   "execution_count": null,
   "metadata": {
    "collapsed": false
   },
   "outputs": [],
   "source": [
    "plt.imshow(vsamp.distance_coordinates[:200,:200],interpolation='None',cmap=plt.cm.Blues)"
   ]
  },
  {
   "cell_type": "code",
   "execution_count": null,
   "metadata": {
    "collapsed": false
   },
   "outputs": [],
   "source": [
    "plt.imshow(CovMat,interpolation='None',cmap=plt.cm.Blues)"
   ]
  },
  {
   "cell_type": "code",
   "execution_count": null,
   "metadata": {
    "collapsed": false
   },
   "outputs": [],
   "source": [
    "plt.plot(CovMat[1,:])"
   ]
  },
  {
   "cell_type": "code",
   "execution_count": null,
   "metadata": {
    "collapsed": false
   },
   "outputs": [],
   "source": [
    "plt.plot(MMdist[1,:],MMdist[2,:])"
   ]
  },
  {
   "cell_type": "code",
   "execution_count": null,
   "metadata": {
    "collapsed": false
   },
   "outputs": [],
   "source": [
    "#%time results_gls = lm.GLS(Y,X,sigma=CovMat)\n",
    "tt = np.linalg.cholesky(MMdist)\n",
    "#np.linalg.eigvals(CovMat[1:][1:])\n",
    "max(CovMat.flatten())"
   ]
  },
  {
   "cell_type": "code",
   "execution_count": null,
   "metadata": {
    "collapsed": false
   },
   "outputs": [],
   "source": [
    "CovMat[580:,590]"
   ]
  },
  {
   "cell_type": "code",
   "execution_count": null,
   "metadata": {
    "collapsed": false
   },
   "outputs": [],
   "source": [
    "np.linalg.eigvals(tt)"
   ]
  },
  {
   "cell_type": "code",
   "execution_count": null,
   "metadata": {
    "collapsed": false
   },
   "outputs": [],
   "source": []
  },
  {
   "cell_type": "code",
   "execution_count": null,
   "metadata": {
    "collapsed": true
   },
   "outputs": [],
   "source": []
  },
  {
   "cell_type": "code",
   "execution_count": null,
   "metadata": {
    "collapsed": true
   },
   "outputs": [],
   "source": [
    "## Experimental do not run in interactive mode\n",
    "##But the data is massive and it consumes all my RAM (32 GB) I need to  do something clever.\n",
    "covar = []\n",
    "for i in range(len(Mdist)):\n",
    "    x = Mdist.pop(i)\n",
    "    g = gaussianVariogram(x,bg[0],bg[1],bg[2])\n",
    "    covar.append(g)"
   ]
  }
 ],
 "metadata": {
  "kernelspec": {
   "display_name": "Django Shell-Plus",
   "language": "python",
   "name": "django_extensions"
  },
  "language_info": {
   "codemirror_mode": {
    "name": "ipython",
    "version": 2
   },
   "file_extension": ".py",
   "mimetype": "text/x-python",
   "name": "python",
   "nbconvert_exporter": "python",
   "pygments_lexer": "ipython2",
   "version": "2.7.11"
  }
 },
 "nbformat": 4,
 "nbformat_minor": 0
}
