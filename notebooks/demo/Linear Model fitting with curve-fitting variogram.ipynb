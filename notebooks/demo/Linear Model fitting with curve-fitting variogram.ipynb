{
 "cells": [
  {
   "cell_type": "markdown",
   "metadata": {},
   "source": [
    "# Linear Model Fitting using empirical variogram\n",
    "In classical geoestatistics it is frequent to use a sample-based variogram to fit a parametrised theoretical variogram. This method has proved to present biasses for the estimators of range, sill and shape. There are two reasons for this.\n",
    "1. We are supposing that the observations are not random and the variogram is the true population variogram. \n",
    "2. The variogram is built on summary statistics (bin size) and the curve-fitness can vary depending on this size. \n",
    "\n",
    "Having said so, it is still a method used for estimating parameters and when the size of the data is big, being a good alternative to the likelihood methodology, a more robust optimization but computationally more complex. "
   ]
  },
  {
   "cell_type": "markdown",
   "metadata": {},
   "source": [
    "So first thing first, import the neessary modules. Depending on your machine this may change.\n",
    "For the moment I work with this."
   ]
  },
  {
   "cell_type": "code",
   "execution_count": 1,
   "metadata": {
    "collapsed": true,
    "jupyter": {
     "outputs_hidden": true
    }
   },
   "outputs": [],
   "source": [
    "# Load Biospytial modules and etc.\n",
    "%matplotlib inline\n",
    "import sys\n",
    "sys.path.append('/apps')\n",
    "sys.path.append('/apps/external_plugins/spystats/')\n",
    "import django\n",
    "django.setup()\n",
    "\n",
    "## Use the ggplot style\n",
    "plt.style.use('ggplot')\n"
   ]
  },
  {
   "cell_type": "code",
   "execution_count": 6,
   "metadata": {
    "collapsed": true,
    "jupyter": {
     "outputs_hidden": true
    }
   },
   "outputs": [],
   "source": [
    "import pandas as pd\n",
    "from statsmodels.regression import linear_model\n",
    "import pandas as pd\n",
    "import geopandas as gpd\n",
    "import matplotlib.pyplot as plt\n",
    "import numpy as np"
   ]
  },
  {
   "cell_type": "code",
   "execution_count": 4,
   "metadata": {
    "collapsed": false,
    "jupyter": {
     "outputs_hidden": false
    }
   },
   "outputs": [],
   "source": [
    "import tools\n",
    "import HEC_runs.fit_fia_logbiomass_logspp_GLS as auxiliary"
   ]
  },
  {
   "cell_type": "code",
   "execution_count": 7,
   "metadata": {
    "collapsed": true,
    "jupyter": {
     "outputs_hidden": true
    }
   },
   "outputs": [],
   "source": [
    "## File locations, change accordingly\n",
    "empirical_data_path = \"/RawDataCSV/idiv_share/FIA_Plots_Biomass_11092017.csv\"\n",
    "variogram_path = \"/apps/external_plugins/spystats/HEC_runs/results/variogram/data_envelope.csv\"\n"
   ]
  },
  {
   "cell_type": "markdown",
   "metadata": {},
   "source": [
    "## Geographic extent "
   ]
  },
  {
   "cell_type": "code",
   "execution_count": 11,
   "metadata": {
    "collapsed": true,
    "jupyter": {
     "outputs_hidden": true
    }
   },
   "outputs": [],
   "source": [
    "minx = -130\n",
    "maxx = -60\n",
    "miny = 24\n",
    "maxy = 50"
   ]
  },
  {
   "cell_type": "markdown",
   "metadata": {},
   "source": [
    "### Auxiliary functions\n",
    "    * Open file\n",
    "    * Convert it to Pandas with Geometry (GeoPandas)\n",
    "    * Reproject it to Lambert Conic Conformal\n",
    "    * Calculate OLS and append residuals"
   ]
  },
  {
   "cell_type": "code",
   "execution_count": 13,
   "metadata": {
    "collapsed": false,
    "jupyter": {
     "outputs_hidden": false
    }
   },
   "outputs": [
    {
     "name": "stderr",
     "output_type": "stream",
     "text": [
      "INFO:HEC_runs.fit_fia_logbiomass_logspp_GLS:Reprojecting to Alberts equal area\n",
      "INFO:HEC_runs.fit_fia_logbiomass_logspp_GLS:Removing possible duplicates. \n",
      " This avoids problems of Non Positive semidefinite\n",
      "INFO:HEC_runs.fit_fia_logbiomass_logspp_GLS:Fitting OLS linear model: logBiomass ~ logSppN \n",
      "INFO:HEC_runs.fit_fia_logbiomass_logspp_GLS:Subselecting Region\n"
     ]
    }
   ],
   "source": [
    "data = auxiliary.initAnalysis(empirical_data_path=empirical_data_path,plotdata_path=plotdata_path, maxx=maxx,minx=minx,maxy=maxy,miny=miny)"
   ]
  },
  {
   "cell_type": "markdown",
   "metadata": {},
   "source": [
    "### For testing, subselect the first 50 data points"
   ]
  },
  {
   "cell_type": "code",
   "execution_count": 81,
   "metadata": {
    "collapsed": false,
    "jupyter": {
     "outputs_hidden": false
    }
   },
   "outputs": [],
   "source": [
    "test_data = data.loc[0:49,:]"
   ]
  },
  {
   "cell_type": "markdown",
   "metadata": {},
   "source": [
    "## Now lets instantiate the variogram according to the results obtained in the cluster.\n",
    "Remember:\n",
    "    < Whittle Variogram : sill 0.340246718396, range 41188.0234423, nugget 0.329937603763, alpha1.12143687914 >"
   ]
  },
  {
   "cell_type": "code",
   "execution_count": 82,
   "metadata": {
    "collapsed": true,
    "jupyter": {
     "outputs_hidden": true
    }
   },
   "outputs": [],
   "source": [
    "model = tools.WhittleVariogram(sill=0.340246718396,range_a=41188.0234423,nugget=0.329937603763,alpha=1.12143687914)"
   ]
  },
  {
   "cell_type": "markdown",
   "metadata": {},
   "source": [
    "### Let's see the correlation"
   ]
  },
  {
   "cell_type": "code",
   "execution_count": 83,
   "metadata": {
    "collapsed": false,
    "jupyter": {
     "outputs_hidden": false
    }
   },
   "outputs": [
    {
     "data": {
      "text/plain": [
       "[<matplotlib.lines.Line2D at 0x7f6d865e6250>]"
      ]
     },
     "execution_count": 83,
     "metadata": {},
     "output_type": "execute_result"
    },
    {
     "data": {
      "image/png": "[encoded data removed]",
      "text/plain": [
       "<matplotlib.figure.Figure at 0x7f6d8666b750>"
      ]
     },
     "metadata": {},
     "output_type": "display_data"
    }
   ],
   "source": [
    "import numpy as np\n",
    "X = np.linspace(0,1000000,1000)\n",
    "plt.plot(X,model.corr_f(X))"
   ]
  },
  {
   "cell_type": "code",
   "execution_count": 84,
   "metadata": {
    "collapsed": true,
    "jupyter": {
     "outputs_hidden": true
    }
   },
   "outputs": [],
   "source": [
    "vg = tools.Variogram(test_data,'residuals',model=model)\n",
    "MM = vg.calculateCovarianceMatrix()"
   ]
  },
  {
   "cell_type": "markdown",
   "metadata": {},
   "source": [
    "### Fit a GLS "
   ]
  },
  {
   "cell_type": "code",
   "execution_count": 85,
   "metadata": {
    "collapsed": true,
    "jupyter": {
     "outputs_hidden": true
    }
   },
   "outputs": [],
   "source": [
    "lmod = linear_model.GLS.from_formula(formula='logBiomass ~ logSppN',data=test_data,sigma=MM)"
   ]
  },
  {
   "cell_type": "code",
   "execution_count": 86,
   "metadata": {
    "collapsed": false,
    "jupyter": {
     "outputs_hidden": false
    }
   },
   "outputs": [],
   "source": [
    "results = lmod.fit()"
   ]
  },
  {
   "cell_type": "code",
   "execution_count": null,
   "metadata": {
    "collapsed": true,
    "jupyter": {
     "outputs_hidden": true
    }
   },
   "outputs": [],
   "source": []
  },
  {
   "cell_type": "code",
   "execution_count": 87,
   "metadata": {
    "collapsed": false,
    "jupyter": {
     "outputs_hidden": false
    }
   },
   "outputs": [
    {
     "data": {
      "text/html": [
       "<table class=\"simpletable\">\n",
       "<caption>GLS Regression Results</caption>\n",
       "<tr>\n",
       "  <th>Dep. Variable:</th>       <td>logBiomass</td>    <th>  R-squared:         </th> <td>   0.739</td>\n",
       "</tr>\n",
       "<tr>\n",
       "  <th>Model:</th>                   <td>GLS</td>       <th>  Adj. R-squared:    </th> <td>   0.733</td>\n",
       "</tr>\n",
       "<tr>\n",
       "  <th>Method:</th>             <td>Least Squares</td>  <th>  F-statistic:       </th> <td>   135.8</td>\n",
       "</tr>\n",
       "<tr>\n",
       "  <th>Date:</th>             <td>Thu, 08 Feb 2018</td> <th>  Prob (F-statistic):</th> <td>1.35e-15</td>\n",
       "</tr>\n",
       "<tr>\n",
       "  <th>Time:</th>                 <td>20:07:18</td>     <th>  Log-Likelihood:    </th> <td> -37.860</td>\n",
       "</tr>\n",
       "<tr>\n",
       "  <th>No. Observations:</th>      <td>    50</td>      <th>  AIC:               </th> <td>   79.72</td>\n",
       "</tr>\n",
       "<tr>\n",
       "  <th>Df Residuals:</th>          <td>    48</td>      <th>  BIC:               </th> <td>   83.54</td>\n",
       "</tr>\n",
       "<tr>\n",
       "  <th>Df Model:</th>              <td>     1</td>      <th>                     </th>     <td> </td>   \n",
       "</tr>\n",
       "<tr>\n",
       "  <th>Covariance Type:</th>      <td>nonrobust</td>    <th>                     </th>     <td> </td>   \n",
       "</tr>\n",
       "</table>\n",
       "<table class=\"simpletable\">\n",
       "<tr>\n",
       "      <td></td>         <th>coef</th>     <th>std err</th>      <th>t</th>      <th>P>|t|</th> <th>[95.0% Conf. Int.]</th> \n",
       "</tr>\n",
       "<tr>\n",
       "  <th>Intercept</th> <td>    8.4659</td> <td>    0.159</td> <td>   53.276</td> <td> 0.000</td> <td>    8.146     8.785</td>\n",
       "</tr>\n",
       "<tr>\n",
       "  <th>logSppN</th>   <td>    0.3405</td> <td>    0.097</td> <td>    3.508</td> <td> 0.001</td> <td>    0.145     0.536</td>\n",
       "</tr>\n",
       "</table>\n",
       "<table class=\"simpletable\">\n",
       "<tr>\n",
       "  <th>Omnibus:</th>       <td> 0.534</td> <th>  Durbin-Watson:     </th> <td>   2.038</td>\n",
       "</tr>\n",
       "<tr>\n",
       "  <th>Prob(Omnibus):</th> <td> 0.766</td> <th>  Jarque-Bera (JB):  </th> <td>   0.661</td>\n",
       "</tr>\n",
       "<tr>\n",
       "  <th>Skew:</th>          <td>-0.205</td> <th>  Prob(JB):          </th> <td>   0.719</td>\n",
       "</tr>\n",
       "<tr>\n",
       "  <th>Kurtosis:</th>      <td> 2.614</td> <th>  Cond. No.          </th> <td>    3.82</td>\n",
       "</tr>\n",
       "</table>"
      ],
      "text/plain": [
       "<class 'statsmodels.iolib.summary.Summary'>\n",
       "\"\"\"\n",
       "                            GLS Regression Results                            \n",
       "==============================================================================\n",
       "Dep. Variable:             logBiomass   R-squared:                       0.739\n",
       "Model:                            GLS   Adj. R-squared:                  0.733\n",
       "Method:                 Least Squares   F-statistic:                     135.8\n",
       "Date:                Thu, 08 Feb 2018   Prob (F-statistic):           1.35e-15\n",
       "Time:                        20:07:18   Log-Likelihood:                -37.860\n",
       "No. Observations:                  50   AIC:                             79.72\n",
       "Df Residuals:                      48   BIC:                             83.54\n",
       "Df Model:                           1                                         \n",
       "Covariance Type:            nonrobust                                         \n",
       "==============================================================================\n",
       "                 coef    std err          t      P>|t|      [95.0% Conf. Int.]\n",
       "------------------------------------------------------------------------------\n",
       "Intercept      8.4659      0.159     53.276      0.000         8.146     8.785\n",
       "logSppN        0.3405      0.097      3.508      0.001         0.145     0.536\n",
       "==============================================================================\n",
       "Omnibus:                        0.534   Durbin-Watson:                   2.038\n",
       "Prob(Omnibus):                  0.766   Jarque-Bera (JB):                0.661\n",
       "Skew:                          -0.205   Prob(JB):                        0.719\n",
       "Kurtosis:                       2.614   Cond. No.                         3.82\n",
       "==============================================================================\n",
       "\n",
       "Warnings:\n",
       "[1] Standard Errors assume that the covariance matrix of the errors is correctly specified.\n",
       "\"\"\""
      ]
     },
     "execution_count": 87,
     "metadata": {},
     "output_type": "execute_result"
    }
   ],
   "source": [
    "results.summary()"
   ]
  },
  {
   "cell_type": "code",
   "execution_count": 88,
   "metadata": {
    "collapsed": false,
    "jupyter": {
     "outputs_hidden": false
    }
   },
   "outputs": [
    {
     "data": {
      "text/plain": [
       "array([[  3.40246718e-01,   7.31546364e-03,   8.15024713e-03, ...,\n",
       "          1.84364060e-06,   1.59910176e-05,   4.09168002e-05],\n",
       "       [  7.31546364e-03,   3.40246718e-01,   5.76166346e-03, ...,\n",
       "          2.70041624e-06,   2.45467297e-05,   6.41058708e-05],\n",
       "       [  8.15024713e-03,   5.76166346e-03,   3.40246718e-01, ...,\n",
       "          1.24826472e-06,   1.09900133e-05,   2.84811261e-05],\n",
       "       ..., \n",
       "       [  1.84364060e-06,   2.70041624e-06,   1.24826472e-06, ...,\n",
       "          3.40246718e-01,   1.37447932e-03,   4.82794798e-04],\n",
       "       [  1.59910176e-05,   2.45467297e-05,   1.09900133e-05, ...,\n",
       "          1.37447932e-03,   3.40246718e-01,   4.49004133e-03],\n",
       "       [  4.09168002e-05,   6.41058708e-05,   2.84811261e-05, ...,\n",
       "          4.82794798e-04,   4.49004133e-03,   3.40246718e-01]])"
      ]
     },
     "execution_count": 88,
     "metadata": {},
     "output_type": "execute_result"
    }
   ],
   "source": [
    "MM"
   ]
  },
  {
   "cell_type": "code",
   "execution_count": 89,
   "metadata": {
    "collapsed": true,
    "jupyter": {
     "outputs_hidden": true
    }
   },
   "outputs": [],
   "source": [
    "DD = vg.distance_coordinates"
   ]
  },
  {
   "cell_type": "code",
   "execution_count": 90,
   "metadata": {
    "collapsed": false,
    "jupyter": {
     "outputs_hidden": false
    }
   },
   "outputs": [],
   "source": [
    "correl_mat = vg.model.corr_f(DD)"
   ]
  },
  {
   "cell_type": "code",
   "execution_count": 91,
   "metadata": {
    "collapsed": false,
    "jupyter": {
     "outputs_hidden": false
    }
   },
   "outputs": [],
   "source": [
    "correl_mat.tofile('/outputs/correl_matf50.csv',sep=\",\",format=\"%s\")"
   ]
  },
  {
   "cell_type": "code",
   "execution_count": 92,
   "metadata": {
    "collapsed": true,
    "jupyter": {
     "outputs_hidden": true
    }
   },
   "outputs": [],
   "source": [
    "MM.tofile('/outputs/covar_matf50.csv',sep=\",\",format=\"%s\")"
   ]
  },
  {
   "cell_type": "code",
   "execution_count": 93,
   "metadata": {
    "collapsed": false,
    "jupyter": {
     "outputs_hidden": false
    }
   },
   "outputs": [
    {
     "name": "stdout",
     "output_type": "stream",
     "text": [
      "\u001b[0m\u001b[01;34mHEC_outputs\u001b[0m/                                \u001b[01;32mpvalues_gls.csv\u001b[0m*\n",
      "\u001b[01;32mcorrel_matf50.csv\u001b[0m*                          \u001b[01;32mrsqs.csv\u001b[0m*\n",
      "\u001b[01;32mcovar_matf50.csv\u001b[0m*                           \u001b[01;32mtest_denmark.tif\u001b[0m*\n",
      "\u001b[01;32melevation1.tif\u001b[0m*                             \u001b[01;32mtest_denmark.tif.aux.xml\u001b[0m*\n",
      "\u001b[01;32melevation1.tif.aux.xml\u001b[0m*                     \u001b[01;32mtest_denmark_tm.tif\u001b[0m*\n",
      "\u001b[01;32mfia_plots_reproject.csv\u001b[0m*                    \u001b[01;32mtest_denmark_tm.tif.aux.xml\u001b[0m*\n",
      "\u001b[01;32mgls_confidence_int.csv\u001b[0m*                     \u001b[01;32mtest_graph.gml\u001b[0m*\n",
      "\u001b[01;32mgp_sigma_rho.png\u001b[0m*                           \u001b[01;32mtest_slope.tif\u001b[0m*\n",
      "\u001b[01;32mlogbiomas_logsppn_residuals_variogram.csv\u001b[0m*  \u001b[01;32mtest_slope.tif.aux.xml\u001b[0m*\n",
      "\u001b[01;32mn_obs.csv\u001b[0m*                                  \u001b[01;32mtest_tree_figure_1.png\u001b[0m*\n",
      "\u001b[01;32moutputstest_fabacea.tif\u001b[0m*                    \u001b[01;32mtestooooooo.tif\u001b[0m*\n",
      "\u001b[01;32moutputstest_fabacea.tif.aux.xml\u001b[0m*            \u001b[01;32mtestooooooo.tif.tif\u001b[0m*\n",
      "\u001b[01;32mparams2_gls.csv\u001b[0m*                            \u001b[01;32mtestooooooo.tif.tif.aux.xml\u001b[0m*\n",
      "\u001b[01;32mparams_gls.csv\u001b[0m*                             \u001b[01;34mtflow_outs\u001b[0m/\n"
     ]
    }
   ],
   "source": [
    "ls /outputs"
   ]
  },
  {
   "cell_type": "code",
   "execution_count": 94,
   "metadata": {
    "collapsed": true,
    "jupyter": {
     "outputs_hidden": true
    }
   },
   "outputs": [],
   "source": [
    "MM.tofile?\n"
   ]
  },
  {
   "cell_type": "code",
   "execution_count": 95,
   "metadata": {
    "collapsed": true,
    "jupyter": {
     "outputs_hidden": true
    }
   },
   "outputs": [],
   "source": [
    "lmodco = linear_model.GLS.from_formula(formula='logBiomass ~ logSppN',data=test_data,sigma=correl_mat)"
   ]
  },
  {
   "cell_type": "code",
   "execution_count": 96,
   "metadata": {
    "collapsed": true,
    "jupyter": {
     "outputs_hidden": true
    }
   },
   "outputs": [],
   "source": [
    "res=lmodco.fit()"
   ]
  },
  {
   "cell_type": "code",
   "execution_count": 97,
   "metadata": {
    "collapsed": false,
    "jupyter": {
     "outputs_hidden": false
    }
   },
   "outputs": [
    {
     "data": {
      "text/html": [
       "<table class=\"simpletable\">\n",
       "<caption>GLS Regression Results</caption>\n",
       "<tr>\n",
       "  <th>Dep. Variable:</th>       <td>logBiomass</td>    <th>  R-squared:         </th> <td>   0.755</td>\n",
       "</tr>\n",
       "<tr>\n",
       "  <th>Model:</th>                   <td>GLS</td>       <th>  Adj. R-squared:    </th> <td>   0.750</td>\n",
       "</tr>\n",
       "<tr>\n",
       "  <th>Method:</th>             <td>Least Squares</td>  <th>  F-statistic:       </th> <td>   147.6</td>\n",
       "</tr>\n",
       "<tr>\n",
       "  <th>Date:</th>             <td>Thu, 08 Feb 2018</td> <th>  Prob (F-statistic):</th> <td>2.98e-16</td>\n",
       "</tr>\n",
       "<tr>\n",
       "  <th>Time:</th>                 <td>20:07:25</td>     <th>  Log-Likelihood:    </th> <td> -51.743</td>\n",
       "</tr>\n",
       "<tr>\n",
       "  <th>No. Observations:</th>      <td>    50</td>      <th>  AIC:               </th> <td>   107.5</td>\n",
       "</tr>\n",
       "<tr>\n",
       "  <th>Df Residuals:</th>          <td>    48</td>      <th>  BIC:               </th> <td>   111.3</td>\n",
       "</tr>\n",
       "<tr>\n",
       "  <th>Df Model:</th>              <td>     1</td>      <th>                     </th>     <td> </td>   \n",
       "</tr>\n",
       "<tr>\n",
       "  <th>Covariance Type:</th>      <td>nonrobust</td>    <th>                     </th>     <td> </td>   \n",
       "</tr>\n",
       "</table>\n",
       "<table class=\"simpletable\">\n",
       "<tr>\n",
       "      <td></td>         <th>coef</th>     <th>std err</th>      <th>t</th>      <th>P>|t|</th> <th>[95.0% Conf. Int.]</th> \n",
       "</tr>\n",
       "<tr>\n",
       "  <th>Intercept</th> <td>    8.4012</td> <td>    0.673</td> <td>   12.488</td> <td> 0.000</td> <td>    7.049     9.754</td>\n",
       "</tr>\n",
       "<tr>\n",
       "  <th>logSppN</th>   <td>    0.3233</td> <td>    0.103</td> <td>    3.125</td> <td> 0.003</td> <td>    0.115     0.531</td>\n",
       "</tr>\n",
       "</table>\n",
       "<table class=\"simpletable\">\n",
       "<tr>\n",
       "  <th>Omnibus:</th>       <td> 1.360</td> <th>  Durbin-Watson:     </th> <td>   1.760</td>\n",
       "</tr>\n",
       "<tr>\n",
       "  <th>Prob(Omnibus):</th> <td> 0.507</td> <th>  Jarque-Bera (JB):  </th> <td>   0.600</td>\n",
       "</tr>\n",
       "<tr>\n",
       "  <th>Skew:</th>          <td> 0.082</td> <th>  Prob(JB):          </th> <td>   0.741</td>\n",
       "</tr>\n",
       "<tr>\n",
       "  <th>Kurtosis:</th>      <td> 3.511</td> <th>  Cond. No.          </th> <td>    6.64</td>\n",
       "</tr>\n",
       "</table>"
      ],
      "text/plain": [
       "<class 'statsmodels.iolib.summary.Summary'>\n",
       "\"\"\"\n",
       "                            GLS Regression Results                            \n",
       "==============================================================================\n",
       "Dep. Variable:             logBiomass   R-squared:                       0.755\n",
       "Model:                            GLS   Adj. R-squared:                  0.750\n",
       "Method:                 Least Squares   F-statistic:                     147.6\n",
       "Date:                Thu, 08 Feb 2018   Prob (F-statistic):           2.98e-16\n",
       "Time:                        20:07:25   Log-Likelihood:                -51.743\n",
       "No. Observations:                  50   AIC:                             107.5\n",
       "Df Residuals:                      48   BIC:                             111.3\n",
       "Df Model:                           1                                         \n",
       "Covariance Type:            nonrobust                                         \n",
       "==============================================================================\n",
       "                 coef    std err          t      P>|t|      [95.0% Conf. Int.]\n",
       "------------------------------------------------------------------------------\n",
       "Intercept      8.4012      0.673     12.488      0.000         7.049     9.754\n",
       "logSppN        0.3233      0.103      3.125      0.003         0.115     0.531\n",
       "==============================================================================\n",
       "Omnibus:                        1.360   Durbin-Watson:                   1.760\n",
       "Prob(Omnibus):                  0.507   Jarque-Bera (JB):                0.600\n",
       "Skew:                           0.082   Prob(JB):                        0.741\n",
       "Kurtosis:                       3.511   Cond. No.                         6.64\n",
       "==============================================================================\n",
       "\n",
       "Warnings:\n",
       "[1] Standard Errors assume that the covariance matrix of the errors is correctly specified.\n",
       "\"\"\""
      ]
     },
     "execution_count": 97,
     "metadata": {},
     "output_type": "execute_result"
    }
   ],
   "source": [
    "res.summary()"
   ]
  },
  {
   "cell_type": "code",
   "execution_count": 80,
   "metadata": {
    "collapsed": false,
    "jupyter": {
     "outputs_hidden": false
    }
   },
   "outputs": [
    {
     "data": {
      "text/plain": [
       "51"
      ]
     },
     "execution_count": 80,
     "metadata": {},
     "output_type": "execute_result"
    }
   ],
   "source": [
    "len(test_data)"
   ]
  },
  {
   "cell_type": "code",
   "execution_count": null,
   "metadata": {
    "collapsed": true,
    "jupyter": {
     "outputs_hidden": true
    }
   },
   "outputs": [],
   "source": []
  }
 ],
 "metadata": {
  "kernelspec": {
   "display_name": "Django Shell-Plus",
   "language": "python",
   "name": "django_extensions"
  },
  "language_info": {
   "codemirror_mode": {
    "name": "ipython",
    "version": 3
   },
   "file_extension": ".py",
   "mimetype": "text/x-python",
   "name": "python",
   "nbconvert_exporter": "python",
   "pygments_lexer": "ipython3",
   "version": "3.8.2"
  }
 },
 "nbformat": 4,
 "nbformat_minor": 4
}
