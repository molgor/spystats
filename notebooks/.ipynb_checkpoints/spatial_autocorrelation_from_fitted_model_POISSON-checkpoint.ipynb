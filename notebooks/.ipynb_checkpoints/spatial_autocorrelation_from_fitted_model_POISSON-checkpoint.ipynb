{
 "cells": [
  {
   "cell_type": "code",
   "execution_count": 1,
   "metadata": {
    "collapsed": true
   },
   "outputs": [],
   "source": [
    "# Load Biospytial modules and etc.\n",
    "%matplotlib inline\n",
    "import sys\n",
    "sys.path.append('/apps')\n",
    "import django\n",
    "django.setup()\n",
    "import pandas as pd\n",
    "import matplotlib.pyplot as plt\n",
    "## Use the ggplot style\n",
    "plt.style.use('ggplot')"
   ]
  },
  {
   "cell_type": "code",
   "execution_count": 2,
   "metadata": {
    "collapsed": false
   },
   "outputs": [
    {
     "name": "stderr",
     "output_type": "stream",
     "text": [
      "/opt/conda/envs/biospytial/lib/python2.7/site-packages/IPython/core/interactiveshell.py:2717: DtypeWarning: Columns (24) have mixed types. Specify dtype option on import or set low_memory=False.\n",
      "  interactivity=interactivity, compiler=compiler, result=result)\n"
     ]
    }
   ],
   "source": [
    "# My mac\n",
    "#data = pd.read_csv(\"/RawDataCSV/plotsClimateData_11092017.csv\")\n",
    "# My Linux desktop\n",
    "data = pd.read_csv(\"/RawDataCSV/idiv_share/plotsClimateData_11092017.csv\")\n"
   ]
  },
  {
   "cell_type": "code",
   "execution_count": 3,
   "metadata": {
    "collapsed": false
   },
   "outputs": [
    {
     "data": {
      "text/plain": [
       "5.1824128104220382"
      ]
     },
     "execution_count": 3,
     "metadata": {},
     "output_type": "execute_result"
    }
   ],
   "source": [
    "data.SppN.mean()"
   ]
  },
  {
   "cell_type": "code",
   "execution_count": 4,
   "metadata": {
    "collapsed": false
   },
   "outputs": [],
   "source": [
    "import geopandas as gpd"
   ]
  },
  {
   "cell_type": "code",
   "execution_count": 5,
   "metadata": {
    "collapsed": false
   },
   "outputs": [],
   "source": [
    "from django.contrib.gis import geos\n",
    "from shapely.geometry import Point"
   ]
  },
  {
   "cell_type": "code",
   "execution_count": 6,
   "metadata": {
    "collapsed": false
   },
   "outputs": [],
   "source": [
    "data['geometry'] = data.apply(lambda z: Point(z.LON, z.LAT), axis=1)\n",
    "new_data = gpd.GeoDataFrame(data)"
   ]
  },
  {
   "cell_type": "markdown",
   "metadata": {},
   "source": [
    "## Let´s reproject to Alberts or something with distance"
   ]
  },
  {
   "cell_type": "code",
   "execution_count": 7,
   "metadata": {
    "collapsed": true
   },
   "outputs": [],
   "source": [
    "new_data.crs = {'init':'epsg:4326'}"
   ]
  },
  {
   "cell_type": "markdown",
   "metadata": {},
   "source": [
    "### Uncomment to reproject\n",
    "proj string taken from: http://spatialreference.org/"
   ]
  },
  {
   "cell_type": "code",
   "execution_count": 8,
   "metadata": {
    "collapsed": false
   },
   "outputs": [],
   "source": [
    "#new_data =  new_data.to_crs(\"+proj=aea +lat_1=29.5 +lat_2=45.5 +lat_0=37.5 +lon_0=-96 +x_0=0 +y_0=0 +ellps=GRS80 +datum=NAD83 +units=m +no_defs \")"
   ]
  },
  {
   "cell_type": "markdown",
   "metadata": {},
   "source": [
    "# Model Fitting Using a GLM \n",
    "\n",
    "The general model will have the form:\n",
    "$$ Biomass(x,y) = \\beta_1 AET + \\beta_2 Age + Z(x,y) + \\epsilon $$\n",
    "Where:\n",
    "$\\beta_1$ and $\\beta_2$ are model parameters, $Z(x,y)$ is the *Spatial Autocorrelation* process and $\\epsilon \\sim N(0,\\sigma^2)$"
   ]
  },
  {
   "cell_type": "code",
   "execution_count": 9,
   "metadata": {
    "collapsed": false
   },
   "outputs": [],
   "source": [
    "##### OLD #######\n",
    "len(data.lon)\n",
    "#X = data[['AET','StandAge','lon','lat']]\n",
    "#X = data[['SppN','lon','lat']]\n",
    "X = data[['lon','lat']]\n",
    "#Y = data['plotBiomass']\n",
    "Y = data[['SppN']]\n",
    "## First step in spatial autocorrelation\n",
    "#Y = pd.DataFrame(np.zeros(len(Y)))\n",
    "## Let´s take a small sample only for the spatial autocorrelation\n",
    "#import numpy as np\n",
    "#sample_size = 2000\n",
    "#randindx = np.random.randint(0,X.shape[0],sample_size)\n",
    "#nX = X.loc[randindx]\n",
    "#nY = Y.loc[randindx]\n",
    "nX = X\n",
    "nY = Y\n",
    "\n"
   ]
  },
  {
   "cell_type": "code",
   "execution_count": 23,
   "metadata": {
    "collapsed": true
   },
   "outputs": [],
   "source": [
    "## Small function for systematically selecting the k-th element of the data.\n",
    "#### Sughgestion use for now a small k i.e. 10\n",
    "systematic_selection = lambda k : filter(lambda i : not(i % k) ,range(len(data))) "
   ]
  },
  {
   "cell_type": "code",
   "execution_count": 58,
   "metadata": {
    "collapsed": false
   },
   "outputs": [
    {
     "name": "stdout",
     "output_type": "stream",
     "text": [
      "3685\n"
     ]
    }
   ],
   "source": [
    "idx = systematic_selection(10)\n",
    "print(len(idx))\n",
    "nX = X.loc[idx]\n",
    "nY = Y.loc[idx]\n",
    "new_data = data.loc[idx]"
   ]
  },
  {
   "cell_type": "code",
   "execution_count": 59,
   "metadata": {
    "collapsed": false
   },
   "outputs": [
    {
     "data": {
      "text/plain": [
       "3685"
      ]
     },
     "execution_count": 59,
     "metadata": {},
     "output_type": "execute_result"
    }
   ],
   "source": [
    "len(new_data)"
   ]
  },
  {
   "cell_type": "code",
   "execution_count": 50,
   "metadata": {
    "collapsed": false
   },
   "outputs": [],
   "source": [
    "# Import GPFlow\n",
    "import GPflow as gf\n",
    "k = gf.kernels.Matern12(2, lengthscales=1, active_dims = [0,1] ) + gf.kernels.Bias(1)\n",
    "model = gf.gpmc.GPMC(nX.as_matrix(), nY.as_matrix().reshape(len(nY),1).astype(float), k, l)\n"
   ]
  },
  {
   "cell_type": "code",
   "execution_count": 56,
   "metadata": {
    "collapsed": true
   },
   "outputs": [],
   "source": [
    "l = gf.likelihoods.Bernoulli()"
   ]
  },
  {
   "cell_type": "code",
   "execution_count": 57,
   "metadata": {
    "collapsed": false,
    "scrolled": false
   },
   "outputs": [
    {
     "name": "stdout",
     "output_type": "stream",
     "text": [
      "CPU times: user 11.7 s, sys: 1.26 s, total: 13 s\n",
      "Wall time: 5.03 s\n",
      "warning: numerical instability.                  Rejecting this proposal prematurely\n",
      "warning: numerical instability.                  Rejecting this proposal prematurely\n",
      "warning: numerical instability.                  Rejecting this proposal prematurely\n",
      "warning: numerical instability.                  Rejecting this proposal prematurely\n",
      "warning: numerical instability.                  Rejecting this proposal prematurely\n",
      "warning: numerical instability.                  Rejecting this proposal prematurely\n",
      "warning: numerical instability.                  Rejecting this proposal prematurely\n",
      "warning: numerical instability.                  Rejecting this proposal prematurely\n",
      "warning: numerical instability.                  Rejecting this proposal prematurely\n",
      "warning: numerical instability.                  Rejecting this proposal prematurely\n",
      "warning: numerical instability.                  Rejecting this proposal prematurely\n",
      "warning: numerical instability.                  Rejecting this proposal prematurely\n",
      "warning: numerical instability.                  Rejecting this proposal prematurely\n",
      "warning: numerical instability.                  Rejecting this proposal prematurely\n",
      "warning: numerical instability.                  Rejecting this proposal prematurely\n",
      "warning: numerical instability.                  Rejecting this proposal prematurely\n",
      "warning: numerical instability.                  Rejecting this proposal prematurely\n",
      "warning: numerical instability.                  Rejecting this proposal prematurely\n",
      "warning: numerical instability.                  Rejecting this proposal prematurely\n",
      "warning: numerical instability.                  Rejecting this proposal prematurely\n",
      "warning: numerical instability.                  Rejecting this proposal prematurely\n",
      "warning: numerical instability.                  Rejecting this proposal prematurely\n",
      "warning: numerical instability.                  Rejecting this proposal prematurely\n",
      "Iteration:  100 \t Acc Rate:  0.0 %\n",
      "warning: numerical instability.                  Rejecting this proposal prematurely\n",
      "warning: numerical instability.                  Rejecting this proposal prematurely\n",
      "warning: numerical instability.                  Rejecting this proposal prematurely\n",
      "warning: numerical instability.                  Rejecting this proposal prematurely\n",
      "warning: numerical instability.                  Rejecting this proposal prematurely\n",
      "warning: numerical instability.                  Rejecting this proposal prematurely\n",
      "warning: numerical instability.                  Rejecting this proposal prematurely\n",
      "warning: numerical instability.                  Rejecting this proposal prematurely\n",
      "warning: numerical instability.                  Rejecting this proposal prematurely\n",
      "warning: numerical instability.                  Rejecting this proposal prematurely\n",
      "warning: numerical instability.                  Rejecting this proposal prematurely\n",
      "warning: numerical instability.                  Rejecting this proposal prematurely\n",
      "warning: numerical instability.                  Rejecting this proposal prematurely\n",
      "warning: numerical instability.                  Rejecting this proposal prematurely\n",
      "Iteration:  200 \t Acc Rate:  0.0 %\n"
     ]
    }
   ],
   "source": [
    "#model = gf.gpr.GPR(nX.as_matrix(),nY.as_matrix().reshape(len(nY),1).astype(float),k)\n",
    "## If priors\n",
    "#model.kern.matern12.lengthscales.prior = gf.priors.Gaussian(25.0,3.0)\n",
    "#model.kern.matern32.variance.prior = GPflow.priors.Gamma(1.,1.)\n",
    "#model.kern.bias.variance.prior = gf.priors.Gamma(1.,1.)\n",
    "## Optimize\n",
    "%time model.optimize(maxiter=30) # start near MAP\n",
    "samples = model.sample(200, verbose=True, epsilon=0.2, Lmax=10)"
   ]
  },
  {
   "cell_type": "code",
   "execution_count": 30,
   "metadata": {
    "collapsed": false
   },
   "outputs": [
    {
     "data": {
      "text/plain": [
       "array([[ 1.31875069,  0.5966527 ,  0.4799892 , ...,  0.39285398,\n",
       "         0.89466042,  3.77923325],\n",
       "       [ 1.31875069,  0.5966527 ,  0.4799892 , ...,  0.39285398,\n",
       "         0.89466042,  3.77923325],\n",
       "       [ 1.31875069,  0.5966527 ,  0.4799892 , ...,  0.39285398,\n",
       "         0.89466042,  3.77923325],\n",
       "       ..., \n",
       "       [ 1.31875069,  0.5966527 ,  0.4799892 , ...,  0.39285398,\n",
       "         0.89466042,  3.77923325],\n",
       "       [ 1.31875069,  0.5966527 ,  0.4799892 , ...,  0.39285398,\n",
       "         0.89466042,  3.77923325],\n",
       "       [ 1.31875069,  0.5966527 ,  0.4799892 , ...,  0.39285398,\n",
       "         0.89466042,  3.77923325]])"
      ]
     },
     "execution_count": 30,
     "metadata": {},
     "output_type": "execute_result"
    }
   ],
   "source": [
    "samples"
   ]
  },
  {
   "cell_type": "markdown",
   "metadata": {
    "collapsed": false
   },
   "source": [
    "## Fitted parameters (From HEC)"
   ]
  },
  {
   "cell_type": "code",
   "execution_count": null,
   "metadata": {
    "collapsed": true
   },
   "outputs": [],
   "source": [
    "model.kern.lengthscales = 25.4846122373\n",
    "model.kern.variance = 10.9742076021\n",
    "model.likelihood.variance = 4.33463026664"
   ]
  },
  {
   "cell_type": "code",
   "execution_count": null,
   "metadata": {
    "collapsed": false
   },
   "outputs": [],
   "source": [
    "%time mm = k.compute_K_symm(X.as_matrix())"
   ]
  },
  {
   "cell_type": "code",
   "execution_count": null,
   "metadata": {
    "collapsed": true
   },
   "outputs": [],
   "source": [
    "import numpy as np\n",
    "Nn = 500\n",
    "dsc = data\n",
    "predicted_x = np.linspace(min(dsc.lon),max(dsc.lon),Nn)\n",
    "predicted_y = np.linspace(min(dsc.lat),max(dsc.lat),Nn)\n",
    "Xx, Yy = np.meshgrid(predicted_x,predicted_y)\n",
    "## Fake richness\n",
    "fake_sp_rich = np.ones(len(Xx.ravel()))\n",
    "predicted_coordinates = np.vstack([ Xx.ravel(), Yy.ravel()]).transpose()\n",
    "#predicted_coordinates = np.vstack([section.SppN, section.newLon,section.newLat]).transpose()"
   ]
  },
  {
   "cell_type": "code",
   "execution_count": null,
   "metadata": {
    "collapsed": false
   },
   "outputs": [],
   "source": [
    "len(predicted_coordinates)"
   ]
  },
  {
   "cell_type": "code",
   "execution_count": null,
   "metadata": {
    "collapsed": true
   },
   "outputs": [],
   "source": [
    "#We will calculate everything with the new model and parameters\n",
    "#model = gf.gpr.GPR(X.as_matrix(),Y.as_matrix().reshape(len(Y),1).astype(float),k)"
   ]
  },
  {
   "cell_type": "code",
   "execution_count": null,
   "metadata": {
    "collapsed": false
   },
   "outputs": [],
   "source": [
    "%time means,variances = model.predict_y(predicted_coordinates)"
   ]
  },
  {
   "cell_type": "raw",
   "metadata": {
    "collapsed": false
   },
   "source": [
    "\n",
    "#USING k-partition = 10\n",
    "import cartopy\n",
    "plt.figure(figsize=(17,11))\n",
    "\n",
    "proj = cartopy.crs.PlateCarree()\n",
    "ax = plt.subplot(111, projection=proj)\n",
    "\n",
    "\n",
    "ax = plt.axes(projection=proj)\n",
    "#algo = new_data.plot(column='SppN',ax=ax,cmap=colormap,edgecolors='')\n",
    "\n",
    "\n",
    "#ax.set_extent([-93, -70, 30, 50])\n",
    "ax.set_extent([-125, -60, 20, 50])\n",
    "#ax.set_extent([-95, -70, 25, 45])\n",
    "\n",
    "#ax.add_feature(cartopy.feature.LAND)\n",
    "ax.add_feature(cartopy.feature.OCEAN)\n",
    "ax.add_feature(cartopy.feature.COASTLINE)\n",
    "ax.add_feature(cartopy.feature.BORDERS, linestyle=':')\n",
    "ax.add_feature(cartopy.feature.LAKES, alpha=0.9)\n",
    "ax.stock_img()\n",
    "#ax.add_geometries(new_data.geometry,crs=cartopy.crs.PlateCarree())\n",
    "#ax.add_feature(cartopy.feature.RIVERS)\n",
    "mm = ax.pcolormesh(Xx,Yy,means.reshape(Nn,Nn),transform=proj )\n",
    "#cs = plt.contour(Xx,Yy,np.sqrt(variances).reshape(Nn,Nn),linewidths=2,cmap=plt.cm.Greys_r,linestyles='dotted')\n",
    "cs = plt.contour(Xx,Yy,means.reshape(Nn,Nn),linewidths=2,colors='k',linestyles='dotted',levels=[4.0,5.0,6.0,7.0,8.0])\n",
    "plt.clabel(cs, fontsize=16,inline=True,fmt='%1.1f')\n",
    "#ax.scatter(new_data.lon,new_data.lat,edgecolors='',cmap=plt.cm.Accent,alpha=0.6)\n",
    "plt.colorbar(mm)\n",
    "plt.title(\"Predicted Species Richness\")\n",
    "\n",
    "\n",
    "#(x.LON > -90) & (x.LON < -80) & (x.LAT > 40) & (x.LAT < 50)"
   ]
  },
  {
   "cell_type": "code",
   "execution_count": null,
   "metadata": {
    "collapsed": false
   },
   "outputs": [],
   "source": [
    "-"
   ]
  },
  {
   "cell_type": "markdown",
   "metadata": {},
   "source": [
    "# Predictions with +2std.Dev"
   ]
  },
  {
   "cell_type": "code",
   "execution_count": null,
   "metadata": {
    "collapsed": false
   },
   "outputs": [],
   "source": [
    "#Using k-partition = 7\n",
    "import cartopy\n",
    "plt.figure(figsize=(17,11))\n",
    "\n",
    "proj = cartopy.crs.PlateCarree()\n",
    "ax = plt.subplot(111, projection=proj)\n",
    "\n",
    "\n",
    "ax = plt.axes(projection=proj)\n",
    "#algo = new_data.plot(column='SppN',ax=ax,cmap=colormap,edgecolors='')\n",
    "\n",
    "\n",
    "#ax.set_extent([-93, -70, 30, 50])\n",
    "ax.set_extent([-125, -60, 20, 50])\n",
    "#ax.set_extent([-95, -70, 25, 45])\n",
    "\n",
    "#ax.add_feature(cartopy.feature.LAND)\n",
    "ax.add_feature(cartopy.feature.OCEAN)\n",
    "ax.add_feature(cartopy.feature.COASTLINE)\n",
    "ax.add_feature(cartopy.feature.BORDERS, linestyle=':')\n",
    "ax.add_feature(cartopy.feature.LAKES, alpha=0.9)\n",
    "ax.stock_img()\n",
    "#ax.add_geometries(new_data.geometry,crs=cartopy.crs.PlateCarree())\n",
    "#ax.add_feature(cartopy.feature.RIVERS)\n",
    "mm = ax.pcolormesh(Xx,Yy,means.reshape(Nn,Nn) + (2* np.sqrt(variances).reshape(Nn,Nn)),transform=proj )\n",
    "#cs = plt.contour(Xx,Yy,np.sqrt(variances).reshape(Nn,Nn),linewidths=2,cmap=plt.cm.Greys_r,linestyles='dotted')\n",
    "cs = plt.contour(Xx,Yy,means.reshape(Nn,Nn) + (2 * np.sqrt(variances).reshape(Nn,Nn)),linewidths=2,colors='k',linestyles='dotted',levels=range(1,20))\n",
    "plt.clabel(cs, fontsize=16,inline=True,fmt='%1.1f')\n",
    "#ax.scatter(new_data.lon,new_data.lat,edgecolors='',color='white',alpha=0.6)\n",
    "plt.colorbar(mm)\n",
    "plt.title(\"Predicted Species Richness + 2stdev\")"
   ]
  },
  {
   "cell_type": "markdown",
   "metadata": {},
   "source": [
    "# Predicted means"
   ]
  },
  {
   "cell_type": "code",
   "execution_count": null,
   "metadata": {
    "collapsed": false,
    "scrolled": false
   },
   "outputs": [],
   "source": [
    "#Using k-partition = 7\n",
    "import cartopy\n",
    "plt.figure(figsize=(17,11))\n",
    "\n",
    "proj = cartopy.crs.PlateCarree()\n",
    "ax = plt.subplot(111, projection=proj)\n",
    "\n",
    "\n",
    "ax = plt.axes(projection=proj)\n",
    "#algo = new_data.plot(column='SppN',ax=ax,cmap=colormap,edgecolors='')\n",
    "\n",
    "\n",
    "#ax.set_extent([-93, -70, 30, 50])\n",
    "ax.set_extent([-125, -60, 20, 50])\n",
    "#ax.set_extent([-95, -70, 25, 45])\n",
    "\n",
    "#ax.add_feature(cartopy.feature.LAND)\n",
    "ax.add_feature(cartopy.feature.OCEAN)\n",
    "ax.add_feature(cartopy.feature.COASTLINE)\n",
    "ax.add_feature(cartopy.feature.BORDERS, linestyle=':')\n",
    "ax.add_feature(cartopy.feature.LAKES, alpha=0.9)\n",
    "ax.stock_img()\n",
    "#ax.add_geometries(new_data.geometry,crs=cartopy.crs.PlateCarree())\n",
    "#ax.add_feature(cartopy.feature.RIVERS)\n",
    "mm = ax.pcolormesh(Xx,Yy,means.reshape(Nn,Nn),transform=proj )\n",
    "#cs = plt.contour(Xx,Yy,np.sqrt(variances).reshape(Nn,Nn),linewidths=2,cmap=plt.cm.Greys_r,linestyles='dotted')\n",
    "cs = plt.contour(Xx,Yy,means.reshape(Nn,Nn),linewidths=2,colors='k',linestyles='dotted',levels=range(1,20))\n",
    "plt.clabel(cs, fontsize=16,inline=True,fmt='%1.1f')\n",
    "#ax.scatter(new_data.lon,new_data.lat,edgecolors='',color='white',alpha=0.6)\n",
    "plt.colorbar(mm)\n",
    "plt.title(\"Predicted Species Richness\")\n"
   ]
  },
  {
   "cell_type": "code",
   "execution_count": null,
   "metadata": {
    "collapsed": false
   },
   "outputs": [],
   "source": [
    "#Using k-partition = 7\n",
    "import cartopy\n",
    "plt.figure(figsize=(17,11))\n",
    "\n",
    "proj = cartopy.crs.PlateCarree()\n",
    "ax = plt.subplot(111, projection=proj)\n",
    "\n",
    "\n",
    "ax = plt.axes(projection=proj)\n",
    "#algo = new_data.plot(column='SppN',ax=ax,cmap=colormap,edgecolors='')\n",
    "\n",
    "\n",
    "#ax.set_extent([-93, -70, 30, 50])\n",
    "ax.set_extent([-125, -60, 20, 50])\n",
    "#ax.set_extent([-95, -70, 25, 45])\n",
    "\n",
    "#ax.add_feature(cartopy.feature.LAND)\n",
    "ax.add_feature(cartopy.feature.OCEAN)\n",
    "ax.add_feature(cartopy.feature.COASTLINE)\n",
    "ax.add_feature(cartopy.feature.BORDERS, linestyle=':')\n",
    "ax.add_feature(cartopy.feature.LAKES, alpha=0.9)\n",
    "ax.stock_img()\n",
    "#ax.add_geometries(new_data.geometry,crs=cartopy.crs.PlateCarree())\n",
    "#ax.add_feature(cartopy.feature.RIVERS)\n",
    "mm = ax.pcolormesh(Xx,Yy,means.reshape(Nn,Nn) - (2* np.sqrt(variances).reshape(Nn,Nn)),transform=proj )\n",
    "#cs = plt.contour(Xx,Yy,np.sqrt(variances).reshape(Nn,Nn),linewidths=2,cmap=plt.cm.Greys_r,linestyles='dotted')\n",
    "cs = plt.contour(Xx,Yy,means.reshape(Nn,Nn) - (2 * np.sqrt(variances).reshape(Nn,Nn)),linewidths=2,colors='k',linestyles='dotted',levels=[4.0,5.0,6.0,7.0,8.0])\n",
    "plt.clabel(cs, fontsize=16,inline=True,fmt='%1.1f')\n",
    "#ax.scatter(new_data.lon,new_data.lat,edgecolors='',color='white',alpha=0.6)\n",
    "plt.colorbar(mm)\n",
    "plt.title(\"Predicted Species Richness - 2stdev\")"
   ]
  },
  {
   "cell_type": "markdown",
   "metadata": {},
   "source": [
    "## Model Analysis\n"
   ]
  },
  {
   "cell_type": "code",
   "execution_count": null,
   "metadata": {
    "collapsed": false
   },
   "outputs": [],
   "source": [
    "model.get_parameter_dict()"
   ]
  },
  {
   "cell_type": "markdown",
   "metadata": {},
   "source": [
    "## Let's calculate the residuals"
   ]
  },
  {
   "cell_type": "code",
   "execution_count": null,
   "metadata": {
    "collapsed": false
   },
   "outputs": [],
   "source": [
    "X_ = data[['LON','LAT']]\n",
    "%time Y_hat = model.predict_y(X_)"
   ]
  },
  {
   "cell_type": "code",
   "execution_count": null,
   "metadata": {
    "collapsed": false
   },
   "outputs": [],
   "source": [
    "pred_y = pd.DataFrame(Y_hat[0])\n",
    "var_y = pd.DataFrame(Y_hat[1])"
   ]
  },
  {
   "cell_type": "code",
   "execution_count": null,
   "metadata": {
    "collapsed": false
   },
   "outputs": [],
   "source": [
    "new_data['pred_y'] = pred_y\n",
    "new_data['var_y'] = var_y"
   ]
  },
  {
   "cell_type": "code",
   "execution_count": null,
   "metadata": {
    "collapsed": false
   },
   "outputs": [],
   "source": [
    "new_data= new_data.assign(error=lambda y : (y.SppN - y.pred_y)**2 )"
   ]
  },
  {
   "cell_type": "code",
   "execution_count": null,
   "metadata": {
    "collapsed": false
   },
   "outputs": [],
   "source": [
    "new_data.error.hist(bins=50)"
   ]
  },
  {
   "cell_type": "code",
   "execution_count": null,
   "metadata": {
    "collapsed": false
   },
   "outputs": [],
   "source": [
    "print(new_data.error.mean())\n",
    "print(new_data.error.std())"
   ]
  },
  {
   "cell_type": "markdown",
   "metadata": {},
   "source": [
    "## Experiment\n",
    "In this section we will bring a Raster Data from the US, using Biospytial Raster API. \n",
    "1. First select a polygon, then get A Raster FRom there, say Mean Temperature."
   ]
  },
  {
   "cell_type": "code",
   "execution_count": null,
   "metadata": {
    "collapsed": true
   },
   "outputs": [],
   "source": [
    "import raster_api.tools as rt\n",
    "from raster_api.models import MeanTemperature,ETOPO1,Precipitation,SolarRadiation\n",
    "from sketches.models import Country\n"
   ]
  },
  {
   "cell_type": "code",
   "execution_count": null,
   "metadata": {
    "collapsed": false
   },
   "outputs": [],
   "source": [
    "## Select US\n",
    "us_border = Country.objects.filter(name__contains='United States')[1]"
   ]
  },
  {
   "cell_type": "code",
   "execution_count": null,
   "metadata": {
    "collapsed": false
   },
   "outputs": [],
   "source": [
    "from django.db import close_old_connections"
   ]
  },
  {
   "cell_type": "code",
   "execution_count": null,
   "metadata": {
    "collapsed": false
   },
   "outputs": [],
   "source": [
    "close_old_connections()"
   ]
  },
  {
   "cell_type": "code",
   "execution_count": null,
   "metadata": {
    "collapsed": false
   },
   "outputs": [],
   "source": [
    "#Get Raster API\n",
    "us_meantemp = rt.RasterData(Precipitation,us_border.geom)\n",
    "us_meantemp.getRaster()"
   ]
  },
  {
   "cell_type": "code",
   "execution_count": null,
   "metadata": {
    "collapsed": false
   },
   "outputs": [],
   "source": [
    "us_meantemp.display_field()"
   ]
  },
  {
   "cell_type": "code",
   "execution_count": null,
   "metadata": {
    "collapsed": false
   },
   "outputs": [],
   "source": [
    "%time coords = us_meantemp.getCoordinates()"
   ]
  },
  {
   "cell_type": "code",
   "execution_count": null,
   "metadata": {
    "collapsed": false
   },
   "outputs": [],
   "source": []
  },
  {
   "cell_type": "code",
   "execution_count": null,
   "metadata": {
    "collapsed": true
   },
   "outputs": [],
   "source": []
  }
 ],
 "metadata": {
  "kernelspec": {
   "display_name": "Django Shell-Plus",
   "language": "python",
   "name": "django_extensions"
  },
  "language_info": {
   "codemirror_mode": {
    "name": "ipython",
    "version": 2
   },
   "file_extension": ".py",
   "mimetype": "text/x-python",
   "name": "python",
   "nbconvert_exporter": "python",
   "pygments_lexer": "ipython2",
   "version": "2.7.11"
  }
 },
 "nbformat": 4,
 "nbformat_minor": 0
}
