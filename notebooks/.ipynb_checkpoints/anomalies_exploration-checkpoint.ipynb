{
 "cells": [
  {
   "cell_type": "code",
   "execution_count": 46,
   "metadata": {
    "collapsed": true
   },
   "outputs": [],
   "source": [
    "# Load Biospytial modules and etc.\n",
    "%matplotlib inline\n",
    "import sys\n",
    "sys.path.append('/apps')\n",
    "sys.path.append('..')\n",
    "import django\n",
    "django.setup()\n",
    "import pandas as pd\n",
    "import matplotlib.pyplot as plt\n",
    "import numpy as np\n",
    "## Use the ggplot style\n",
    "plt.style.use('ggplot')\n",
    "import tools"
   ]
  },
  {
   "cell_type": "code",
   "execution_count": 2,
   "metadata": {
    "collapsed": true
   },
   "outputs": [],
   "source": [
    "## Sectionate by coordinates\n",
    "##minx = -85\n",
    "##maxx = -80\n",
    "##miny = 30\n",
    "##maxy = 35\n",
    "\n",
    "\n",
    "### PATH information for running in the Biospytial container\n",
    "#plotdata_path = \"/RawDataCSV/idiv_share/plotsClimateData_11092017.csv\"\n",
    "#empirical_data_path = \"/apps/external_plugins/spystats/HEC_runs/results/logbiomas_logsppn_res.csv\"\n"
   ]
  },
  {
   "cell_type": "code",
   "execution_count": null,
   "metadata": {
    "collapsed": true
   },
   "outputs": [],
   "source": [
    "run ../HEC_runs/fit_fia_logbiomass_logspp_GLS.py /RawDataCSV/idiv_share/plotsClimateData_11092017.csv /apps/external_plugins/spystats/HEC_runs/results/logbiomas_logsppn_res.csv -85 -80 30 35"
   ]
  },
  {
   "cell_type": "markdown",
   "metadata": {},
   "source": [
    "# From here downwards it's the forensic analysis."
   ]
  },
  {
   "cell_type": "code",
   "execution_count": 3,
   "metadata": {
    "collapsed": false
   },
   "outputs": [],
   "source": [
    "from HEC_runs.fit_fia_logbiomass_logspp_GLS import prepareDataFrame, createMaternVariogram, buildSpatialStructure, calculateGLS"
   ]
  },
  {
   "cell_type": "code",
   "execution_count": 4,
   "metadata": {
    "collapsed": false
   },
   "outputs": [
    {
     "name": "stderr",
     "output_type": "stream",
     "text": [
      "/opt/conda/envs/biospytial/lib/python2.7/site-packages/IPython/core/interactiveshell.py:2821: DtypeWarning: Columns (24) have mixed types. Specify dtype option on import or set low_memory=False.\n",
      "  if self.run_code(code, result):\n",
      "INFO:HEC_runs.fit_fia_logbiomass_logspp_GLS:Reprojecting to Alberts equal area\n",
      "INFO:HEC_runs.fit_fia_logbiomass_logspp_GLS:Removing possible duplicates. \n",
      " This avoids problems of Non Positive semidefinite\n"
     ]
    }
   ],
   "source": [
    "new_data = prepareDataFrame(\"/RawDataCSV/idiv_share/plotsClimateData_11092017.csv\")"
   ]
  },
  {
   "cell_type": "code",
   "execution_count": null,
   "metadata": {
    "collapsed": false
   },
   "outputs": [],
   "source": []
  },
  {
   "cell_type": "code",
   "execution_count": 5,
   "metadata": {
    "collapsed": false
   },
   "outputs": [
    {
     "name": "stderr",
     "output_type": "stream",
     "text": [
      "INFO:HEC_runs.fit_fia_logbiomass_logspp_GLS:Reading the empirical Variogram file\n",
      "INFO:HEC_runs.fit_fia_logbiomass_logspp_GLS:Instantiating a Variogram object with the values calculated before\n",
      "INFO:HEC_runs.fit_fia_logbiomass_logspp_GLS:Dropping possible Nans\n",
      "INFO:HEC_runs.fit_fia_logbiomass_logspp_GLS:Instantiating Matern Model...\n",
      "INFO:HEC_runs.fit_fia_logbiomass_logspp_GLS:fitting Matern Model with the empirical variogram\n",
      "../tools.py:519: RuntimeWarning: divide by zero encountered in power\n",
      "  rho_h = a * np.power(b,kappa) * K_v_b\n",
      "/opt/conda/envs/biospytial/lib/python2.7/site-packages/scipy/optimize/minpack.py:690: OptimizeWarning: Covariance of the parameters could not be estimated\n",
      "  category=OptimizeWarning)\n",
      "INFO:HEC_runs.fit_fia_logbiomass_logspp_GLS:Matern Model fitted\n"
     ]
    }
   ],
   "source": [
    "gvg,tt = createMaternVariogram(\"/apps/external_plugins/spystats/HEC_runs/results/logbiomas_logsppn_res.csv\",new_data)"
   ]
  },
  {
   "cell_type": "code",
   "execution_count": 6,
   "metadata": {
    "collapsed": false
   },
   "outputs": [
    {
     "data": {
      "text/plain": [
       "[<matplotlib.lines.Line2D at 0x7fc1ae5e07d0>]"
      ]
     },
     "execution_count": 6,
     "metadata": {},
     "output_type": "execute_result"
    },
    {
     "data": {
      "image/png": "[encoded data removed]",
      "text/plain": [
       "<matplotlib.figure.Figure at 0x7fc1ae893fd0>"
      ]
     },
     "metadata": {},
     "output_type": "display_data"
    }
   ],
   "source": [
    "import numpy as np\n",
    "xx = np.linspace(0,1000000,1000)\n",
    "plt.plot(xx,gvg.model.f(xx))"
   ]
  },
  {
   "cell_type": "code",
   "execution_count": 7,
   "metadata": {
    "collapsed": false
   },
   "outputs": [
    {
     "data": {
      "text/plain": [
       "[<matplotlib.lines.Line2D at 0x7fc1ae53bb90>]"
      ]
     },
     "execution_count": 7,
     "metadata": {},
     "output_type": "execute_result"
    },
    {
     "data": {
      "image/png": "[encoded data removed]",
      "text/plain": [
       "<matplotlib.figure.Figure at 0x7fc1ae53b9d0>"
      ]
     },
     "metadata": {},
     "output_type": "display_data"
    }
   ],
   "source": [
    "gvg.plot(refresh=False)\n",
    "plt.plot(xx,gvg.model.f(xx))"
   ]
  },
  {
   "cell_type": "code",
   "execution_count": 8,
   "metadata": {
    "collapsed": false
   },
   "outputs": [
    {
     "data": {
      "text/plain": [
       "tools.MaternVariogram"
      ]
     },
     "execution_count": 8,
     "metadata": {},
     "output_type": "execute_result"
    }
   ],
   "source": [
    "type(gvg.model)"
   ]
  },
  {
   "cell_type": "code",
   "execution_count": 9,
   "metadata": {
    "collapsed": false
   },
   "outputs": [],
   "source": [
    "matern_model = tools.MaternVariogram(sill=0.34,range_a=100000,nugget=0.0,kappa=0.5)\n",
    "whittle_model = tools.WhittleVariogram(sill=0.34,range_a=100000,nugget=0.0,alpha=3)"
   ]
  },
  {
   "cell_type": "code",
   "execution_count": 10,
   "metadata": {
    "collapsed": false
   },
   "outputs": [
    {
     "data": {
      "text/plain": [
       "[<matplotlib.lines.Line2D at 0x7fc1ae3d8690>]"
      ]
     },
     "execution_count": 10,
     "metadata": {},
     "output_type": "execute_result"
    },
    {
     "data": {
      "image/png": "[encoded data removed]",
      "text/plain": [
       "<matplotlib.figure.Figure at 0x7fc1ae459490>"
      ]
     },
     "metadata": {},
     "output_type": "display_data"
    }
   ],
   "source": [
    "plt.plot(xx,whittle_model.f(xx))"
   ]
  },
  {
   "cell_type": "code",
   "execution_count": 11,
   "metadata": {
    "collapsed": false
   },
   "outputs": [],
   "source": [
    "gvg.model = whittle_model\n"
   ]
  },
  {
   "cell_type": "code",
   "execution_count": 12,
   "metadata": {
    "collapsed": false
   },
   "outputs": [
    {
     "name": "stderr",
     "output_type": "stream",
     "text": [
      "../tools.py:549: RuntimeWarning: divide by zero encountered in power\n",
      "  g_h = ((sill - nugget)*(1 - np.exp(-(h**alpha / range_a**alpha)))) + nugget*Ih\n"
     ]
    },
    {
     "data": {
      "text/plain": [
       "< Whittle Variogram : sill 0.340274656891, range 41061.6971399, nugget 0.329817414704, alpha1.12113685018 >"
      ]
     },
     "execution_count": 12,
     "metadata": {},
     "output_type": "execute_result"
    }
   ],
   "source": [
    "gvg.fitVariogramModel(whittle_model)"
   ]
  },
  {
   "cell_type": "code",
   "execution_count": 13,
   "metadata": {
    "collapsed": false
   },
   "outputs": [
    {
     "data": {
      "text/plain": [
       "[<matplotlib.lines.Line2D at 0x7fc1ae502d10>]"
      ]
     },
     "execution_count": 13,
     "metadata": {},
     "output_type": "execute_result"
    },
    {
     "data": {
      "image/png": "[encoded data removed]",
      "text/plain": [
       "<matplotlib.figure.Figure at 0x7fc1adafb210>"
      ]
     },
     "metadata": {},
     "output_type": "display_data"
    }
   ],
   "source": [
    "gvg.plot(refresh=False)\n",
    "plt.plot(xx,gvg.model.f(xx))"
   ]
  },
  {
   "cell_type": "code",
   "execution_count": 14,
   "metadata": {
    "collapsed": false
   },
   "outputs": [
    {
     "data": {
      "text/plain": [
       "[<matplotlib.lines.Line2D at 0x7fc1ae2140d0>]"
      ]
     },
     "execution_count": 14,
     "metadata": {},
     "output_type": "execute_result"
    },
    {
     "data": {
      "image/png": "[encoded data removed]",
      "text/plain": [
       "<matplotlib.figure.Figure at 0x7fc1ae28d450>"
      ]
     },
     "metadata": {},
     "output_type": "display_data"
    }
   ],
   "source": [
    "plt.plot(xx,gvg.model.corr_f(xx))"
   ]
  },
  {
   "cell_type": "code",
   "execution_count": 15,
   "metadata": {
    "collapsed": true
   },
   "outputs": [],
   "source": [
    "expm = tools.ExponentialVariogram(sill=0.34,range_a=100000,nugget=0.2)"
   ]
  },
  {
   "cell_type": "code",
   "execution_count": 16,
   "metadata": {
    "collapsed": false
   },
   "outputs": [
    {
     "data": {
      "image/png": "[encoded data removed]",
      "text/plain": [
       "<matplotlib.figure.Figure at 0x7fc1ae2c3b10>"
      ]
     },
     "metadata": {},
     "output_type": "display_data"
    }
   ],
   "source": [
    "plt.plot(xx,expm.f(xx))\n",
    "y = expm.f(xx)"
   ]
  },
  {
   "cell_type": "code",
   "execution_count": 17,
   "metadata": {
    "collapsed": false
   },
   "outputs": [
    {
     "data": {
      "text/plain": [
       "[<matplotlib.lines.Line2D at 0x7fc1ae07bc50>]"
      ]
     },
     "execution_count": 17,
     "metadata": {},
     "output_type": "execute_result"
    },
    {
     "data": {
      "image/png": "[encoded data removed]",
      "text/plain": [
       "<matplotlib.figure.Figure at 0x7fc1ae153210>"
      ]
     },
     "metadata": {},
     "output_type": "display_data"
    }
   ],
   "source": [
    "plt.plot(xx,(expm.corr_f(xx)))"
   ]
  },
  {
   "cell_type": "code",
   "execution_count": 18,
   "metadata": {
    "collapsed": true
   },
   "outputs": [],
   "source": [
    "def randomSelection(n,p):\n",
    "    idxs = np.random.choice(n,p,replace=True)\n",
    "    random_sample = new_data.iloc[idxs]\n",
    "    return random_sample\n",
    "#################\n",
    "n = len(new_data)\n",
    "p = 3000 # The amount of samples taken (let's do it without replacement)"
   ]
  },
  {
   "cell_type": "code",
   "execution_count": 31,
   "metadata": {
    "collapsed": true
   },
   "outputs": [],
   "source": [
    "random_sample = randomSelection(n,100)"
   ]
  },
  {
   "cell_type": "code",
   "execution_count": 32,
   "metadata": {
    "collapsed": false
   },
   "outputs": [
    {
     "data": {
      "text/plain": [
       "(100, 46)"
      ]
     },
     "execution_count": 32,
     "metadata": {},
     "output_type": "execute_result"
    }
   ],
   "source": [
    "random_sample.shape"
   ]
  },
  {
   "cell_type": "code",
   "execution_count": 33,
   "metadata": {
    "collapsed": true
   },
   "outputs": [],
   "source": [
    "secvg = tools.Variogram(random_sample,'logBiomass',model=whittle_model)"
   ]
  },
  {
   "cell_type": "code",
   "execution_count": 34,
   "metadata": {
    "collapsed": false
   },
   "outputs": [],
   "source": [
    "Mdist = secvg.distance_coordinates"
   ]
  },
  {
   "cell_type": "code",
   "execution_count": 35,
   "metadata": {
    "collapsed": false
   },
   "outputs": [
    {
     "data": {
      "text/plain": [
       "(100, 100)"
      ]
     },
     "execution_count": 35,
     "metadata": {},
     "output_type": "execute_result"
    }
   ],
   "source": [
    "Mdist.shape"
   ]
  },
  {
   "cell_type": "code",
   "execution_count": 37,
   "metadata": {
    "collapsed": false
   },
   "outputs": [],
   "source": [
    "cc = gvg.model.calculateCovarianceMatrixWith(Mdist)"
   ]
  },
  {
   "cell_type": "code",
   "execution_count": 40,
   "metadata": {
    "collapsed": false
   },
   "outputs": [
    {
     "data": {
      "text/plain": [
       "(100, 100)"
      ]
     },
     "execution_count": 40,
     "metadata": {},
     "output_type": "execute_result"
    }
   ],
   "source": [
    "cc.shape"
   ]
  },
  {
   "cell_type": "code",
   "execution_count": 41,
   "metadata": {
    "collapsed": false
   },
   "outputs": [
    {
     "data": {
      "text/plain": [
       "array([[  5.83330658e-01,   0.00000000e+00,   0.00000000e+00, ...,\n",
       "          0.00000000e+00,   0.00000000e+00,   0.00000000e+00],\n",
       "       [  0.00000000e+00,   5.83330658e-01,   0.00000000e+00, ...,\n",
       "          0.00000000e+00,   0.00000000e+00,   0.00000000e+00],\n",
       "       [  0.00000000e+00,   0.00000000e+00,   5.83330658e-01, ...,\n",
       "          0.00000000e+00,   0.00000000e+00,   0.00000000e+00],\n",
       "       ..., \n",
       "       [  0.00000000e+00,   0.00000000e+00,   0.00000000e+00, ...,\n",
       "          5.83297874e-01,   0.00000000e+00,   0.00000000e+00],\n",
       "       [  0.00000000e+00,   0.00000000e+00,   7.22159481e-04, ...,\n",
       "         -9.68531415e-19,   5.83328858e-01,   0.00000000e+00],\n",
       "       [  0.00000000e+00,   0.00000000e+00,   0.00000000e+00, ...,\n",
       "         -2.82444674e-49,   5.89703577e-36,   5.83330653e-01]])"
      ]
     },
     "execution_count": 41,
     "metadata": {},
     "output_type": "execute_result"
    }
   ],
   "source": [
    "np.linalg.cholesky(cc)"
   ]
  },
  {
   "cell_type": "code",
   "execution_count": 43,
   "metadata": {
    "collapsed": false
   },
   "outputs": [
    {
     "data": {
      "text/plain": [
       "array([ 0.34027466,  0.34027466,  0.34027466,  0.34027466,  0.34027466,\n",
       "        0.34027466,  0.34027466,  0.34027466,  0.34027466,  0.34027466,\n",
       "        0.34027466,  0.34027466,  0.34027466,  0.34027466,  0.34027466,\n",
       "        0.34027466,  0.34027466,  0.34027466,  0.34027466,  0.34027466,\n",
       "        0.34027466,  0.34027466,  0.34027466,  0.34027466,  0.34027466,\n",
       "        0.34027466,  0.34027466,  0.34027466,  0.34027466,  0.34027466,\n",
       "        0.34027466,  0.34027466,  0.34027466,  0.34027466,  0.34027466,\n",
       "        0.34027466,  0.34027466,  0.34027466,  0.34027466,  0.34027466,\n",
       "        0.34027466,  0.34027466,  0.34027466,  0.34027466,  0.34027466,\n",
       "        0.34027466,  0.34027466,  0.34027466,  0.34027466,  0.34027466,\n",
       "        0.34027466,  0.34027466,  0.34027466,  0.34027466,  0.34027466,\n",
       "        0.34027466,  0.34027466,  0.34027466,  0.34027466,  0.34027466,\n",
       "        0.34027466,  0.34027466,  0.34027466,  0.34027466,  0.34027466,\n",
       "        0.34027466,  0.34027466,  0.34027466,  0.34027466,  0.34027466,\n",
       "        0.34027466,  0.34027466,  0.34027466,  0.34027466,  0.34027466,\n",
       "        0.34027466,  0.34027466,  0.34027466,  0.34027466,  0.34027466,\n",
       "        0.34027466,  0.34027466,  0.34027466,  0.34027466,  0.34027466,\n",
       "        0.34027466,  0.34027466,  0.34027466,  0.34027466,  0.34027466,\n",
       "        0.34027466,  0.34027466,  0.34027466,  0.34027466,  0.34027466,\n",
       "        0.34027466,  0.34027466,  0.34027466,  0.34027466,  0.34027466])"
      ]
     },
     "execution_count": 43,
     "metadata": {},
     "output_type": "execute_result"
    }
   ],
   "source": [
    "cc.diagonal()"
   ]
  },
  {
   "cell_type": "code",
   "execution_count": 45,
   "metadata": {
    "collapsed": false
   },
   "outputs": [
    {
     "name": "stderr",
     "output_type": "stream",
     "text": [
      "INFO:HEC_runs.fit_fia_logbiomass_logspp_GLS:Fitting linear model using GLS\n"
     ]
    },
    {
     "data": {
      "text/plain": [
       "(<statsmodels.regression.linear_model.RegressionResultsWrapper at 0x7fc17f62e150>,\n",
       " <class 'statsmodels.iolib.summary.Summary'>\n",
       " \"\"\"\n",
       "                             GLS Regression Results                            \n",
       " ==============================================================================\n",
       " Dep. Variable:             logBiomass   R-squared:                       0.148\n",
       " Model:                            GLS   Adj. R-squared:                  0.139\n",
       " Method:                 Least Squares   F-statistic:                     17.01\n",
       " Date:                Tue, 16 Jan 2018   Prob (F-statistic):           7.80e-05\n",
       " Time:                        16:05:49   Log-Likelihood:                -87.947\n",
       " No. Observations:                 100   AIC:                             179.9\n",
       " Df Residuals:                      98   BIC:                             185.1\n",
       " Df Model:                           1                                         \n",
       " Covariance Type:            nonrobust                                         \n",
       " ==============================================================================\n",
       "                  coef    std err          t      P>|t|      [95.0% Conf. Int.]\n",
       " ------------------------------------------------------------------------------\n",
       " Intercept      8.6483      0.137     63.232      0.000         8.377     8.920\n",
       " logSppN        0.3101      0.087      3.551      0.001         0.137     0.483\n",
       " ==============================================================================\n",
       " Omnibus:                        2.849   Durbin-Watson:                   1.820\n",
       " Prob(Omnibus):                  0.241   Jarque-Bera (JB):                2.486\n",
       " Skew:                          -0.385   Prob(JB):                        0.289\n",
       " Kurtosis:                       3.060   Cond. No.                         4.89\n",
       " ==============================================================================\n",
       " \n",
       " Warnings:\n",
       " [1] Standard Errors assume that the covariance matrix of the errors is correctly specified.\n",
       " \"\"\")"
      ]
     },
     "execution_count": 45,
     "metadata": {},
     "output_type": "execute_result"
    }
   ],
   "source": [
    "calculateGLS(random_sample,cc)"
   ]
  },
  {
   "cell_type": "code",
   "execution_count": null,
   "metadata": {
    "collapsed": true
   },
   "outputs": [],
   "source": []
  }
 ],
 "metadata": {
  "kernelspec": {
   "display_name": "Django Shell-Plus",
   "language": "python",
   "name": "django_extensions"
  },
  "language_info": {
   "codemirror_mode": {
    "name": "ipython",
    "version": 2
   },
   "file_extension": ".py",
   "mimetype": "text/x-python",
   "name": "python",
   "nbconvert_exporter": "python",
   "pygments_lexer": "ipython2",
   "version": "2.7.11"
  }
 },
 "nbformat": 4,
 "nbformat_minor": 0
}
