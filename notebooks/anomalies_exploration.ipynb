{
 "cells": [
  {
   "cell_type": "code",
   "execution_count": 1,
   "metadata": {
    "collapsed": true
   },
   "outputs": [],
   "source": [
    "# Load Biospytial modules and etc.\n",
    "%matplotlib inline\n",
    "import sys\n",
    "sys.path.append('/apps')\n",
    "import django\n",
    "django.setup()\n",
    "import pandas as pd\n",
    "import matplotlib.pyplot as plt\n",
    "import numpy as np\n",
    "## Use the ggplot style\n",
    "plt.style.use('ggplot')"
   ]
  },
  {
   "cell_type": "code",
   "execution_count": null,
   "metadata": {
    "collapsed": true
   },
   "outputs": [],
   "source": [
    "## Sectionate by coordinates\n",
    "##minx = -85\n",
    "##maxx = -80\n",
    "##miny = 30\n",
    "##maxy = 35\n",
    "\n",
    "\n",
    "### PATH information for running in the Biospytial container\n",
    "#plotdata_path = \"/RawDataCSV/idiv_share/plotsClimateData_11092017.csv\"\n",
    "#empirical_data_path = \"/apps/external_plugins/spystats/HEC_runs/results/logbiomas_logsppn_res.csv\"\n"
   ]
  },
  {
   "cell_type": "code",
   "execution_count": 2,
   "metadata": {
    "collapsed": false
   },
   "outputs": [
    {
     "name": "stderr",
     "output_type": "stream",
     "text": [
      "/opt/conda/envs/biospytial/lib/python2.7/site-packages/IPython/core/interactiveshell.py:2481: DtypeWarning: Columns (24) have mixed types. Specify dtype option on import or set low_memory=False.\n",
      "  self.compile if kw['shell_futures'] else None)\n",
      "INFO:__main__:Reprojecting to Alberts equal area\n",
      "INFO:__main__:Fitting OLS linear model: logBiomass ~ logSppN \n",
      "INFO:__main__:Removing possible duplicates. \n",
      " This avoids problems of Non Positive semidefinite\n",
      "INFO:__main__:Reading the empirical Variogram file\n",
      "INFO:__main__:Instantiating a Variogram object with the values calculated before\n",
      "INFO:__main__:Dropping possible Nans\n",
      "INFO:__main__:Instantiating Matern Model...\n",
      "INFO:__main__:fitting Matern Model with the empirical variogram\n",
      "../tools.py:510: RuntimeWarning: divide by zero encountered in power\n",
      "  rho_h = a * np.power(b,kappa) * K_v_b\n",
      "/opt/conda/envs/biospytial/lib/python2.7/site-packages/scipy/optimize/minpack.py:690: OptimizeWarning: Covariance of the parameters could not be estimated\n",
      "  category=OptimizeWarning)\n",
      "INFO:__main__:Matern Model fitted\n",
      "INFO:__main__:Subselecting Region\n",
      "INFO:__main__:Calculating Distance Matrix\n",
      "INFO:__main__:Calculating Correlation based on theoretical model\n",
      "INFO:__main__:Fitting linear model using GLS\n",
      "INFO:__main__:Writing to file\n",
      "INFO:__main__:Finished! Results in: tests1.csv\n"
     ]
    }
   ],
   "source": [
    "run ../HEC_runs/fit_fia_logbiomass_logspp_GLS.py /RawDataCSV/idiv_share/plotsClimateData_11092017.csv /apps/external_plugins/spystats/HEC_runs/results/logbiomas_logsppn_res.csv -85 -80 30 35"
   ]
  },
  {
   "cell_type": "code",
   "execution_count": 4,
   "metadata": {
    "collapsed": false
   },
   "outputs": [],
   "source": [
    "data = results['dataframe']"
   ]
  },
  {
   "cell_type": "code",
   "execution_count": 5,
   "metadata": {
    "collapsed": false
   },
   "outputs": [
    {
     "data": {
      "text/plain": [
       "(36844, 47)"
      ]
     },
     "execution_count": 5,
     "metadata": {},
     "output_type": "execute_result"
    }
   ],
   "source": [
    "data.shape"
   ]
  },
  {
   "cell_type": "code",
   "execution_count": 6,
   "metadata": {
    "collapsed": false
   },
   "outputs": [
    {
     "data": {
      "text/plain": [
       "Index([    u'Unnamed: 0',        u'STATECD',        u'STATENM',\n",
       "              u'STATEAB',       u'COUNTYCD',           u'PLOT',\n",
       "              u'PLOT_ID',        u'PlotIDn',            u'LAT',\n",
       "                  u'LON',          u'INVYR',      u'N_subplot',\n",
       "             u'StandAge',    u'treeDensity',         u'plotBA',\n",
       "          u'plotBiomass',           u'SppN',       u'ECO_ID_U',\n",
       "             u'ECO_CODE',       u'ECO_NAME',        u'ECO_NUM',\n",
       "           u'ECODE_NAME',       u'CLS_CODE',      u'ECO_NOTES',\n",
       "            u'WWF_REALM',     u'WWF_REALM2',     u'WWF_MHTNUM',\n",
       "           u'WWF_MHTNAM',       u'RealmMHT',      u'ER_UPDATE',\n",
       "            u'ER_DATE_U',      u'ER_RATION',     u'SOURCEDATA',\n",
       "                 u'ECOR', u'AnnualMeanPrec',     u'TempSeason',\n",
       "           u'AnnualPrec',     u'PrecSeason',            u'AET',\n",
       "                  u'lon',            u'lat',       u'geometry',\n",
       "           u'logBiomass',         u'newLon',         u'newLat',\n",
       "              u'logSppN',      u'residuals'],\n",
       "      dtype='object')"
      ]
     },
     "execution_count": 6,
     "metadata": {},
     "output_type": "execute_result"
    }
   ],
   "source": [
    "data.columns"
   ]
  },
  {
   "cell_type": "code",
   "execution_count": 8,
   "metadata": {
    "collapsed": false
   },
   "outputs": [
    {
     "name": "stdout",
     "output_type": "stream",
     "text": [
      "/outputs\n"
     ]
    }
   ],
   "source": [
    "cd /outputs/\n"
   ]
  },
  {
   "cell_type": "code",
   "execution_count": 9,
   "metadata": {
    "collapsed": false
   },
   "outputs": [
    {
     "name": "stdout",
     "output_type": "stream",
     "text": [
      "My_first_GaussianSim.png      covariance_mat_gp1.png  \u001b[0m\u001b[01;34midiv_scenarios\u001b[0m/\r\n",
      "bursera_sampling_100_env.csv  gt_tree.png\r\n"
     ]
    }
   ],
   "source": [
    "ls"
   ]
  },
  {
   "cell_type": "code",
   "execution_count": 11,
   "metadata": {
    "collapsed": false
   },
   "outputs": [],
   "source": [
    "data.to_csv(\"reproj_plotsClimateData_11092017.csv\")"
   ]
  },
  {
   "cell_type": "code",
   "execution_count": null,
   "metadata": {
    "collapsed": true
   },
   "outputs": [],
   "source": []
  }
 ],
 "metadata": {
  "kernelspec": {
   "display_name": "Django Shell-Plus",
   "language": "python",
   "name": "django_extensions"
  },
  "language_info": {
   "codemirror_mode": {
    "name": "ipython",
    "version": 2
   },
   "file_extension": ".py",
   "mimetype": "text/x-python",
   "name": "python",
   "nbconvert_exporter": "python",
   "pygments_lexer": "ipython2",
   "version": "2.7.11"
  }
 },
 "nbformat": 4,
 "nbformat_minor": 0
}
