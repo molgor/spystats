{
 "cells": [
  {
   "cell_type": "markdown",
   "metadata": {},
   "source": [
    "\n",
    "# Here I'm process by chunks the entire region."
   ]
  },
  {
   "cell_type": "code",
   "execution_count": 1,
   "metadata": {
    "collapsed": true
   },
   "outputs": [],
   "source": [
    "# Load Biospytial modules and etc.\n",
    "%matplotlib inline\n",
    "import sys\n",
    "sys.path.append('/apps')\n",
    "import django\n",
    "django.setup()\n",
    "import pandas as pd\n",
    "import numpy as np\n",
    "import matplotlib.pyplot as plt\n",
    "## Use the ggplot style\n",
    "plt.style.use('ggplot')"
   ]
  },
  {
   "cell_type": "code",
   "execution_count": 2,
   "metadata": {
    "collapsed": false
   },
   "outputs": [
    {
     "name": "stderr",
     "output_type": "stream",
     "text": [
      "/opt/conda/envs/biospytial/lib/python2.7/site-packages/IPython/core/pylabtools.py:168: DtypeWarning: Columns (24) have mixed types. Specify dtype option on import or set low_memory=False.\n",
      "  safe_execfile(fname,*where,**kw)\n"
     ]
    }
   ],
   "source": [
    "from external_plugins.spystats import tools\n",
    "%run ../testvariogram.py"
   ]
  },
  {
   "cell_type": "code",
   "execution_count": 3,
   "metadata": {
    "collapsed": false
   },
   "outputs": [
    {
     "data": {
      "text/plain": [
       "(1841, 46)"
      ]
     },
     "execution_count": 3,
     "metadata": {},
     "output_type": "execute_result"
    }
   ],
   "source": [
    "section.shape"
   ]
  },
  {
   "cell_type": "markdown",
   "metadata": {},
   "source": [
    "## Algorithm for processing Chunks\n",
    "1. Make a partition given the extent\n",
    "2. Produce a tuple (minx ,maxx,miny,maxy) for each element on the partition\n",
    "3. Calculate the semivariogram for each chunk and save it in a dataframe\n",
    "4. Plot Everything\n",
    "5. Do the same with a mMatern Kernel"
   ]
  },
  {
   "cell_type": "code",
   "execution_count": 4,
   "metadata": {
    "collapsed": false
   },
   "outputs": [],
   "source": [
    "minx,maxx,miny,maxy = getExtent(new_data)"
   ]
  },
  {
   "cell_type": "code",
   "execution_count": 5,
   "metadata": {
    "collapsed": false
   },
   "outputs": [
    {
     "data": {
      "text/plain": [
       "1556957.5046647713"
      ]
     },
     "execution_count": 5,
     "metadata": {},
     "output_type": "execute_result"
    }
   ],
   "source": [
    "maxy"
   ]
  },
  {
   "cell_type": "code",
   "execution_count": 6,
   "metadata": {
    "collapsed": true
   },
   "outputs": [],
   "source": [
    "## Let's build the partition\n",
    "N = 30\n",
    "xp,dx = np.linspace(minx,maxx,N,retstep=True)\n",
    "yp,dy = np.linspace(miny,maxy,N,retstep=True)\n"
   ]
  },
  {
   "cell_type": "code",
   "execution_count": 7,
   "metadata": {
    "collapsed": false
   },
   "outputs": [],
   "source": [
    "xx,yy = np.meshgrid(xp,yp)"
   ]
  },
  {
   "cell_type": "code",
   "execution_count": 8,
   "metadata": {
    "collapsed": false
   },
   "outputs": [],
   "source": [
    "coordinates_list = [ (xx[i][j],yy[i][j]) for i in range(N) for j in range(N)]"
   ]
  },
  {
   "cell_type": "code",
   "execution_count": 9,
   "metadata": {
    "collapsed": false
   },
   "outputs": [],
   "source": [
    "from functools import partial\n",
    "tuples = map(lambda (x,y) : partial(getExtentFromPoint,x,y,step_sizex=dx,step_sizey=dy)(),coordinates_list)"
   ]
  },
  {
   "cell_type": "code",
   "execution_count": 10,
   "metadata": {
    "collapsed": false
   },
   "outputs": [
    {
     "data": {
      "text/plain": [
       "900"
      ]
     },
     "execution_count": 10,
     "metadata": {},
     "output_type": "execute_result"
    }
   ],
   "source": [
    "len(tuples)"
   ]
  },
  {
   "cell_type": "code",
   "execution_count": 11,
   "metadata": {
    "collapsed": false
   },
   "outputs": [],
   "source": [
    "chunks = map(lambda (mx,Mx,my,My) : subselectDataFrameByCoordinates(new_data,'newLon','newLat',mx,Mx,my,My),tuples)"
   ]
  },
  {
   "cell_type": "code",
   "execution_count": 12,
   "metadata": {
    "collapsed": false
   },
   "outputs": [
    {
     "data": {
      "text/plain": [
       "900"
      ]
     },
     "execution_count": 12,
     "metadata": {},
     "output_type": "execute_result"
    }
   ],
   "source": [
    "len(chunks)"
   ]
  },
  {
   "cell_type": "code",
   "execution_count": 13,
   "metadata": {
    "collapsed": false
   },
   "outputs": [],
   "source": [
    "## Here we can filter based on a threshold\n",
    "threshold = 10\n",
    "chunks_non_empty = filter(lambda df : df.shape[0] > threshold ,chunks)"
   ]
  },
  {
   "cell_type": "code",
   "execution_count": 14,
   "metadata": {
    "collapsed": false
   },
   "outputs": [
    {
     "data": {
      "text/plain": [
       "372"
      ]
     },
     "execution_count": 14,
     "metadata": {},
     "output_type": "execute_result"
    }
   ],
   "source": [
    "len(chunks_non_empty)"
   ]
  },
  {
   "cell_type": "code",
   "execution_count": 15,
   "metadata": {
    "collapsed": false
   },
   "outputs": [],
   "source": [
    "lengths = pd.Series(map(lambda ch : ch.shape[0],chunks_non_empty))"
   ]
  },
  {
   "cell_type": "code",
   "execution_count": 16,
   "metadata": {
    "collapsed": false
   },
   "outputs": [
    {
     "data": {
      "text/plain": [
       "<matplotlib.axes._subplots.AxesSubplot at 0x7f1ca1aaf6d0>"
      ]
     },
     "execution_count": 16,
     "metadata": {},
     "output_type": "execute_result"
    },
    {
     "data": {
      "image/png": "[encoded data removed]",
      "text/plain": [
       "<matplotlib.figure.Figure at 0x7f1ca47f8c10>"
      ]
     },
     "metadata": {},
     "output_type": "display_data"
    }
   ],
   "source": [
    "lengths.plot.hist()"
   ]
  },
  {
   "cell_type": "code",
   "execution_count": 59,
   "metadata": {
    "collapsed": false
   },
   "outputs": [],
   "source": [
    "variograms =map(lambda chunk : tools.Variogram(chunk,'residuals1',using_distance_threshold=200000),chunks_non_empty[:30])"
   ]
  },
  {
   "cell_type": "code",
   "execution_count": 60,
   "metadata": {
    "collapsed": false
   },
   "outputs": [],
   "source": [
    "vars = map(lambda v : v.calculateEmpirical(),variograms)\n",
    "vars = map(lambda v : v.calculateEnvelope(num_iterations=50),variograms)"
   ]
  },
  {
   "cell_type": "markdown",
   "metadata": {
    "collapsed": true
   },
   "source": [
    "## Take an average of the empirical variograms also with the envelope. \n",
    "### We will use the group by directive on the field lags\n"
   ]
  },
  {
   "cell_type": "code",
   "execution_count": 118,
   "metadata": {
    "collapsed": false
   },
   "outputs": [],
   "source": [
    "envslow = pd.concat(map(lambda df : df[['envlow']],vars),axis=1)\n",
    "envhigh = pd.concat(map(lambda df : df[['envhigh']],vars),axis=1)\n",
    "variogram = pd.concat(map(lambda df : df[['variogram']],vars),axis=1)"
   ]
  },
  {
   "cell_type": "code",
   "execution_count": 119,
   "metadata": {
    "collapsed": false
   },
   "outputs": [],
   "source": [
    "lags = vars[0][['lags']]"
   ]
  },
  {
   "cell_type": "code",
   "execution_count": 120,
   "metadata": {
    "collapsed": false
   },
   "outputs": [],
   "source": [
    "meanlow = list(envslow.apply(lambda row : np.mean(row),axis=1))\n",
    "meanhigh = list(envhigh.apply(np.mean,axis=1))\n",
    "meanvariogram = list(variogram.apply(np.mean,axis=1))\n",
    "results = pd.DataFrame({'meanvariogram':meanvariogram,'meanlow':meanlow,'meanhigh':meanhigh})"
   ]
  },
  {
   "cell_type": "code",
   "execution_count": 121,
   "metadata": {
    "collapsed": false
   },
   "outputs": [],
   "source": [
    "result_envelope = pd.concat([lags,results],axis=1)"
   ]
  },
  {
   "cell_type": "code",
   "execution_count": 110,
   "metadata": {
    "collapsed": false
   },
   "outputs": [],
   "source": [
    "meanvg = tools.Variogram(section,'residuals1')"
   ]
  },
  {
   "cell_type": "code",
   "execution_count": 111,
   "metadata": {
    "collapsed": false
   },
   "outputs": [
    {
     "data": {
      "image/png": "[encoded data removed]",
      "text/plain": [
       "<matplotlib.figure.Figure at 0x7f1ca15ef850>"
      ]
     },
     "metadata": {},
     "output_type": "display_data"
    }
   ],
   "source": [
    "meanvg.plot()"
   ]
  },
  {
   "cell_type": "code",
   "execution_count": 113,
   "metadata": {
    "collapsed": false
   },
   "outputs": [
    {
     "data": {
      "text/plain": [
       "Index([u'envhigh', u'envlow', u'lags', u'variogram'], dtype='object')"
      ]
     },
     "execution_count": 113,
     "metadata": {},
     "output_type": "execute_result"
    }
   ],
   "source": [
    "meanvg.envelope.columns"
   ]
  },
  {
   "cell_type": "code",
   "execution_count": 122,
   "metadata": {
    "collapsed": false
   },
   "outputs": [
    {
     "data": {
      "text/plain": [
       "Index([u'lags', u'meanhigh', u'meanlow', u'meanvariogram'], dtype='object')"
      ]
     },
     "execution_count": 122,
     "metadata": {},
     "output_type": "execute_result"
    }
   ],
   "source": [
    "result_envelope.columns"
   ]
  },
  {
   "cell_type": "code",
   "execution_count": 123,
   "metadata": {
    "collapsed": true
   },
   "outputs": [],
   "source": [
    "result_envelope.columns = ['lags','envhigh','envlow','variogram']"
   ]
  },
  {
   "cell_type": "code",
   "execution_count": 124,
   "metadata": {
    "collapsed": true
   },
   "outputs": [],
   "source": [
    "meanvg.envelope = result_envelope"
   ]
  },
  {
   "cell_type": "code",
   "execution_count": 129,
   "metadata": {
    "collapsed": false
   },
   "outputs": [
    {
     "data": {
      "image/png": "[encoded data removed]",
      "text/plain": [
       "<matplotlib.figure.Figure at 0x7f1ca12aa310>"
      ]
     },
     "metadata": {},
     "output_type": "display_data"
    }
   ],
   "source": [
    "meanvg.plot(refresh=False)"
   ]
  },
  {
   "cell_type": "code",
   "execution_count": 127,
   "metadata": {
    "collapsed": false
   },
   "outputs": [
    {
     "data": {
      "text/html": [
       "<div>\n",
       "<table border=\"1\" class=\"dataframe\">\n",
       "  <thead>\n",
       "    <tr style=\"text-align: right;\">\n",
       "      <th></th>\n",
       "      <th>lags</th>\n",
       "      <th>envhigh</th>\n",
       "      <th>envlow</th>\n",
       "      <th>variogram</th>\n",
       "    </tr>\n",
       "  </thead>\n",
       "  <tbody>\n",
       "    <tr>\n",
       "      <th>0</th>\n",
       "      <td>0.000000</td>\n",
       "      <td>0.493957</td>\n",
       "      <td>0.232742</td>\n",
       "      <td>0.319624</td>\n",
       "    </tr>\n",
       "    <tr>\n",
       "      <th>1</th>\n",
       "      <td>4489.795918</td>\n",
       "      <td>0.482763</td>\n",
       "      <td>0.261160</td>\n",
       "      <td>0.305599</td>\n",
       "    </tr>\n",
       "    <tr>\n",
       "      <th>2</th>\n",
       "      <td>8979.591837</td>\n",
       "      <td>0.481754</td>\n",
       "      <td>0.259424</td>\n",
       "      <td>0.337892</td>\n",
       "    </tr>\n",
       "    <tr>\n",
       "      <th>3</th>\n",
       "      <td>13469.387755</td>\n",
       "      <td>0.437602</td>\n",
       "      <td>0.286370</td>\n",
       "      <td>0.352717</td>\n",
       "    </tr>\n",
       "    <tr>\n",
       "      <th>4</th>\n",
       "      <td>17959.183673</td>\n",
       "      <td>0.451231</td>\n",
       "      <td>0.285533</td>\n",
       "      <td>0.356507</td>\n",
       "    </tr>\n",
       "    <tr>\n",
       "      <th>5</th>\n",
       "      <td>22448.979592</td>\n",
       "      <td>0.441574</td>\n",
       "      <td>0.283620</td>\n",
       "      <td>0.359633</td>\n",
       "    </tr>\n",
       "    <tr>\n",
       "      <th>6</th>\n",
       "      <td>26938.775510</td>\n",
       "      <td>0.456625</td>\n",
       "      <td>0.272039</td>\n",
       "      <td>0.335856</td>\n",
       "    </tr>\n",
       "    <tr>\n",
       "      <th>7</th>\n",
       "      <td>31428.571429</td>\n",
       "      <td>0.445692</td>\n",
       "      <td>0.288721</td>\n",
       "      <td>0.376069</td>\n",
       "    </tr>\n",
       "    <tr>\n",
       "      <th>8</th>\n",
       "      <td>35918.367347</td>\n",
       "      <td>0.430606</td>\n",
       "      <td>0.293097</td>\n",
       "      <td>0.373970</td>\n",
       "    </tr>\n",
       "    <tr>\n",
       "      <th>9</th>\n",
       "      <td>40408.163265</td>\n",
       "      <td>0.445407</td>\n",
       "      <td>0.286467</td>\n",
       "      <td>0.391480</td>\n",
       "    </tr>\n",
       "    <tr>\n",
       "      <th>10</th>\n",
       "      <td>44897.959184</td>\n",
       "      <td>0.456072</td>\n",
       "      <td>0.281728</td>\n",
       "      <td>0.372273</td>\n",
       "    </tr>\n",
       "    <tr>\n",
       "      <th>11</th>\n",
       "      <td>49387.755102</td>\n",
       "      <td>0.451602</td>\n",
       "      <td>0.288407</td>\n",
       "      <td>0.391042</td>\n",
       "    </tr>\n",
       "    <tr>\n",
       "      <th>12</th>\n",
       "      <td>53877.551020</td>\n",
       "      <td>0.461087</td>\n",
       "      <td>0.279264</td>\n",
       "      <td>0.373798</td>\n",
       "    </tr>\n",
       "    <tr>\n",
       "      <th>13</th>\n",
       "      <td>58367.346939</td>\n",
       "      <td>0.469905</td>\n",
       "      <td>0.270644</td>\n",
       "      <td>0.341670</td>\n",
       "    </tr>\n",
       "    <tr>\n",
       "      <th>14</th>\n",
       "      <td>62857.142857</td>\n",
       "      <td>0.461197</td>\n",
       "      <td>0.279282</td>\n",
       "      <td>0.398030</td>\n",
       "    </tr>\n",
       "    <tr>\n",
       "      <th>15</th>\n",
       "      <td>67346.938776</td>\n",
       "      <td>0.480583</td>\n",
       "      <td>0.271864</td>\n",
       "      <td>0.417322</td>\n",
       "    </tr>\n",
       "    <tr>\n",
       "      <th>16</th>\n",
       "      <td>71836.734694</td>\n",
       "      <td>0.468033</td>\n",
       "      <td>0.270205</td>\n",
       "      <td>0.427869</td>\n",
       "    </tr>\n",
       "    <tr>\n",
       "      <th>17</th>\n",
       "      <td>76326.530612</td>\n",
       "      <td>0.460169</td>\n",
       "      <td>0.273277</td>\n",
       "      <td>0.405162</td>\n",
       "    </tr>\n",
       "    <tr>\n",
       "      <th>18</th>\n",
       "      <td>80816.326531</td>\n",
       "      <td>0.475759</td>\n",
       "      <td>0.258388</td>\n",
       "      <td>0.424669</td>\n",
       "    </tr>\n",
       "    <tr>\n",
       "      <th>19</th>\n",
       "      <td>85306.122449</td>\n",
       "      <td>0.505846</td>\n",
       "      <td>0.247591</td>\n",
       "      <td>0.349006</td>\n",
       "    </tr>\n",
       "    <tr>\n",
       "      <th>20</th>\n",
       "      <td>89795.918367</td>\n",
       "      <td>0.485888</td>\n",
       "      <td>0.250038</td>\n",
       "      <td>0.442487</td>\n",
       "    </tr>\n",
       "    <tr>\n",
       "      <th>21</th>\n",
       "      <td>94285.714286</td>\n",
       "      <td>0.507817</td>\n",
       "      <td>0.246693</td>\n",
       "      <td>0.425742</td>\n",
       "    </tr>\n",
       "    <tr>\n",
       "      <th>22</th>\n",
       "      <td>98775.510204</td>\n",
       "      <td>0.486828</td>\n",
       "      <td>0.254242</td>\n",
       "      <td>0.410957</td>\n",
       "    </tr>\n",
       "    <tr>\n",
       "      <th>23</th>\n",
       "      <td>103265.306122</td>\n",
       "      <td>0.508068</td>\n",
       "      <td>0.236977</td>\n",
       "      <td>0.375554</td>\n",
       "    </tr>\n",
       "    <tr>\n",
       "      <th>24</th>\n",
       "      <td>107755.102041</td>\n",
       "      <td>0.506166</td>\n",
       "      <td>0.246554</td>\n",
       "      <td>0.427081</td>\n",
       "    </tr>\n",
       "    <tr>\n",
       "      <th>25</th>\n",
       "      <td>112244.897959</td>\n",
       "      <td>0.493029</td>\n",
       "      <td>0.251642</td>\n",
       "      <td>0.380368</td>\n",
       "    </tr>\n",
       "    <tr>\n",
       "      <th>26</th>\n",
       "      <td>116734.693878</td>\n",
       "      <td>0.476342</td>\n",
       "      <td>0.255027</td>\n",
       "      <td>0.371280</td>\n",
       "    </tr>\n",
       "    <tr>\n",
       "      <th>27</th>\n",
       "      <td>121224.489796</td>\n",
       "      <td>0.498147</td>\n",
       "      <td>0.236925</td>\n",
       "      <td>0.424712</td>\n",
       "    </tr>\n",
       "    <tr>\n",
       "      <th>28</th>\n",
       "      <td>125714.285714</td>\n",
       "      <td>0.476313</td>\n",
       "      <td>0.249644</td>\n",
       "      <td>0.355673</td>\n",
       "    </tr>\n",
       "    <tr>\n",
       "      <th>29</th>\n",
       "      <td>130204.081633</td>\n",
       "      <td>0.479220</td>\n",
       "      <td>0.257324</td>\n",
       "      <td>0.419672</td>\n",
       "    </tr>\n",
       "    <tr>\n",
       "      <th>30</th>\n",
       "      <td>134693.877551</td>\n",
       "      <td>0.470906</td>\n",
       "      <td>0.249311</td>\n",
       "      <td>0.381958</td>\n",
       "    </tr>\n",
       "    <tr>\n",
       "      <th>31</th>\n",
       "      <td>139183.673469</td>\n",
       "      <td>0.495696</td>\n",
       "      <td>0.235298</td>\n",
       "      <td>0.353450</td>\n",
       "    </tr>\n",
       "    <tr>\n",
       "      <th>32</th>\n",
       "      <td>143673.469388</td>\n",
       "      <td>0.505793</td>\n",
       "      <td>0.224136</td>\n",
       "      <td>0.399837</td>\n",
       "    </tr>\n",
       "    <tr>\n",
       "      <th>33</th>\n",
       "      <td>148163.265306</td>\n",
       "      <td>0.453241</td>\n",
       "      <td>0.258426</td>\n",
       "      <td>0.323854</td>\n",
       "    </tr>\n",
       "    <tr>\n",
       "      <th>34</th>\n",
       "      <td>152653.061224</td>\n",
       "      <td>0.477970</td>\n",
       "      <td>0.227335</td>\n",
       "      <td>0.373931</td>\n",
       "    </tr>\n",
       "    <tr>\n",
       "      <th>35</th>\n",
       "      <td>157142.857143</td>\n",
       "      <td>0.520589</td>\n",
       "      <td>0.197887</td>\n",
       "      <td>0.301297</td>\n",
       "    </tr>\n",
       "    <tr>\n",
       "      <th>36</th>\n",
       "      <td>161632.653061</td>\n",
       "      <td>0.613553</td>\n",
       "      <td>0.126106</td>\n",
       "      <td>0.310328</td>\n",
       "    </tr>\n",
       "    <tr>\n",
       "      <th>37</th>\n",
       "      <td>166122.448980</td>\n",
       "      <td>0.695026</td>\n",
       "      <td>0.117874</td>\n",
       "      <td>0.212953</td>\n",
       "    </tr>\n",
       "    <tr>\n",
       "      <th>38</th>\n",
       "      <td>170612.244898</td>\n",
       "      <td>0.605350</td>\n",
       "      <td>0.225374</td>\n",
       "      <td>0.287225</td>\n",
       "    </tr>\n",
       "    <tr>\n",
       "      <th>39</th>\n",
       "      <td>175102.040816</td>\n",
       "      <td>0.585072</td>\n",
       "      <td>0.162777</td>\n",
       "      <td>0.822125</td>\n",
       "    </tr>\n",
       "    <tr>\n",
       "      <th>40</th>\n",
       "      <td>179591.836735</td>\n",
       "      <td>0.817694</td>\n",
       "      <td>0.056600</td>\n",
       "      <td>0.169444</td>\n",
       "    </tr>\n",
       "    <tr>\n",
       "      <th>41</th>\n",
       "      <td>184081.632653</td>\n",
       "      <td>NaN</td>\n",
       "      <td>NaN</td>\n",
       "      <td>NaN</td>\n",
       "    </tr>\n",
       "    <tr>\n",
       "      <th>42</th>\n",
       "      <td>188571.428571</td>\n",
       "      <td>NaN</td>\n",
       "      <td>NaN</td>\n",
       "      <td>NaN</td>\n",
       "    </tr>\n",
       "    <tr>\n",
       "      <th>43</th>\n",
       "      <td>193061.224490</td>\n",
       "      <td>NaN</td>\n",
       "      <td>NaN</td>\n",
       "      <td>NaN</td>\n",
       "    </tr>\n",
       "    <tr>\n",
       "      <th>44</th>\n",
       "      <td>197551.020408</td>\n",
       "      <td>NaN</td>\n",
       "      <td>NaN</td>\n",
       "      <td>NaN</td>\n",
       "    </tr>\n",
       "    <tr>\n",
       "      <th>45</th>\n",
       "      <td>202040.816327</td>\n",
       "      <td>NaN</td>\n",
       "      <td>NaN</td>\n",
       "      <td>NaN</td>\n",
       "    </tr>\n",
       "    <tr>\n",
       "      <th>46</th>\n",
       "      <td>206530.612245</td>\n",
       "      <td>NaN</td>\n",
       "      <td>NaN</td>\n",
       "      <td>NaN</td>\n",
       "    </tr>\n",
       "    <tr>\n",
       "      <th>47</th>\n",
       "      <td>211020.408163</td>\n",
       "      <td>NaN</td>\n",
       "      <td>NaN</td>\n",
       "      <td>NaN</td>\n",
       "    </tr>\n",
       "    <tr>\n",
       "      <th>48</th>\n",
       "      <td>215510.204082</td>\n",
       "      <td>NaN</td>\n",
       "      <td>NaN</td>\n",
       "      <td>NaN</td>\n",
       "    </tr>\n",
       "  </tbody>\n",
       "</table>\n",
       "</div>"
      ],
      "text/plain": [
       "             lags   envhigh    envlow  variogram\n",
       "0        0.000000  0.493957  0.232742   0.319624\n",
       "1     4489.795918  0.482763  0.261160   0.305599\n",
       "2     8979.591837  0.481754  0.259424   0.337892\n",
       "3    13469.387755  0.437602  0.286370   0.352717\n",
       "4    17959.183673  0.451231  0.285533   0.356507\n",
       "5    22448.979592  0.441574  0.283620   0.359633\n",
       "6    26938.775510  0.456625  0.272039   0.335856\n",
       "7    31428.571429  0.445692  0.288721   0.376069\n",
       "8    35918.367347  0.430606  0.293097   0.373970\n",
       "9    40408.163265  0.445407  0.286467   0.391480\n",
       "10   44897.959184  0.456072  0.281728   0.372273\n",
       "11   49387.755102  0.451602  0.288407   0.391042\n",
       "12   53877.551020  0.461087  0.279264   0.373798\n",
       "13   58367.346939  0.469905  0.270644   0.341670\n",
       "14   62857.142857  0.461197  0.279282   0.398030\n",
       "15   67346.938776  0.480583  0.271864   0.417322\n",
       "16   71836.734694  0.468033  0.270205   0.427869\n",
       "17   76326.530612  0.460169  0.273277   0.405162\n",
       "18   80816.326531  0.475759  0.258388   0.424669\n",
       "19   85306.122449  0.505846  0.247591   0.349006\n",
       "20   89795.918367  0.485888  0.250038   0.442487\n",
       "21   94285.714286  0.507817  0.246693   0.425742\n",
       "22   98775.510204  0.486828  0.254242   0.410957\n",
       "23  103265.306122  0.508068  0.236977   0.375554\n",
       "24  107755.102041  0.506166  0.246554   0.427081\n",
       "25  112244.897959  0.493029  0.251642   0.380368\n",
       "26  116734.693878  0.476342  0.255027   0.371280\n",
       "27  121224.489796  0.498147  0.236925   0.424712\n",
       "28  125714.285714  0.476313  0.249644   0.355673\n",
       "29  130204.081633  0.479220  0.257324   0.419672\n",
       "30  134693.877551  0.470906  0.249311   0.381958\n",
       "31  139183.673469  0.495696  0.235298   0.353450\n",
       "32  143673.469388  0.505793  0.224136   0.399837\n",
       "33  148163.265306  0.453241  0.258426   0.323854\n",
       "34  152653.061224  0.477970  0.227335   0.373931\n",
       "35  157142.857143  0.520589  0.197887   0.301297\n",
       "36  161632.653061  0.613553  0.126106   0.310328\n",
       "37  166122.448980  0.695026  0.117874   0.212953\n",
       "38  170612.244898  0.605350  0.225374   0.287225\n",
       "39  175102.040816  0.585072  0.162777   0.822125\n",
       "40  179591.836735  0.817694  0.056600   0.169444\n",
       "41  184081.632653       NaN       NaN        NaN\n",
       "42  188571.428571       NaN       NaN        NaN\n",
       "43  193061.224490       NaN       NaN        NaN\n",
       "44  197551.020408       NaN       NaN        NaN\n",
       "45  202040.816327       NaN       NaN        NaN\n",
       "46  206530.612245       NaN       NaN        NaN\n",
       "47  211020.408163       NaN       NaN        NaN\n",
       "48  215510.204082       NaN       NaN        NaN"
      ]
     },
     "execution_count": 127,
     "metadata": {},
     "output_type": "execute_result"
    }
   ],
   "source": [
    "meanvg.envelope"
   ]
  },
  {
   "cell_type": "code",
   "execution_count": null,
   "metadata": {
    "collapsed": true
   },
   "outputs": [],
   "source": []
  }
 ],
 "metadata": {
  "kernelspec": {
   "display_name": "Django Shell-Plus",
   "language": "python",
   "name": "django_extensions"
  },
  "language_info": {
   "codemirror_mode": {
    "name": "ipython",
    "version": 2
   },
   "file_extension": ".py",
   "mimetype": "text/x-python",
   "name": "python",
   "nbconvert_exporter": "python",
   "pygments_lexer": "ipython2",
   "version": "2.7.11"
  }
 },
 "nbformat": 4,
 "nbformat_minor": 0
}
